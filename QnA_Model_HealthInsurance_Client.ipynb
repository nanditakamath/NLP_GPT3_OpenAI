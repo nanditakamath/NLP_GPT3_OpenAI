{
  "cells": [
    {
      "cell_type": "code",
      "execution_count": null,
      "metadata": {
        "id": "Zj_beMaJx2vh"
      },
      "outputs": [],
      "source": [
        "list_comprehensive=[\"When health issues can't be predicted health insurance is the best option availaEle to overcome the heavy financial loss that occurs in the form of hospitalization and medical expenses. The right decision of purchasing a health insurance policy should complement the wise move of picking the right one. Precise to say having a policy that offers complete protection is more essential than just having a health insurance cover. Presenting STAR Comprehensive ,Insurance Policy with renewed features and lots of benefits. This policy is carefully crafted to offer complete protection against all health care eventualities for an entire family on individual and floater Easis. Eligibility: Entry age between 3 months and 65 years, lifelong renewals guaranteed ,no exit age, Policy Type - Individual/Floater (Family size: Maximum 2 adults + 3 dependent children) ,Dependent children those who are economically dependent on their parents can be covered upto 25 years of age. Sum Insured options Rs.500000 ; Rs.750000 ; Rs.1000000; Rs.1500000; Rs.2000000 ; Rs.2500000 ; Rs.5000000 ; Rs.7500000 ; Rs.10000000. Policy Term: 1 year/2 year/3 year . For policies more than one year the basic sum insured is for each year without any carry over benefit thereof. Instalment Facility available: Premium can be paid Quarterly and Half-yearly. Premium can also be paid Annually, Biennial (Once in 2 years) and Triennial (Once in 3 years). Quarterly - 3% | Half Yearly - 2% (will be applicable on the annual premium). Pre-acceptance medical screening: No Pre-acceptance medical screening. Day Care Procedures: All Day Care Procedures are covered.Midterm inclusion of newly married / wedded spouse and New Born Baby is permissible on paying additional premium. The intimation about the marriage / new born should be given within 60 days from the date of marriage or new born. The cover will be from the date of payment of premium.\",\n",
        " \"Coverage (Section 1): A. Hospitalisation cover: Room (Private Single A/C room), Boarding and Nursing Expenses. Note: Hospitalization Expenses which vary based on the room rent occupied by the insured person will be considered in proportion to the room rent limit /room category stated in the policy schedule or actuals whichever is less. B. Surgeon, Anesthetist, Medical Practitioner, Consultants, Specialist Fees. C. Anesthesia, Blood, Oxygen, Operation Theatre charges, ICU charges, Surgical Appliances, Medicines and Drugs, Diagnostic Materials and X-ray, diagnostic imaging modalities, Dialysis, Chemotherapy, Radiotherapy, cost of Pacemaker. D. Road ambulance expenses: Subject to an admissible hospitalization claim, road ambulance expenses incurred for the following (any one) are payable; i. for transportation of the insured person by private ambulance service to go to hospital when this is needed for medical reasons. ii for transportation of the insured person by private ambulance service from one hospital to another hospital for better medical treatment. iii. for transportation of the insured person from the hospital where treatments taken to their place of residence provided the requirement ofan ambulance to the residence is certified by the medical practitioner. E. Air Ambulance expenses up to Rs.2,50,000/- per hospitalization, not exceeding Rs.5,00,000/- per policy period. F. Pre-Hospitalization medical expenses incurred for a period not exceeding 60 days prior to the date of hospitalization. G. Post Hospitalization medical expenses incurred fora period up to 90 days from the date of discharge from the hospital. H. Outpatient Medical Consultation: Expenses on Medical Consultations as an Out Patient incurred in a Networked Facility for other than Dental and Ophthalmic treatments, up to the limits mentioned in the schedule of benefits with a limit of Rs.300/- per consultation. This benefit will not reduce the sum insured. Note: Payment ofany claim under Outpatient Medical Consultation shall not be construed as a waiver of Company's right to repudiate any claim on grounds of non disclosure of material fact or pre-existing disease, for hospitalization expenses under hospitalization provisions of the policy contract. I. Domiciliary hospitalization: Coverage for medical treatment (including AYUSH) for a period exceeding three days, for an illness/disease/injury, which in the normal course, would require care and treatment at a Hospital but, on the advice of the attending Medical Practitioner, is taken whilst confined at home under any of the following circumstances; i. The condition ofthe patient is such that he/sheis not ina condition to be removed to a Hospital, or ii.The patient takes treatment at home on account of non-availability of room ina hospital. However, this benefit shall not coverAsthma, Bronchitis, Chronic Nephritis and Nephritic Syndrome, Diarrhoeaand all types of Dysenteries including Gastro-enteritis, Diabetes Mellitus and Insipidus, Epilepsy, Hypertension, Influenza, Cough and Cold, all Psychiatric or Psychosomatic Disorders, Pyrexia of unknown origin for less than 10 days, Tonsillitis and Upper Respiratory Tract infection including Laryngitis and Pharingitis, Arthritis, Goutand Rheumatism. \",\n",
        " 'Delivery and New Born (Section 2): A. Expenses incurred as in-patient for Delivery including Delivery by Caesarean section. B. Treatment ofthe New Born. C Vaccination expenses for the new born baby are payable up to the limits mentioned in the schedule of Benefits, until the new born baby completes one year of age and is added in the policy on renewal. Claim under this is admissible only if claim under A of Section-2 above has been admitted and while the policy is in force. Coverage under this section is subjectto a waiting period of 24months and payable only while the policyis in force.',\n",
        " \"Out-patient Dental and Ophthalmic Treatment (Section 3): Expenses incurred on acute treatment to a natural tooth or teeth or Eye are payable, once in every block of 3 years of continuous coverage. The treatment can be taken as an Outpatient. For limits please refer schedule of Benefits. Thisis in addition to sum insured. Note: Payment of any claim under this section shall not be construed as a waiver of Company's right to repudiate any claim on grounds of non disclosure of material fact or pre-existing disease, for hospitalization expenses under hospitalization provisions of the policy contract.\",\n",
        " 'OrganDonor Expenses (Section 4}: In patient hospitalization expenses incurred for organ transplantation from the Donor to the Recipient Insured Person are payable provided the claim for transplantation is payable. In addition, the expenses incurred by the Donor, (if any) for the complications that necessitate a Redo Surgery/ ICU admission will be covered.The coverage limit under this section is over and above the Limit of Coverage and up to the Basic Sum Insured. This additional Sum Insured can be utilized by the Donor and not by the Insured.',\n",
        " 'Hospital Cash Benefit (Section 5): Payable for each completed day of Hospitalisation up to 7 days per occurrence and maximum of 120 days during the entire policy period. This benefit is subject to an excess of first 24 hours of Hospitalization for each and every claim. Claims under this section will not reduce the Sum Insured.',\n",
        " 'HealthCheck Up (Section6): This Benefitis payable for every claim free yearup  to the limits mentionedin the schedule of benefits.',\"Star Advantages are No Third Party Administrator, direct in-house claims settlement Faster and hassle-free claim settlement Cashless hospitalization\"\n",
        " 'Bariatric Surgery (Section 7): a) The expenses incurred on hospitalization for bariatric surgical procedure and its complications thereof are payable upto the limits mentioned in the schedule of Benefits, during the policy period, b) — Thismaximumlimitof Rs.2,50,000/- and Rs.5,00,000/-are inclusive of pre-hospitalizationand post hospitalization expenses, c)  Thelimit of cover for Bariatric Surgery forms part of sum insured under Section 1, d) Coverage under this sectionis subjectto a waiting period of 36 months and payable only while the policy is in force',\n",
        " \"Option for Second Medical Opinion (Section 8): The Insured Person is given the facility of obtaining a Second Medical Opinion from a Doctor in the Company's network of Medical Practitioners. To utilized this benefit all medical records should be forwarded to the mail id e_medicalopinion@starhealth.in.\",\n",
        " 'AYUSH Treatment (Section 9): In patient hospitalization expenses incurred on treatment under Ayurveda, Unani, Sidha and Homeopathy systems of medicines in a Government Hospital or in any institute recognized by the government and/or accredited by the Quality Council of India/National Accreditation Board on Health as in patient is payable up to the limits mentioned in the Schedule of Benefits. Note: 1) Payment under this benefit forms part of the sum insured and also will impact the Bonus; 2) Yogaand Naturopathy systems of treatment are excluded from the scope of coverage under AYUSH treatment',\n",
        " 'SPECIAL FEATURES: Star Wellness Program (Section 11}: This program intends to promote, incentivize and to reward the Insured Persons’ healthy life style through various wellness activities. The wellness activities as detailed in the website are designed to help the Insured person to earn wellness reward points which will be tracked and monitored by the Company. The wellness points eamed by the Insured Person(s) under the wellness program, can be utilized to get discount in premium. The following table shows the discount on premium available under the Wellness Program: (wellness points: 200 to 350 => discount in premium 2%), (wellness points: 351 to 600 => discount in premium 5%), (wellness points: 601 to 750 => discount in premium 7%), (wellness points: 751 to 1000 => discount in premium 10%)',\n",
        " \"SPECIAL FEATURES: Buy Back Pre-Existing Disease (Section 12): The prospect has the option to opt for reduction of waiting period in respect of Pre-Existing Diseases from 36 months to12 months on payment of additional premium. This option is available only if the first purchase of an indemnity insurance policy is a Star Comprehensive Insurance Policy and also only upto Sum Insured chosen at that time. This option is not available for renewal or policies ported from other Insurance Companies. The prospect has to undergo pre-acceptance medical screening at Company's nominated centre. At present 100% of cost of the pre-acceptance medical screening will be bome by the Company. The Company may require the prospect to share this cost (maximum 50%).\",\n",
        " 'Coverage for Modern Treatments (Section 13): Expenses are subject to the limits. (For details please refer website: www.starhealth in)',\n",
        " 'Automatic Restoration of Sum Insured (Applicable for Section 1 Only}: There shall be automatic restoration of the Basic Sum Insured by 100% immediately upon exhaustion of the Basic Sum Insured and accrued Cumulative Bonus if any, once during the policy period. It is made clear that such restored Sum Insured can be utilized for the subsequent hospitalization even for the illness /disease for which claim/s was / were already made. Such restoration willbe available for section 1 otherthan Section 1H. This benefit is not available for Modem Treatments.',\n",
        " \"Cumulative Bonus (Applicable for Section 1 other than 1H, Section 4, Section 7, Section 9, Section 12 and Section 13}: Where the sum insured under the policyis Rs.5,00,000/-, the insured person would be entitled to the benefit of Cumulative Bonus calculated at 50% of the basic sum insured under this policy following after every claim free year up to a maximum of 100%. Where the sum insured under the policy is Rs.7,50,000/-or above, the insured person would be entitled to the benefit of Cumulative Bonus calculated at 100% of the basic sum insured under this policy following a claim free year. The maximum benefit of bonus is 100% of the basic sum insured. Special Conditions for Cumulative Bonus: 1. The Cumulative Bonus will be calculated on the expiring Basic Sum Insured or on the renewed Basic Sum Insured whichever is less, 2. Ifthe insured opts to reduce the Basic Sum Insured at the subsequent renewal, the limit of indemnity by way of such Cumulative Bonus shall not exceed such reduced basic sum insured, 3. In the event ofa claim resulting in: i. Partial utilization of Basic Sum Insured, such cumulative bonus so granted will be reduced at the same rate at which it has accrued, ii.Fullutilization of Basic Sum Insured and nil utilization of cumulative bonus accrued, such cumulative bonus so granted will be reduced atthe same rate at whichit has accrued, iii. Full utilization of Basic Sum Insured and partial utilization of cumulative bonus accrued, the cumulative bonus granted on renewal will be the balance cumulative bonus available and will be reduced at the same rate at whichithas accrued, iv. Full utilization of Basic Sum Insured and full utilization of cumulative bonus accrued, the cumulative bonus granted on renewal willbe 'nil' or 'zero'.\",\n",
        " 'Possibility of Revision of Terms of the Policy Including the Premium Rates: The Company, with prior approval of IRDAI, may revise or modify the terms of the policy including the premium rates. The insured person shall be notified three months before the changes are effected.',\n",
        " \"Revision in Sum Insured: Any revision in sum insured is permissible only atthe time of renewal. The Insured Person can propose such revision and may be allowed subject to Company's approval and payment of appropriate premium.\",\n",
        " 'Free Look Period: The Free Look Period shall be applicable on new individual health insurance policies and not on renewals or at the time of porting/migrating the policy. The insured person shall be allowed free look period of fifteen days from date of receipt of the policy document to review the terms and conditions ofthe policy, andto retum the same ifnot acceptable. If the insured has not made any claim during the Free Look Period, the insured shall be entitled to; i. arefund of the premium paid less any expenses incurred by the Company on medical examination of the insured person and the stamp duty charges or; ii. where the risk has already commenced and the option of return of the policy is exercised by the insured person, a deduction towards the proportionate risk premium for period of cover or; iii. where onlya part ofthe insurance coverage has commenced, such proportionate premium commensurate with the insurance coverage during such period',\n",
        " ' Disclosure to information norms: The policy shall become void and all premium paid thereon shall be forfeited to the Company, in the event of mis-representation, mis description or non-disclosure of any material fact by the policy holder.',\n",
        " 'Cancellation: The policyholder may cancel this policy by giving 15 days written notice and in such an event, the Company shall refund premium for the unexpired policy period as detailed in the tables given in brochure. Refer to the website. No refunds of premium shall be made in respect of cancellation wheree any claim has been admitted or has been lodged or any benefit has been availed by the insured person under the policy. The company may cancel the policy at any time on grounds of misrepresentation, non-disclosure of material facts, fraud by the insured person by giving 15 days written notice. There would be no refund of premium on cancellation on grounds of misrepresentation, non-disclosure of material facts or fraud',\n",
        " 'Withdrawal of the policy: In the likelihood of this product being withdrawn in future, the Company will intimate the insured person about the same 90 days prior to expiry of the policy. Insured Person will have the option to migrate to similar health insurance product available with the Company at the time of renewal with all the accrued continuity benefits such as cumulative bonus, waiver of waiting period as per IRDAI guidelines, provided the policy has been maintained without a break.',\n",
        " 'Automatic Expiry: The insurance under this policy with respect to each relevant Insured Person shall expire immediately on the earlier of the following events; Upon the death of the Insured Person. This also means that in case of family floater policy, cover for the other surviving members of the family will continue, subject to other terms of the policy; Upon exhaustion of the Limit of Coverage.',\n",
        " 'Moratorium Period: After completion of eight continuous years under the policy no look back to be applied. This period of eight years is called as moratorium period. The moratorium would be applicable for the sums insured of the first policy and subsequently completion of 8 continuous years would be applicable from date of enhancement of sums insured only on the enhanced limits. After the expiry of Moratorium Period no health insurance claim shall be contestable except for proven fraud and permanent exclusions specified in the policy contract. The policies would however be subject to all limits, sub limits, co-payments, deductibles as per the policy contract.',\n",
        " \"Information about the Company: Star Health and Allied Insurance Co. Ltd., commenced its operations in 2006 as India's first Standalone Health Insurance provider. As an exclusive Health Insurer, the Company is providing sterling services in Health, Personal Accident & Overseas Travel Insurance and is committed to setting international benchmarks in service and personal caring.\",\n",
        " 'Claim Procedure, claim insurance, steps to claim, claiming, Call the 24 hour help-line for assistance - 1800 425 2255/1800 1024477. Inform the ID number for easy reference. On admission in the hospital, produce the ID Card issued by the Company at the Hospital Helpdesk. Obtain the Pre-authorisation Form from the Hospital Help Desk, complete the Patient Information and resubmit to the Hospital Help Desk. In case of emergency hospitalization, information to be given within 24 hours after hospitalization. In non-network hospitals payment must be made up-front and then reimbursement will be effected on submission of documents.',\n",
        " 'Renew policy insurance, Renewal: The policy shall ordinarily be renewable except on grounds of fraud, misrepresentation by the Insured Person; 1. The Company shall endeavor to give notice for renewal. However, it is not under obligation to give any Notice for renewal; 2. Renewal shall notbe denied on the ground that the insured person had made claims in the preceding policy years; 3. Request for renewal along with requisite premium shall be received before the end of the policy period; 4. At the end of the policy period, the policy shall terminate and can be renewed within the Grace Period of 30 days to maintain continuity of benefits without breakin policy, if done after 30 days, continuity benefits cannot be maintained; 5. Coverage is not available during the grace period; 6. No loading shall apply on renewals based on individual claims experience',\n",
        " 'Co-Payment: This policy is subject to Co-payment of 10% of each and every claim amount for fresh as well as renewal policies for insured persons whose age at the time of entry is 6/years and above. This co-payment will not apply for those insured persons who have entered the policy before attaining 61 years of age and renew the policy continuously without any break. This co-payments applicable for Section 1A to 1G, 11, 4, 7, 9, 12 and 13.',\n",
        " 'Waiting period: Coverage under section 2 is subject to a waiting period of 24 months and payable only while the policyis in force and for section 7, it is 36 months.',\n",
        " 'I am 70 years old , am i eligible to take comprehensive policy? Entry Age range is 3 months to 65 years. There is no exit age. So above 65 years, you cannot enter but once you enter , you will be covered till lifetime. ',\n",
        " 'What is exclusion? What are exclusions? What are all excluded from policy? The Company shall not be liable to make any payments under this policy in respect of any expenses that so ever incurred by the insured person in connection with or in respect of. How many exclusions are there? 38 exclusions and 15 under section B. The 38 exclusions are Pre-existing diseases; specified disease/procedure waiting period; 30-day waiting period; investigation & evaluation; rest cure, rehabilitation and respite care; obesity/weight control; change of gender treatments; cosmetic or plastic surgery; hazardous or adventure sports; breach of law; excluded providers; alcohol/drug substance abuse/addictive condition; dietary supplements and substances; treatments recieved in health hydros,nature clinics, spas; refractive error; unproven treatments; sterility & infertility; maternity; circumcision(unless necessary for treatment of a disease not excluded under this policy or necessitated due to an accident); congenital external condition/ defects/ anomalies (except to extent provided under section 2 for new born babies.); intentional self injury; venereal disease and STD(except HIV); convalescence, general debility, run-down condition, nutritional deficiency states; injury due to nuclear weapons/materials, war, invasion;Enhanced External counter pulsation therapy; unconventional therapies; biologicals except when administered as an in patient;autologous derived stromal vascular fraction, Chondrocyte implantation, procedures using platelet rich plasma and intra articular injection therapy; priapism and erectile dysfunctions; inoculation or vaccination except for post-bite treatment and for medical treatment for therapeutic reasons;dental treatment or surgery in excess; sleep apnea, treatment for endocrine disorders;hospital registration charges, admission charges, record charges, telephone charges; cochlear implants and procedure related hospitalization expenses; hospitali\\ue05dations which are not medically necessary;other Excluded Expenses as detailed in the website;Existing diseases. ',\n",
        " \"Accidental Death and Permanent Total Disablement (Section 10): 1. Accidental Death, 2. Permanent Total Disability following an accident, 3. Dependent children and persons above 70 years can be covered under accidental death and permanent total disablement upto the sum insured of Rs.10,00,000/-(The sum insured for this cover is separately indicated in schedule of benefits. Cover is available for one insured person opted by the proposer). Exclusions : Any claim relating to events occurring before the commencement of the cover or otherwise outside the Period of Insurance. Any injuries/conditions which are Pre-existing conditions. Any claim arising out ofAccidents thatthe Insured Person has caused intentionally or by committing a crime/involved in it or as a result of/in a state of drunkenness or addiction (drugs, alcohol). Insured Person engaging in Air Travel unless he/she flies as a fare-paying passenger on an aircraft properly licensed to carry passengers. For the purpose of this exclusion Air Travel means being in or on or boarding an aircraft for the purpose of flying therein or alighting there from. Accidents that are results of war and warlike occurrence or invasion, acts of foreign enemies, hostilities, civil war, rebellion, insurrection, civil commotion assuming the proportions of or amounting to an uprising, military or usurped power, seizure capture arrest restraints detainments of all kings princes and people of whatever nation, condition or quality whatsoever. Participation in riots, confiscation or nationalization or requisition of or destruction of or damage to property by or under the orderofany government orlocal authority. Any claim resulting or arising from or any consequential loss directly or indirectly caused by or contributed to or arising from: a) lonizing radiation or contamination by radioactivity from any nuclear fuel or from any nuclear waste from the combustion of nuclear fuel or from any nuclear waste from combustion (including any self sustaining process of nuclear fission) of nuclear fuel, b) Nuclear weapons material, c)  Theradioactive, toxic, explosive or other hazardous properties of any explosive nuclear assembly or nuclear component thereof, d) Nuclear, chemical and biological terrorism. Any claim arising out of sporting activities in so far as they involve the training or participation in competitions of professional or semi-professional sports persons. Participation in Hazardous Sport / Hazardous Activitie. Persons who are physically challenge unless specifically agreed and endorsedin the policy. Anyloss arising out of the Insured Person's actual or attempted commission of or willful participation in an illegal act orany violation or attempted violation of the law. Any paymentin case of more than one claim under the policy during the period of insurance by which the maximum liability ofthe Company in that period would exceed the amount specified in the Schedule. Any other claim after a claim has been admitted by the Company and becomes payable for Death or Permanent Total Disablement, as mentioned In Table. Any claim arising out of an accident related to pregnancy or childbirth, infirmity, whether directly or indirectly. Any claim for Death or Permanent Total Disablement ofthe Insured Person from self-endangerment unless in self-defense orto save human life.\",\n",
        " \"Portability: The insured person will have the option to port the policy to other insurers by applying to such insurer to port the entire policy along with all the members of the family, if any, at least 45 days before, but not earlier than 60 days from the policy renewal date as per IRDAI guidelines related to portability. If such person is presently covered and has been continuously covered without any lapses under any health insurance policy with an Indian General/Health insurer, the proposed insured person will get the accrued continuity benefits in waiting periods as per IRDAI guidelines on portability.\",\n",
        " \"Migration: The insured person will have the option to migrate the policy to other health insurance products/plans offered by the company by applying for migration of the Policy atleast 30 days before the policy renewal date as per IRDAI guidelines on Migration. If such person is presently covered and has been continuously covered without any lapses under any health insurance product/plan offered by the company, the insured person will get the accrued continuity benefits in waiting periods as per IRDAI guidelines on migration.\",\n",
        " \"Instalment Premium Options: If the insured person has opted for payment of Premium on an instalment basis i.e. Half Yearly or Quarterly as mentioned in the policy Schedule/Certificate of Insurance, the following Conditions shall apply (notwithstanding any terms contrary elsewhere in the policy); i. Grace Period of 7 days would be given to pay the instalment premium due for the policy ii. During such grace period, coverage will not be available from the due date of instalment premium till the date of receipt of premium by Company iii. The insured person will get the accrued continuity benefit in respect of the 'Waiting Periods', 'Specific Waiting Periods' in the event of payment of premium within the stipulated grace Period iv. No interest will be charged If the instalment premium is not paid on due date V. In case of instalment premium due not received within the grace period, the policy will get cancelled vi. In the event of a claim, all subsequent premium instalments shall immediately become due and payable vii. The company has the right to recover and deduct all the pending installments from the claim amount due under the policy\"]"
      ]
    },
    {
      "cell_type": "code",
      "execution_count": null,
      "metadata": {
        "colab": {
          "base_uri": "https://localhost:8080/"
        },
        "id": "YZKFvYLuzJKw",
        "outputId": "f7072899-3b19-46ed-9c51-2e95b2e53138"
      },
      "outputs": [
        {
          "name": "stdout",
          "output_type": "stream",
          "text": [
            "Looking in indexes: https://pypi.org/simple, https://us-python.pkg.dev/colab-wheels/public/simple/\n",
            "Collecting sentence-transformers\n",
            "  Downloading sentence-transformers-2.2.0.tar.gz (79 kB)\n",
            "\u001b[K     |████████████████████████████████| 79 kB 4.9 MB/s \n",
            "\u001b[?25hCollecting rank_bm25\n",
            "  Downloading rank_bm25-0.2.2-py3-none-any.whl (8.6 kB)\n",
            "Collecting transformers<5.0.0,>=4.6.0\n",
            "  Downloading transformers-4.20.1-py3-none-any.whl (4.4 MB)\n",
            "\u001b[K     |████████████████████████████████| 4.4 MB 22.6 MB/s \n",
            "\u001b[?25hRequirement already satisfied: tqdm in /usr/local/lib/python3.7/dist-packages (from sentence-transformers) (4.64.0)\n",
            "Requirement already satisfied: torch>=1.6.0 in /usr/local/lib/python3.7/dist-packages (from sentence-transformers) (1.11.0+cu113)\n",
            "Requirement already satisfied: torchvision in /usr/local/lib/python3.7/dist-packages (from sentence-transformers) (0.12.0+cu113)\n",
            "Requirement already satisfied: numpy in /usr/local/lib/python3.7/dist-packages (from sentence-transformers) (1.21.6)\n",
            "Requirement already satisfied: scikit-learn in /usr/local/lib/python3.7/dist-packages (from sentence-transformers) (1.0.2)\n",
            "Requirement already satisfied: scipy in /usr/local/lib/python3.7/dist-packages (from sentence-transformers) (1.4.1)\n",
            "Requirement already satisfied: nltk in /usr/local/lib/python3.7/dist-packages (from sentence-transformers) (3.7)\n",
            "Collecting sentencepiece\n",
            "  Downloading sentencepiece-0.1.96-cp37-cp37m-manylinux_2_17_x86_64.manylinux2014_x86_64.whl (1.2 MB)\n",
            "\u001b[K     |████████████████████████████████| 1.2 MB 40.1 MB/s \n",
            "\u001b[?25hCollecting huggingface-hub\n",
            "  Downloading huggingface_hub-0.8.1-py3-none-any.whl (101 kB)\n",
            "\u001b[K     |████████████████████████████████| 101 kB 12.8 MB/s \n",
            "\u001b[?25hRequirement already satisfied: typing-extensions in /usr/local/lib/python3.7/dist-packages (from torch>=1.6.0->sentence-transformers) (4.1.1)\n",
            "Collecting tokenizers!=0.11.3,<0.13,>=0.11.1\n",
            "  Downloading tokenizers-0.12.1-cp37-cp37m-manylinux_2_12_x86_64.manylinux2010_x86_64.whl (6.6 MB)\n",
            "\u001b[K     |████████████████████████████████| 6.6 MB 37.6 MB/s \n",
            "\u001b[?25hRequirement already satisfied: filelock in /usr/local/lib/python3.7/dist-packages (from transformers<5.0.0,>=4.6.0->sentence-transformers) (3.7.1)\n",
            "Requirement already satisfied: importlib-metadata in /usr/local/lib/python3.7/dist-packages (from transformers<5.0.0,>=4.6.0->sentence-transformers) (4.11.4)\n",
            "Collecting pyyaml>=5.1\n",
            "  Downloading PyYAML-6.0-cp37-cp37m-manylinux_2_5_x86_64.manylinux1_x86_64.manylinux_2_12_x86_64.manylinux2010_x86_64.whl (596 kB)\n",
            "\u001b[K     |████████████████████████████████| 596 kB 54.8 MB/s \n",
            "\u001b[?25hRequirement already satisfied: regex!=2019.12.17 in /usr/local/lib/python3.7/dist-packages (from transformers<5.0.0,>=4.6.0->sentence-transformers) (2022.6.2)\n",
            "Requirement already satisfied: requests in /usr/local/lib/python3.7/dist-packages (from transformers<5.0.0,>=4.6.0->sentence-transformers) (2.23.0)\n",
            "Requirement already satisfied: packaging>=20.0 in /usr/local/lib/python3.7/dist-packages (from transformers<5.0.0,>=4.6.0->sentence-transformers) (21.3)\n",
            "Requirement already satisfied: pyparsing!=3.0.5,>=2.0.2 in /usr/local/lib/python3.7/dist-packages (from packaging>=20.0->transformers<5.0.0,>=4.6.0->sentence-transformers) (3.0.9)\n",
            "Requirement already satisfied: zipp>=0.5 in /usr/local/lib/python3.7/dist-packages (from importlib-metadata->transformers<5.0.0,>=4.6.0->sentence-transformers) (3.8.0)\n",
            "Requirement already satisfied: click in /usr/local/lib/python3.7/dist-packages (from nltk->sentence-transformers) (7.1.2)\n",
            "Requirement already satisfied: joblib in /usr/local/lib/python3.7/dist-packages (from nltk->sentence-transformers) (1.1.0)\n",
            "Requirement already satisfied: urllib3!=1.25.0,!=1.25.1,<1.26,>=1.21.1 in /usr/local/lib/python3.7/dist-packages (from requests->transformers<5.0.0,>=4.6.0->sentence-transformers) (1.24.3)\n",
            "Requirement already satisfied: idna<3,>=2.5 in /usr/local/lib/python3.7/dist-packages (from requests->transformers<5.0.0,>=4.6.0->sentence-transformers) (2.10)\n",
            "Requirement already satisfied: chardet<4,>=3.0.2 in /usr/local/lib/python3.7/dist-packages (from requests->transformers<5.0.0,>=4.6.0->sentence-transformers) (3.0.4)\n",
            "Requirement already satisfied: certifi>=2017.4.17 in /usr/local/lib/python3.7/dist-packages (from requests->transformers<5.0.0,>=4.6.0->sentence-transformers) (2022.6.15)\n",
            "Requirement already satisfied: threadpoolctl>=2.0.0 in /usr/local/lib/python3.7/dist-packages (from scikit-learn->sentence-transformers) (3.1.0)\n",
            "Requirement already satisfied: pillow!=8.3.*,>=5.3.0 in /usr/local/lib/python3.7/dist-packages (from torchvision->sentence-transformers) (7.1.2)\n",
            "Building wheels for collected packages: sentence-transformers\n",
            "  Building wheel for sentence-transformers (setup.py) ... \u001b[?25l\u001b[?25hdone\n",
            "  Created wheel for sentence-transformers: filename=sentence_transformers-2.2.0-py3-none-any.whl size=120747 sha256=a786da29d9886aedef45cd0842a703a3c8fc9f0ec30b69925673d405d766e230\n",
            "  Stored in directory: /root/.cache/pip/wheels/83/c0/df/b6873ab7aac3f2465aa9144b6b4c41c4391cfecc027c8b07e7\n",
            "Successfully built sentence-transformers\n",
            "Installing collected packages: pyyaml, tokenizers, huggingface-hub, transformers, sentencepiece, sentence-transformers, rank-bm25\n",
            "  Attempting uninstall: pyyaml\n",
            "    Found existing installation: PyYAML 3.13\n",
            "    Uninstalling PyYAML-3.13:\n",
            "      Successfully uninstalled PyYAML-3.13\n",
            "Successfully installed huggingface-hub-0.8.1 pyyaml-6.0 rank-bm25-0.2.2 sentence-transformers-2.2.0 sentencepiece-0.1.96 tokenizers-0.12.1 transformers-4.20.1\n"
          ]
        }
      ],
      "source": [
        "!pip install -U sentence-transformers rank_bm25"
      ]
    },
    {
      "cell_type": "code",
      "execution_count": null,
      "metadata": {
        "colab": {
          "base_uri": "https://localhost:8080/"
        },
        "id": "5ov55663yH9d",
        "outputId": "39a3738e-bbe5-4974-8f6b-4a30c10047bc"
      },
      "outputs": [
        {
          "name": "stderr",
          "output_type": "stream",
          "text": [
            "/usr/local/lib/python3.7/dist-packages/huggingface_hub/snapshot_download.py:11: FutureWarning: snapshot_download.py has been made private and will no longer be available from version 0.11. Please use `from huggingface_hub import snapshot_download` to import the only public function in this module. Other members of the file may be changed without a deprecation notice.\n",
            "  FutureWarning,\n"
          ]
        }
      ],
      "source": [
        "import os\n",
        "from sentence_transformers import util, SentenceTransformer, CrossEncoder\n",
        "from rank_bm25 import BM25Okapi\n",
        "from sklearn.feature_extraction import _stop_words\n",
        "import string\n",
        "from tqdm.autonotebook import tqdm\n",
        "import numpy as np"
      ]
    },
    {
      "cell_type": "code",
      "execution_count": null,
      "metadata": {
        "colab": {
          "base_uri": "https://localhost:8080/",
          "height": 520,
          "referenced_widgets": [
            "e704589eabb34ff9ad8e72f8cba7a7d1",
            "da309d1d89434e418e7ee4e29ddb7dc7",
            "e43f9b182dc240e8a3be527bacfd9612",
            "6db85b8bbed644ddaac21e21f60faca8",
            "f9d6dbb98f984c5cb361f304e0932759",
            "ad332488dc7b48eb8954d3687d45d8ef",
            "fe72412aa1644a7b92d50aecf4cd1e64",
            "bb562b96128d4b8fa41b1fd95d356f5b",
            "b467c81a3bc24979b176d13a05cbf585",
            "dece3698eb02459082c9bb468d8f3306",
            "c1a19971f2b447bf8952db59aed1eefe",
            "e8335a5527044272be3660856343f9fb",
            "df75b6048bd94bbaa39dae10ebce1d1f",
            "dc7a802d59d74961bcb7056e9ee1b8c6",
            "441cfcee2bb745af9f9dea6ae8669718",
            "c1f533e66ed94e989bf78137cd1f9429",
            "34579b2fd6574236aa62ea80143452e8",
            "08cfb162fde04b8088e9919870020b87",
            "aa86d91b133f456babf93f104cbd7333",
            "4b4e8dfcbf254f40923403f792402c86",
            "eba36cb6db09401f81ffa21e0734980c",
            "8ae6b1863c7544aab3b7ffc4bbe1c374",
            "46f33140571c4b2185392ffb557dea2d",
            "c36c7095e39e41da97f24c7290851be0",
            "a169f9be293847608d0fedd294b5ea81",
            "a89bf647928047149bde24a5216bf027",
            "9bc26e13053f467fa311a3a354ed86c1",
            "a4535eb9d069441a935275998f3b4b16",
            "ddaba011212e452092a3051ca71cf991",
            "2223cd4628ea49af899104800f3a5480",
            "f18a44929952446e8c15f6c9a1405127",
            "e4d8efa9d4fc48ccb88d74d0f2940b1e",
            "f6a674da43df49f78d7347d5fbd00b88",
            "f7823dc27b444bc1bff5622d3bed311d",
            "f54ac6a2997d49699080099b4b45329b",
            "759b530fb68941ba83f758582a2973c1",
            "c004634d73eb4abf93350d765aab0143",
            "5fe57550de374bce948f21f0585a45d0",
            "dee2f2e646fb4c65bca454d6bce80942",
            "6e064d57e50e450ab72a91ad94842aec",
            "3254d3efe8144de6a5bbe827b0edf53f",
            "8d6bc43846f64797b46ece327ae61e7c",
            "f15be36101b542f4969a1030870adbc6",
            "fbcac693b27a478795bd53c5085fe4f8",
            "21ca5029404345e0803b7e563d4eda29",
            "a4ae990bb1a94e5fbab44aae32e67c45",
            "7d76900bdeac4b96b5d164dcf1b42154",
            "25ebb963899e497baa3b95cf050c63a5",
            "d6b2602b276647d09b3dd8842ff27951",
            "d344203aa135485b880b3e3a169200a1",
            "85419e353e6546b6b5e222b40f682a98",
            "f1c5c523d4de463a9e8d408860cf3eb8",
            "954d6c91cd1e4a02a5349e5f175bfb61",
            "7fb7430c92b343c2a7d1f3306d697060",
            "af863d1a0a9540fda81d05adcdf27dbc",
            "f6484468897c452a8c6431b93dd331aa",
            "51ef8e25a4454522a9389102814ef4dd",
            "606898dd625140d9bffb28bec22ae7d8",
            "ddcbb07891584ea196145609fc18723f",
            "71a8f89c6b564e58b2419a66807f78ac",
            "a8a28ad124c64bf8a77be33a6531dd6e",
            "96579446771c47ac8ec0486624f4339d",
            "86467cd01bb34076918f9581edc37169",
            "48aafc27713140a7b9e66ef18467a253",
            "7c5040b84b1a4e1b9becf95b4413ff97",
            "4978f57b156d4607834f5744d3977c0d",
            "71e7c8722faa411db4c1631682bdc368",
            "9b73b29e7213499c89e80897d1048424",
            "411c9662e5a44d3e9de684ef24e6f485",
            "d8822ca6b7ec430ba49454e5817cecbd",
            "d676fcfe4be54c14b4130430a758e944",
            "9e7b4748d7dd49878ee032417fad5336",
            "5b9fc6ac1af94fb69fd8342c90d86c09",
            "cad3db1f330944a4b7675cc9fdaeac5c",
            "b4f1db72c5464d67a287414c91da786d",
            "b3a13385447f49b2aa3e87cea86c8309",
            "537c20cb19894a9c8711d93d0d7540a7",
            "4a3a0f84d98d4c848908b8f0996243b8",
            "cc402fd7981946b5a0ff39f9f3b53337",
            "1969e33e666044bc9feda411a07b8fac",
            "1388bb6a01124abbaba54c2adc1713ca",
            "a7e6ff0d9f6e48f6a6193de801ce3478",
            "347cad114f8144aca3129706a0cdf38d",
            "05c8ed1f78bc45c3b0ea7d70f3211433",
            "a45efe73153c45c2a02bd6915846e6e7",
            "cb35332400bf4265956e2cd3995c447c",
            "07ad458ec7884a589b75b848e137804e",
            "540296cbf7b64b7999cbded597917a64",
            "65f17b8d489343d19df98bd38b496bda",
            "b0bb92c680904d289049dc276d6d5805",
            "2659167c65064e719100a31e1ba8d784",
            "a96a29560b524087ad42bd6eca480423",
            "ca463ea8a12a40d0a39ce2dba96299d0",
            "77ebac9695be42d6a98a2bb1022e652d",
            "bc8dedcb13f748cf825d2326679da824",
            "3e8d672a82ad457eaa5ecb2f4ed89225",
            "84825a011d634063b8c082168ec2bcd5",
            "1104edfc25f74d408b3329f75e8cd912",
            "e2eed718132b4da6ac3f733624edf3db",
            "90481f19c5ee4481b88cf2047e7544d5",
            "60c6754c1a2147fb9fc31e53c16c0989",
            "873d582b9c8142e4aef5f1b3d894a7c3",
            "69fcf835db224fda8e54ec255637e88e",
            "2d4a559c00ca4a258472d87b6c40e601",
            "8c4aa7ef60a34520ac22440513b49cce",
            "ce680b523edd4fc5b605d4d4074ef953",
            "42002b4d3d3c45f5b69df885c9166c8d",
            "4e11e36f37194f2291ecca41d7cbdab9",
            "07fae9dc8ec54831bd7050cb7456555c",
            "89ac22fda76b46e0893de2553207d9c6",
            "480df14a71924aae8d81054b2d3b3ce8",
            "867dc55de2c448c58b829ad3c255e6b5",
            "6cff5dd86a2e42a895efd505659c7a9e",
            "dd12ba93b7064c258c377304dfffe3c6",
            "7ebbb99899f34686ba919c4c970a4fab",
            "799c6ee2c9ac444e875806a8e4be3887",
            "78a3443a1d1d49e080d2f0f97b9483c8",
            "5a39b35f1fa34730b517c6b893efb8c9",
            "c165fb32049c45a5b992971b79af36f5",
            "ce75ba2155634efcb3993a9800feefc2",
            "3ff09881c163480c9cb954211add0eb3",
            "8de30ea9eab9463b8f1bdcc87fc72523",
            "fb82c802cfb844e48da27db91b691e44",
            "583a7d5a4d4d4fe4b400662c8f813fee",
            "a0903b01bbf5428a8039eea2455ee177",
            "5fd4fd8c02604edbace874eb5dddf74d",
            "6a7944ae628642198cfd7a3dc5257315",
            "ba0ba9c32ca04b1db1f5e52ce11675d6",
            "086a166e260148a393d848f3af01d811",
            "e5b97a21aeb24e5baa10f4a90fb969a3",
            "d504229e5d344435b86dc0734e0f45bf",
            "9d3e51a9cf4746798bdbc8a402a134bd",
            "1e67eea8cae041d9a7028038aec432b6",
            "246bba2dbc7844c08b05d0dc103e197e",
            "69f61ce7c5f64c1ca4d6d17c24bfcec4",
            "57656bef418a4288b962b870ccd216c6",
            "91b2d4e0c8b44bd8acd7dc5b7c44c7f4",
            "2e623c06e3d5410dba03c0936e310459",
            "9c4b3d650307464ea99dc908a00ed9b6",
            "3854da3561684d85b5087dea5368ba09",
            "0d02b5f2b7584cd08b5dd3b5027174be",
            "2945cfb79db74951a41ae7bc6303a4f8",
            "c209fbbc4b6f49dfafc8c3fee5e0cb4d",
            "1fd19370cadc431c9548c672486d77a6",
            "fb389557f783462a9dedaafac7d0100a",
            "cae9cc0e10614aae87a9816ce931d52f",
            "3792ca564c0d4e15a8d15ee8f32b200c",
            "88172bea89744360ae8b82df81965c39",
            "b139001f4e874e67ac497d86959eeb04",
            "6de859c0196445009f159df87a72a848",
            "76ca4e3dbfab440b9eaa193dced8a8bf",
            "12ad55a824894c39b524d07c2551b3fc",
            "8c82dad412104e418e15a4312c44d180",
            "ad434eaf1774411ca2cf96c6cb65ff14"
          ]
        },
        "id": "9N0RvHofxrgH",
        "outputId": "fee53d9f-6899-4e56-955f-3b9548beeaf1"
      },
      "outputs": [
        {
          "name": "stderr",
          "output_type": "stream",
          "text": [
            "/usr/local/lib/python3.7/dist-packages/huggingface_hub/file_download.py:563: FutureWarning: `cached_download` is the legacy way to download files from the HF hub, please consider upgrading to `hf_hub_download`\n",
            "  FutureWarning,\n"
          ]
        },
        {
          "data": {
            "application/vnd.jupyter.widget-view+json": {
              "model_id": "e704589eabb34ff9ad8e72f8cba7a7d1",
              "version_major": 2,
              "version_minor": 0
            },
            "text/plain": [
              "Downloading:   0%|          | 0.00/737 [00:00<?, ?B/s]"
            ]
          },
          "metadata": {},
          "output_type": "display_data"
        },
        {
          "data": {
            "application/vnd.jupyter.widget-view+json": {
              "model_id": "e8335a5527044272be3660856343f9fb",
              "version_major": 2,
              "version_minor": 0
            },
            "text/plain": [
              "Downloading:   0%|          | 0.00/190 [00:00<?, ?B/s]"
            ]
          },
          "metadata": {},
          "output_type": "display_data"
        },
        {
          "data": {
            "application/vnd.jupyter.widget-view+json": {
              "model_id": "46f33140571c4b2185392ffb557dea2d",
              "version_major": 2,
              "version_minor": 0
            },
            "text/plain": [
              "Downloading:   0%|          | 0.00/11.3k [00:00<?, ?B/s]"
            ]
          },
          "metadata": {},
          "output_type": "display_data"
        },
        {
          "data": {
            "application/vnd.jupyter.widget-view+json": {
              "model_id": "f7823dc27b444bc1bff5622d3bed311d",
              "version_major": 2,
              "version_minor": 0
            },
            "text/plain": [
              "Downloading:   0%|          | 0.00/612 [00:00<?, ?B/s]"
            ]
          },
          "metadata": {},
          "output_type": "display_data"
        },
        {
          "data": {
            "application/vnd.jupyter.widget-view+json": {
              "model_id": "21ca5029404345e0803b7e563d4eda29",
              "version_major": 2,
              "version_minor": 0
            },
            "text/plain": [
              "Downloading:   0%|          | 0.00/116 [00:00<?, ?B/s]"
            ]
          },
          "metadata": {},
          "output_type": "display_data"
        },
        {
          "data": {
            "application/vnd.jupyter.widget-view+json": {
              "model_id": "f6484468897c452a8c6431b93dd331aa",
              "version_major": 2,
              "version_minor": 0
            },
            "text/plain": [
              "Downloading:   0%|          | 0.00/25.5k [00:00<?, ?B/s]"
            ]
          },
          "metadata": {},
          "output_type": "display_data"
        },
        {
          "data": {
            "application/vnd.jupyter.widget-view+json": {
              "model_id": "71e7c8722faa411db4c1631682bdc368",
              "version_major": 2,
              "version_minor": 0
            },
            "text/plain": [
              "Downloading:   0%|          | 0.00/349 [00:00<?, ?B/s]"
            ]
          },
          "metadata": {},
          "output_type": "display_data"
        },
        {
          "data": {
            "application/vnd.jupyter.widget-view+json": {
              "model_id": "4a3a0f84d98d4c848908b8f0996243b8",
              "version_major": 2,
              "version_minor": 0
            },
            "text/plain": [
              "Downloading:   0%|          | 0.00/90.9M [00:00<?, ?B/s]"
            ]
          },
          "metadata": {},
          "output_type": "display_data"
        },
        {
          "data": {
            "application/vnd.jupyter.widget-view+json": {
              "model_id": "65f17b8d489343d19df98bd38b496bda",
              "version_major": 2,
              "version_minor": 0
            },
            "text/plain": [
              "Downloading:   0%|          | 0.00/53.0 [00:00<?, ?B/s]"
            ]
          },
          "metadata": {},
          "output_type": "display_data"
        },
        {
          "data": {
            "application/vnd.jupyter.widget-view+json": {
              "model_id": "90481f19c5ee4481b88cf2047e7544d5",
              "version_major": 2,
              "version_minor": 0
            },
            "text/plain": [
              "Downloading:   0%|          | 0.00/112 [00:00<?, ?B/s]"
            ]
          },
          "metadata": {},
          "output_type": "display_data"
        },
        {
          "data": {
            "application/vnd.jupyter.widget-view+json": {
              "model_id": "480df14a71924aae8d81054b2d3b3ce8",
              "version_major": 2,
              "version_minor": 0
            },
            "text/plain": [
              "Downloading:   0%|          | 0.00/466k [00:00<?, ?B/s]"
            ]
          },
          "metadata": {},
          "output_type": "display_data"
        },
        {
          "data": {
            "application/vnd.jupyter.widget-view+json": {
              "model_id": "8de30ea9eab9463b8f1bdcc87fc72523",
              "version_major": 2,
              "version_minor": 0
            },
            "text/plain": [
              "Downloading:   0%|          | 0.00/383 [00:00<?, ?B/s]"
            ]
          },
          "metadata": {},
          "output_type": "display_data"
        },
        {
          "data": {
            "application/vnd.jupyter.widget-view+json": {
              "model_id": "1e67eea8cae041d9a7028038aec432b6",
              "version_major": 2,
              "version_minor": 0
            },
            "text/plain": [
              "Downloading:   0%|          | 0.00/13.8k [00:00<?, ?B/s]"
            ]
          },
          "metadata": {},
          "output_type": "display_data"
        },
        {
          "data": {
            "application/vnd.jupyter.widget-view+json": {
              "model_id": "1fd19370cadc431c9548c672486d77a6",
              "version_major": 2,
              "version_minor": 0
            },
            "text/plain": [
              "Downloading:   0%|          | 0.00/232k [00:00<?, ?B/s]"
            ]
          },
          "metadata": {},
          "output_type": "display_data"
        }
      ],
      "source": [
        "bi_encoder = SentenceTransformer('multi-qa-MiniLM-L6-cos-v1')\n",
        "bi_encoder.max_seq_length = 400\n",
        "top_k = 32"
      ]
    },
    {
      "cell_type": "code",
      "execution_count": null,
      "metadata": {
        "colab": {
          "base_uri": "https://localhost:8080/",
          "height": 177,
          "referenced_widgets": [
            "b6251a33b9ca43e38fe98eb4fa3e1f32",
            "97877bb036514455b151b1f2b9ee05b3",
            "a5289e211b974803a165c19016ac7f75",
            "b122dc7205b6471f8ffa862840514566",
            "a6d425d02239471782ffc123322bf968",
            "5a5824f41552413482ff681877afbe8e",
            "cc478aafc45e4ed4891e78cfaac88b1b",
            "76e0381f3485487a974db4ac0bc9f483",
            "d1e35e71ac554274bb3a2b9c139580fb",
            "8215b8c468524daab3e5f776f12169f6",
            "9ac544bd566e44b19c7f702f8587435e",
            "e7ce21281e96444b862b4eff4e8eb4ad",
            "32208b6bef34462cba04b82d192e20ac",
            "830ad618657e4284a4d599f8c50b38e6",
            "d36d4aceefb24c9fa9aaba6db85fc490",
            "34e980219ba541d7a9dda6cb9720341d",
            "a30db3cedb35443ead7198345906961c",
            "dd8d44c8b22d480b8cea2e410020e824",
            "ae092d38e44046a6801214dde930032f",
            "b86e478b704244e2a7e56ddbd7928ebc",
            "477a98681e5b43448dd1a215e6a7515b",
            "567075d301fb4626aca5ff50de5549d2",
            "3f41d62be8e946d3ae6937c8d004f9cf",
            "8fc03579e6e44318a2d523468b9e2ba8",
            "fab59497d77d430ebf9b9e9ab8e5343d",
            "39744084a54e4c43b4502fff7a1deaf7",
            "3f01b79049c7437eb446b6840a56a76a",
            "5cc86221c0a7416e9462dfc78950558d",
            "e7dddbb06ccf4134bce6e7085b5ff606",
            "4d7d20e77601432ea8325e7f252801e9",
            "402bf1b2efed4fb1aa75c325a22d6b31",
            "0a422689e04046ebad8b3b17905dabe1",
            "a0c566018e224678ac3b5164ef93bd49",
            "07aeab70c85240268641fd52580c9bca",
            "f3f0c0909b0b402d89af3518f8321e4c",
            "f1ce6a8e70af4398b21c2c8b8a92f253",
            "fd07096caa074b499f9b9f7c46a68691",
            "13f1871ed93b4999a99b9adcb0feeb36",
            "5d8aec028cb2408ba0e9c83e8cae3f1e",
            "b6e5b1ec3f944df5ae9ec1963480b36a",
            "c6e60f37c4064e098d61f2e78223a54f",
            "18b70a83906a41fa83e2a3a46461bc37",
            "c0ae9227c7b948fe91cf42de9c3cde8e",
            "39049d1a2a604b21ba299fd258f1fbfb",
            "a1f81b1d2b83452fb83206ce5818fc22",
            "31047a917ca54207a4d37ff20db5eb2f",
            "e1eee161c3c44c32a89411aa2d75e571",
            "b3659f4035a2485f87c5dd2d58f07ae5",
            "150798ee3746443da2dfdb6b4fa8b9b6",
            "51b260f7f9d94795b6e9f2daf98b3f8a",
            "22da2fa72b19490eb7a012a8106c5406",
            "f1c5b13b14e54cfca38973d4c863ef74",
            "01a11cfef5404d3a82c63fbd6e1933c5",
            "e00f5aa4a7264d07a349f5513c70a0d3",
            "49c8e7582e734c02abcb998a878c7208"
          ]
        },
        "id": "jaTl9uOkxwso",
        "outputId": "d039a37a-3331-4a42-f5b3-fe600fe98d52"
      },
      "outputs": [
        {
          "data": {
            "application/vnd.jupyter.widget-view+json": {
              "model_id": "b6251a33b9ca43e38fe98eb4fa3e1f32",
              "version_major": 2,
              "version_minor": 0
            },
            "text/plain": [
              "Downloading:   0%|          | 0.00/794 [00:00<?, ?B/s]"
            ]
          },
          "metadata": {},
          "output_type": "display_data"
        },
        {
          "data": {
            "application/vnd.jupyter.widget-view+json": {
              "model_id": "e7ce21281e96444b862b4eff4e8eb4ad",
              "version_major": 2,
              "version_minor": 0
            },
            "text/plain": [
              "Downloading:   0%|          | 0.00/86.7M [00:00<?, ?B/s]"
            ]
          },
          "metadata": {},
          "output_type": "display_data"
        },
        {
          "data": {
            "application/vnd.jupyter.widget-view+json": {
              "model_id": "3f41d62be8e946d3ae6937c8d004f9cf",
              "version_major": 2,
              "version_minor": 0
            },
            "text/plain": [
              "Downloading:   0%|          | 0.00/316 [00:00<?, ?B/s]"
            ]
          },
          "metadata": {},
          "output_type": "display_data"
        },
        {
          "data": {
            "application/vnd.jupyter.widget-view+json": {
              "model_id": "07aeab70c85240268641fd52580c9bca",
              "version_major": 2,
              "version_minor": 0
            },
            "text/plain": [
              "Downloading:   0%|          | 0.00/226k [00:00<?, ?B/s]"
            ]
          },
          "metadata": {},
          "output_type": "display_data"
        },
        {
          "data": {
            "application/vnd.jupyter.widget-view+json": {
              "model_id": "a1f81b1d2b83452fb83206ce5818fc22",
              "version_major": 2,
              "version_minor": 0
            },
            "text/plain": [
              "Downloading:   0%|          | 0.00/112 [00:00<?, ?B/s]"
            ]
          },
          "metadata": {},
          "output_type": "display_data"
        }
      ],
      "source": [
        "cross_encoder = CrossEncoder('cross-encoder/ms-marco-MiniLM-L-6-v2')"
      ]
    },
    {
      "cell_type": "code",
      "execution_count": null,
      "metadata": {
        "colab": {
          "base_uri": "https://localhost:8080/",
          "height": 49,
          "referenced_widgets": [
            "581b03a5e089474b902ef1b48ccf90ee",
            "74d80ed52e524dbe922f958ccc7d2f47",
            "39e81455210f4df6a3847ea9a8d0e47e",
            "144b4a1bc0c540f3933317e5cce85389",
            "f6de9fa1c61345db81a27b359f17e84c",
            "1d93b911a8e84c7d996b574548f1b101",
            "cd42ab7cb7cc4fdb9652c6bff0f30165",
            "762f86be82d14056842070af2d6efe2d",
            "977e81bae66a4e57ae9dc6426a271645",
            "2605d17257d343d0ad262bb63566d1c9",
            "81d4c13473344a5895a9f2153004b4ac"
          ]
        },
        "id": "IX39VqQSySOZ",
        "outputId": "b74724f5-20ea-4182-f232-0ce6d9a0b7ea"
      },
      "outputs": [
        {
          "data": {
            "application/vnd.jupyter.widget-view+json": {
              "model_id": "581b03a5e089474b902ef1b48ccf90ee",
              "version_major": 2,
              "version_minor": 0
            },
            "text/plain": [
              "Batches:   0%|          | 0/2 [00:00<?, ?it/s]"
            ]
          },
          "metadata": {},
          "output_type": "display_data"
        }
      ],
      "source": [
        "corpus_embeddings = bi_encoder.encode(list_comprehensive, convert_to_tensor=True, show_progress_bar=True)"
      ]
    },
    {
      "cell_type": "code",
      "execution_count": null,
      "metadata": {
        "colab": {
          "base_uri": "https://localhost:8080/",
          "height": 49,
          "referenced_widgets": [
            "24b87b9f6f504320864c00e603fc62aa",
            "a086f3466d364dd6b9c5f6a03e612a68",
            "cfd31a964caf4304bfbd4ec58c6c66eb",
            "ec7d27c1d78c4292886b5f47e34b10e4",
            "172348788b814d16950e655ef1d36315",
            "14ab2b45a9cd4039856089a266a90333",
            "fc5a58188cc64897b340085b2237fc57",
            "213038fd62bb4ac99cb85fb53e1037ae",
            "a8e5914b6b8540649285536a5d550f34",
            "bce46d8a3b0e4a97a9d687b7fdb5a00e",
            "06cd83c3a6cf443a805fb6c8f395d2f4"
          ]
        },
        "id": "R2TPEY3MyUur",
        "outputId": "4120e700-9410-4f83-f7c5-9a494123915f"
      },
      "outputs": [
        {
          "data": {
            "application/vnd.jupyter.widget-view+json": {
              "model_id": "24b87b9f6f504320864c00e603fc62aa",
              "version_major": 2,
              "version_minor": 0
            },
            "text/plain": [
              "  0%|          | 0/34 [00:00<?, ?it/s]"
            ]
          },
          "metadata": {},
          "output_type": "display_data"
        }
      ],
      "source": [
        "#lowercase text and remove stop words\n",
        "def bm25_tokenizer(text):\n",
        "    tokenized_doc = []\n",
        "    for token in text.lower().split():\n",
        "        token = token.strip(string.punctuation)\n",
        "\n",
        "        if len(token) > 0 and token not in _stop_words.ENGLISH_STOP_WORDS:\n",
        "            tokenized_doc.append(token)\n",
        "    return tokenized_doc\n",
        "\n",
        "tokenized_corpus = []\n",
        "for passage in tqdm(list_comprehensive):\n",
        "    tokenized_corpus.append(bm25_tokenizer(passage))\n",
        "\n",
        "bm25 = BM25Okapi(tokenized_corpus)"
      ]
    },
    {
      "cell_type": "code",
      "execution_count": null,
      "metadata": {
        "id": "clQReP5Cylss"
      },
      "outputs": [],
      "source": [
        "def search_without_tokenising(query):\n",
        "    #print(\"Input question:\", query)\n",
        "\n",
        "    ##### BM25 search (lexical search) #####\n",
        "    bm25_scores = bm25.get_scores(bm25_tokenizer(query))\n",
        "    top_n = np.argpartition(bm25_scores, -5)[-5:]\n",
        "    bm25_hits = [{'corpus_id': idx, 'score': bm25_scores[idx]} for idx in top_n]\n",
        "    bm25_hits = sorted(bm25_hits, key=lambda x: x['score'], reverse=True)\n",
        "\n",
        "    #print(\"Top-3 lexical search (BM25) hits\")\n",
        "    #for hit in bm25_hits[0:3]:\n",
        "    #    print(\"\\t{:.3f}\\t{}\".format(hit['score'], list_comprehensive[hit['corpus_id']].replace(\"\\n\", \" \")))\n",
        "\n",
        "    ##### Sematic Search #####\n",
        "    # Encode the query using the bi-encoder and find potentially relevant passages\n",
        "    question_embedding = bi_encoder.encode(query, convert_to_tensor=True)\n",
        "    hits = util.semantic_search(question_embedding, corpus_embeddings, top_k=top_k)\n",
        "    hits = hits[0]  # Get the hits for the first query\n",
        "\n",
        "    ##### Re-Ranking #####\n",
        "    # Now, score all retrieved passages with the cross_encoder\n",
        "    cross_inp = [[query, list_comprehensive[hit['corpus_id']]] for hit in hits]\n",
        "    cross_scores = cross_encoder.predict(cross_inp)\n",
        "\n",
        "    # Sort results by the cross-encoder scores\n",
        "    for idx in range(len(cross_scores)):\n",
        "        hits[idx]['cross-score'] = cross_scores[idx]\n",
        "\n",
        "    # Output of top-5 hits from bi-encoder\n",
        "    #print(\"\\n-------------------------\\n\")\n",
        "    #print(\"Top-3 Bi-Encoder Retrieval hits\")\n",
        "    hits = sorted(hits, key=lambda x: x['score'], reverse=True)\n",
        "    #for hit in hits[0:3]:\n",
        "    #    print(\"\\t{:.3f}\\t{}\".format(hit['score'], list_comprehensive[hit['corpus_id']].replace(\"\\n\", \" \")))\n",
        "\n",
        "    # Output of top-5 hits from re-ranker\n",
        "    #print(\"\\n-------------------------\\n\")\n",
        "    #print(\"Top-3 Cross-Encoder Re-ranker hits\")\n",
        "    hits = sorted(hits, key=lambda x: x['cross-score'], reverse=True)\n",
        "    top_ranks = \"\"\n",
        "    for hit in hits[0:3]:\n",
        "        #print(\"\\t{:.3f}\\t{}\".format(hit['cross-score'], list_comprehensive[hit['corpus_id']].replace(\"\\n\", \" \")))\n",
        "        top_ranks+=list_comprehensive[hit['corpus_id']]\n",
        "    return top_ranks\n"
      ]
    },
    {
      "cell_type": "code",
      "execution_count": null,
      "metadata": {
        "id": "xFmdzfja-K6A"
      },
      "outputs": [],
      "source": [
        "def search(query):\n",
        "    #print(\"Input question:\", query)\n",
        "\n",
        "    ##### BM25 search (lexical search) #####\n",
        "    bm25_scores = bm25.get_scores(bm25_tokenizer(query))\n",
        "    top_n = np.argpartition(bm25_scores, -5)[-5:]\n",
        "    bm25_hits = [{'corpus_id': idx, 'score': bm25_scores[idx]} for idx in top_n]\n",
        "    bm25_hits = sorted(bm25_hits, key=lambda x: x['score'], reverse=True)\n",
        "\n",
        "    #print(\"Top-3 lexical search (BM25) hits\")\n",
        "    #for hit in bm25_hits[0:3]:\n",
        "    #    print(\"\\t{:.3f}\\t{}\".format(hit['score'], list_comprehensive[hit['corpus_id']].replace(\"\\n\", \" \")))\n",
        "\n",
        "    ##### Sematic Search #####\n",
        "    # Encode the query using the bi-encoder and find potentially relevant passages\n",
        "    question_embedding = bi_encoder.encode(query, convert_to_tensor=True)\n",
        "    hits = util.semantic_search(question_embedding, corpus_embeddings, top_k=top_k)\n",
        "    hits = hits[0]  # Get the hits for the first query\n",
        "\n",
        "    ##### Re-Ranking #####\n",
        "    # Now, score all retrieved passages with the cross_encoder\n",
        "    cross_inp = [[query, list_comprehensive[hit['corpus_id']]] for hit in hits]\n",
        "    cross_scores = cross_encoder.predict(cross_inp)\n",
        "\n",
        "    # Sort results by the cross-encoder scores\n",
        "    for idx in range(len(cross_scores)):\n",
        "        hits[idx]['cross-score'] = cross_scores[idx]\n",
        "\n",
        "    # Output of top-5 hits from bi-encoder\n",
        "    #print(\"\\n-------------------------\\n\")\n",
        "    #print(\"Top-3 Bi-Encoder Retrieval hits\")\n",
        "    hits = sorted(hits, key=lambda x: x['score'], reverse=True)\n",
        "    #for hit in hits[0:3]:\n",
        "    #    print(\"\\t{:.3f}\\t{}\".format(hit['score'], list_comprehensive[hit['corpus_id']].replace(\"\\n\", \" \")))\n",
        "\n",
        "    # Output of top-5 hits from re-ranker\n",
        "    #print(\"\\n-------------------------\\n\")\n",
        "    #print(\"Top-3 Cross-Encoder Re-ranker hits\")\n",
        "    hits = sorted(hits, key=lambda x: x['cross-score'], reverse=True)\n",
        "    top_ranks = \"\"\n",
        "    for hit in hits[0:3]:\n",
        "        #print(\"\\t{:.3f}\\t{}\".format(hit['cross-score'], list_comprehensive[hit['corpus_id']].replace(\"\\n\", \" \")))\n",
        "        top_ranks+=list_comprehensive[hit['corpus_id']]\n",
        "    return top_ranks\n"
      ]
    },
    {
      "cell_type": "code",
      "execution_count": null,
      "metadata": {
        "colab": {
          "base_uri": "https://localhost:8080/",
          "height": 123
        },
        "id": "W9-ltNwD0Z3J",
        "outputId": "2d4c1284-826e-4ee9-c46e-abca044f0c4b"
      },
      "outputs": [
        {
          "data": {
            "application/vnd.google.colaboratory.intrinsic+json": {
              "type": "string"
            },
            "text/plain": [
              "\"Accidental Death and Permanent Total Disablement (Section 10): 1. Accidental Death, 2. Permanent Total Disability following an accident, 3. Dependent children and persons above 70 years can be covered under accidental death and permanent total disablement upto the sum insured of Rs.10,00,000/-(The sum insured for this cover is separately indicated in schedule of benefits. Cover is available for one insured person opted by the proposer). Exclusions : Any claim relating to events occurring before the commencement of the cover or otherwise outside the Period of Insurance. Any injuries/conditions which are Pre-existing conditions. Any claim arising out ofAccidents thatthe Insured Person has caused intentionally or by committing a crime/involved in it or as a result of/in a state of drunkenness or addiction (drugs, alcohol). Insured Person engaging in Air Travel unless he/she flies as a fare-paying passenger on an aircraft properly licensed to carry passengers. For the purpose of this exclusion Air Travel means being in or on or boarding an aircraft for the purpose of flying therein or alighting there from. Accidents that are results of war and warlike occurrence or invasion, acts of foreign enemies, hostilities, civil war, rebellion, insurrection, civil commotion assuming the proportions of or amounting to an uprising, military or usurped power, seizure capture arrest restraints detainments of all kings princes and people of whatever nation, condition or quality whatsoever. Participation in riots, confiscation or nationalization or requisition of or destruction of or damage to property by or under the orderofany government orlocal authority. Any claim resulting or arising from or any consequential loss directly or indirectly caused by or contributed to or arising from: a) lonizing radiation or contamination by radioactivity from any nuclear fuel or from any nuclear waste from the combustion of nuclear fuel or from any nuclear waste from combustion (including any self sustaining process of nuclear fission) of nuclear fuel, b) Nuclear weapons material, c)  Theradioactive, toxic, explosive or other hazardous properties of any explosive nuclear assembly or nuclear component thereof, d) Nuclear, chemical and biological terrorism. Any claim arising out of sporting activities in so far as they involve the training or participation in competitions of professional or semi-professional sports persons. Participation in Hazardous Sport / Hazardous Activitie. Persons who are physically challenge unless specifically agreed and endorsedin the policy. Anyloss arising out of the Insured Person's actual or attempted commission of or willful participation in an illegal act orany violation or attempted violation of the law. Any paymentin case of more than one claim under the policy during the period of insurance by which the maximum liability ofthe Company in that period would exceed the amount specified in the Schedule. Any other claim after a claim has been admitted by the Company and becomes payable for Death or Permanent Total Disablement, as mentioned In Table. Any claim arising out of an accident related to pregnancy or childbirth, infirmity, whether directly or indirectly. Any claim for Death or Permanent Total Disablement ofthe Insured Person from self-endangerment unless in self-defense orto save human life.What is exclusion? What are exclusions? What are all excluded from policy? The Company shall not be liable to make any payments under this policy in respect of any expenses that so ever incurred by the insured person in connection with or in respect of. How many exclusions are there? 38 exclusions and 15 under section B. The 38 exclusions are Pre-existing diseases; specified disease/procedure waiting period; 30-day waiting period; investigation & evaluation; rest cure, rehabilitation and respite care; obesity/weight control; change of gender treatments; cosmetic or plastic surgery; hazardous or adventure sports; breach of law; excluded providers; alcohol/drug substance abuse/addictive condition; dietary supplements and substances; treatments recieved in health hydros,nature clinics, spas; refractive error; unproven treatments; sterility & infertility; maternity; circumcision(unless necessary for treatment of a disease not excluded under this policy or necessitated due to an accident); congenital external condition/ defects/ anomalies (except to extent provided under section 2 for new born babies.); intentional self injury; venereal disease and STD(except HIV); convalescence, general debility, run-down condition, nutritional deficiency states; injury due to nuclear weapons/materials, war, invasion;Enhanced External counter pulsation therapy; unconventional therapies; biologicals except when administered as an in patient;autologous derived stromal vascular fraction, Chondrocyte implantation, procedures using platelet rich plasma and intra articular injection therapy; priapism and erectile dysfunctions; inoculation or vaccination except for post-bite treatment and for medical treatment for therapeutic reasons;dental treatment or surgery in excess; sleep apnea, treatment for endocrine disorders;hospital registration charges, admission charges, record charges, telephone charges; cochlear implants and procedure related hospitalization expenses; hospitali\\ue05dations which are not medically necessary;other Excluded Expenses as detailed in the website;Existing diseases. AYUSH Treatment (Section 9): In patient hospitalization expenses incurred on treatment under Ayurveda, Unani, Sidha and Homeopathy systems of medicines in a Government Hospital or in any institute recognized by the government and/or accredited by the Quality Council of India/National Accreditation Board on Health as in patient is payable up to the limits mentioned in the Schedule of Benefits. Note: 1) Payment under this benefit forms part of the sum insured and also will impact the Bonus; 2) Yogaand Naturopathy systems of treatment are excluded from the scope of coverage under AYUSH treatmentCumulative Bonus (Applicable for Section 1 other than 1H, Section 4, Section 7, Section 9, Section 12 and Section 13}: Where the sum insured under the policyis Rs.5,00,000/-, the insured person would be entitled to the benefit of Cumulative Bonus calculated at 50% of the basic sum insured under this policy following after every claim free year up to a maximum of 100%. Where the sum insured under the policy is Rs.7,50,000/-or above, the insured person would be entitled to the benefit of Cumulative Bonus calculated at 100% of the basic sum insured under this policy following a claim free year. The maximum benefit of bonus is 100% of the basic sum insured. Special Conditions for Cumulative Bonus: 1. The Cumulative Bonus will be calculated on the expiring Basic Sum Insured or on the renewed Basic Sum Insured whichever is less, 2. Ifthe insured opts to reduce the Basic Sum Insured at the subsequent renewal, the limit of indemnity by way of such Cumulative Bonus shall not exceed such reduced basic sum insured, 3. In the event ofa claim resulting in: i. Partial utilization of Basic Sum Insured, such cumulative bonus so granted will be reduced at the same rate at which it has accrued, ii.Fullutilization of Basic Sum Insured and nil utilization of cumulative bonus accrued, such cumulative bonus so granted will be reduced atthe same rate at whichit has accrued, iii. Full utilization of Basic Sum Insured and partial utilization of cumulative bonus accrued, the cumulative bonus granted on renewal will be the balance cumulative bonus available and will be reduced at the same rate at whichithas accrued, iv. Full utilization of Basic Sum Insured and full utilization of cumulative bonus accrued, the cumulative bonus granted on renewal willbe 'nil' or 'zero'.\""
            ]
          },
          "execution_count": 11,
          "metadata": {},
          "output_type": "execute_result"
        }
      ],
      "source": [
        "search(query = \"exclusions for section 10\")"
      ]
    },
    {
      "cell_type": "code",
      "execution_count": null,
      "metadata": {
        "colab": {
          "base_uri": "https://localhost:8080/",
          "height": 641
        },
        "id": "jCsKb7dw00Pd",
        "outputId": "fd5dfd60-c244-49cd-d9aa-3a8427164908"
      },
      "outputs": [
        {
          "name": "stdout",
          "output_type": "stream",
          "text": [
            "Looking in indexes: https://pypi.org/simple, https://us-python.pkg.dev/colab-wheels/public/simple/\n",
            "Collecting openai\n",
            "  Downloading openai-0.20.0.tar.gz (42 kB)\n",
            "\u001b[K     |████████████████████████████████| 42 kB 1.3 MB/s \n",
            "\u001b[?25h  Installing build dependencies ... \u001b[?25l\u001b[?25hdone\n",
            "  Getting requirements to build wheel ... \u001b[?25l\u001b[?25hdone\n",
            "    Preparing wheel metadata ... \u001b[?25l\u001b[?25hdone\n",
            "Requirement already satisfied: requests>=2.20 in /usr/local/lib/python3.7/dist-packages (from openai) (2.23.0)\n",
            "Requirement already satisfied: tqdm in /usr/local/lib/python3.7/dist-packages (from openai) (4.64.0)\n",
            "Requirement already satisfied: pandas>=1.2.3 in /usr/local/lib/python3.7/dist-packages (from openai) (1.3.5)\n",
            "Requirement already satisfied: openpyxl>=3.0.7 in /usr/local/lib/python3.7/dist-packages (from openai) (3.0.10)\n",
            "Collecting pandas-stubs>=1.1.0.11\n",
            "  Downloading pandas_stubs-1.2.0.62-py3-none-any.whl (163 kB)\n",
            "\u001b[K     |████████████████████████████████| 163 kB 19.2 MB/s \n",
            "\u001b[?25hRequirement already satisfied: et-xmlfile in /usr/local/lib/python3.7/dist-packages (from openpyxl>=3.0.7->openai) (1.1.0)\n",
            "Requirement already satisfied: pytz>=2017.3 in /usr/local/lib/python3.7/dist-packages (from pandas>=1.2.3->openai) (2022.1)\n",
            "Requirement already satisfied: python-dateutil>=2.7.3 in /usr/local/lib/python3.7/dist-packages (from pandas>=1.2.3->openai) (2.8.2)\n",
            "Requirement already satisfied: numpy>=1.17.3 in /usr/local/lib/python3.7/dist-packages (from pandas>=1.2.3->openai) (1.21.6)\n",
            "Requirement already satisfied: typing-extensions>=3.7.4.3 in /usr/local/lib/python3.7/dist-packages (from pandas-stubs>=1.1.0.11->openai) (4.1.1)\n",
            "Requirement already satisfied: six>=1.5 in /usr/local/lib/python3.7/dist-packages (from python-dateutil>=2.7.3->pandas>=1.2.3->openai) (1.15.0)\n",
            "Requirement already satisfied: certifi>=2017.4.17 in /usr/local/lib/python3.7/dist-packages (from requests>=2.20->openai) (2022.6.15)\n",
            "Requirement already satisfied: idna<3,>=2.5 in /usr/local/lib/python3.7/dist-packages (from requests>=2.20->openai) (2.10)\n",
            "Requirement already satisfied: urllib3!=1.25.0,!=1.25.1,<1.26,>=1.21.1 in /usr/local/lib/python3.7/dist-packages (from requests>=2.20->openai) (1.24.3)\n",
            "Requirement already satisfied: chardet<4,>=3.0.2 in /usr/local/lib/python3.7/dist-packages (from requests>=2.20->openai) (3.0.4)\n",
            "Building wheels for collected packages: openai\n",
            "  Building wheel for openai (PEP 517) ... \u001b[?25l\u001b[?25hdone\n",
            "  Created wheel for openai: filename=openai-0.20.0-py3-none-any.whl size=54118 sha256=78b4120dfdd19a69219bd90f513f5bce7e0bd2df4423d422271204b464db63c9\n",
            "  Stored in directory: /root/.cache/pip/wheels/71/8d/9b/e28529ec53123e0279208f99148d4661232120d78cb866839b\n",
            "Successfully built openai\n",
            "Installing collected packages: pandas-stubs, openai\n",
            "Successfully installed openai-0.20.0 pandas-stubs-1.2.0.62\n"
          ]
        },
        {
          "data": {
            "application/vnd.colab-display-data+json": {
              "pip_warning": {
                "packages": [
                  "pandas"
                ]
              }
            }
          },
          "metadata": {},
          "output_type": "display_data"
        }
      ],
      "source": [
        "!pip install openai"
      ]
    },
    {
      "cell_type": "code",
      "execution_count": null,
      "metadata": {
        "id": "JVig5FNb0crh"
      },
      "outputs": [],
      "source": [
        "import openai\n",
        "import json\n",
        "with open('GPT_SECRET_KEY.json') as f:\n",
        "    data = json.load(f)\n",
        "openai.api_key = data[\"API_KEY\"]"
      ]
    },
    {
      "cell_type": "code",
      "execution_count": null,
      "metadata": {
        "colab": {
          "base_uri": "https://localhost:8080/"
        },
        "id": "tvQRmnpN7Xtu",
        "outputId": "4f82e169-cecc-4cf2-fbcc-e6639d6c0aa2"
      },
      "outputs": [
        {
          "name": "stderr",
          "output_type": "stream",
          "text": [
            "[nltk_data] Downloading package wordnet to /root/nltk_data...\n",
            "[nltk_data]   Unzipping corpora/wordnet.zip.\n",
            "[nltk_data] Downloading package omw-1.4 to /root/nltk_data...\n",
            "[nltk_data]   Unzipping corpora/omw-1.4.zip.\n",
            "[nltk_data] Downloading package stopwords to /root/nltk_data...\n",
            "[nltk_data]   Unzipping corpora/stopwords.zip.\n",
            "[nltk_data] Downloading package punkt to /root/nltk_data...\n",
            "[nltk_data]   Unzipping tokenizers/punkt.zip.\n"
          ]
        }
      ],
      "source": [
        "import nltk\n",
        "nltk.download('wordnet')\n",
        "nltk.download('omw-1.4')\n",
        "nltk.download('stopwords')\n",
        "nltk.download('punkt')\n",
        "from nltk.corpus import stopwords\n",
        "from nltk.tokenize import word_tokenize"
      ]
    },
    {
      "cell_type": "code",
      "execution_count": null,
      "metadata": {
        "id": "H-OnB48O9NUj"
      },
      "outputs": [],
      "source": [
        "def ask_question_without_tokenising(question):\n",
        "    s = search_without_tokenising(query = question)\n",
        "    text = \"This is a bot that answers questions from the paragraph given below: \\n\"\n",
        "    text+=s;\n",
        "    text+=\"\\nThe question from the paragraph is \"\n",
        "    text+=question+\"\\n\"\n",
        "    #print(text+\"\\n\")\n",
        "    final = openai.Completion.create(\n",
        "          model=\"text-davinci-002\",\n",
        "          prompt=text,\n",
        "          temperature=0,\n",
        "          max_tokens=300,\n",
        "          frequency_penalty=0.5,\n",
        "          presence_penalty=0\n",
        "        )\n",
        "\n",
        "    print(final[\"choices\"][0][\"text\"])\n",
        "    return final[\"choices\"][0][\"text\"]"
      ]
    },
    {
      "cell_type": "code",
      "execution_count": null,
      "metadata": {
        "colab": {
          "base_uri": "https://localhost:8080/",
          "height": 108
        },
        "id": "4T0CNMn79Lez",
        "outputId": "4c9871be-c19c-4db8-ece3-7bc17ca7998d"
      },
      "outputs": [
        {
          "name": "stdout",
          "output_type": "stream",
          "text": [
            "\n",
            "If the company removes the policy, the insured person will be notified 90 days in advance. The insured person will then have the option to migrate to a similar health insurance product offered by the company, provided that the policy has been maintained without a break.\n"
          ]
        },
        {
          "data": {
            "application/vnd.google.colaboratory.intrinsic+json": {
              "type": "string"
            },
            "text/plain": [
              "'\\nIf the company removes the policy, the insured person will be notified 90 days in advance. The insured person will then have the option to migrate to a similar health insurance product offered by the company, provided that the policy has been maintained without a break.'"
            ]
          },
          "execution_count": 16,
          "metadata": {},
          "output_type": "execute_result"
        }
      ],
      "source": [
        "ask_question_without_tokenising(\"what happens if company removes policy\")"
      ]
    },
    {
      "cell_type": "code",
      "execution_count": null,
      "metadata": {
        "colab": {
          "base_uri": "https://localhost:8080/",
          "height": 108
        },
        "id": "EJBZrjfJ4VpP",
        "outputId": "72d05f19-7ed4-4496-adf6-9a072b333aab"
      },
      "outputs": [
        {
          "name": "stdout",
          "output_type": "stream",
          "text": [
            "\n",
            "If you cancel the policy during the free look period, you will be refunded the premium paid less any expenses incurred by the company on medical examination of the insured person and the stamp duty charges.\n"
          ]
        },
        {
          "data": {
            "application/vnd.google.colaboratory.intrinsic+json": {
              "type": "string"
            },
            "text/plain": [
              "'\\nIf you cancel the policy during the free look period, you will be refunded the premium paid less any expenses incurred by the company on medical examination of the insured person and the stamp duty charges.'"
            ]
          },
          "execution_count": 20,
          "metadata": {},
          "output_type": "execute_result"
        }
      ],
      "source": [
        "ask_question_without_tokenising(\"How much refund I will get if I cancel the policy during free look period ?\")"
      ]
    },
    {
      "cell_type": "code",
      "execution_count": null,
      "metadata": {
        "colab": {
          "base_uri": "https://localhost:8080/"
        },
        "id": "cS0qTHsr-r4o",
        "outputId": "af05e0ed-8fdc-49c0-cd54-03db5dee0997"
      },
      "outputs": [
        {
          "name": "stdout",
          "output_type": "stream",
          "text": [
            "\n",
            "The benefits of the comprehensive policy are that it offers complete protection against all health care eventualities for an entire family on individual and floater basis, it has no exit age, and it offers a buy back option for pre-existing diseases.\n"
          ]
        }
      ],
      "source": [
        "ask_question_without_tokenising(\"what are benefits of the comprehensive policy\")"
      ]
    },
    {
      "cell_type": "code",
      "execution_count": null,
      "metadata": {
        "colab": {
          "base_uri": "https://localhost:8080/",
          "height": 70
        },
        "id": "aTSilL2sCGOM",
        "outputId": "97c6d6dc-844f-4bab-88b8-068537c9f12d"
      },
      "outputs": [
        {
          "name": "stdout",
          "output_type": "stream",
          "text": [
            "\n",
            "The wellness program offers discounts on premium for healthy activities.\n"
          ]
        },
        {
          "data": {
            "application/vnd.google.colaboratory.intrinsic+json": {
              "type": "string"
            },
            "text/plain": [
              "'\\nThe wellness program offers discounts on premium for healthy activities.'"
            ]
          },
          "execution_count": 22,
          "metadata": {},
          "output_type": "execute_result"
        }
      ],
      "source": [
        "ask_question_without_tokenising(\"What are the benefits of wellness program ?\")"
      ]
    },
    {
      "cell_type": "code",
      "execution_count": null,
      "metadata": {
        "colab": {
          "base_uri": "https://localhost:8080/",
          "height": 70
        },
        "id": "lSjq_4Fo-Dst",
        "outputId": "b3415572-3c72-480a-e489-8903e0ddbf31"
      },
      "outputs": [
        {
          "name": "stdout",
          "output_type": "stream",
          "text": [
            "\n",
            "Yes, bariatric surgery is covered under this policy.\n"
          ]
        },
        {
          "data": {
            "application/vnd.google.colaboratory.intrinsic+json": {
              "type": "string"
            },
            "text/plain": [
              "'\\nYes, bariatric surgery is covered under this policy.'"
            ]
          },
          "execution_count": 23,
          "metadata": {},
          "output_type": "execute_result"
        }
      ],
      "source": [
        "ask_question_without_tokenising(\"is bariatric surgery covered\")"
      ]
    },
    {
      "cell_type": "code",
      "execution_count": null,
      "metadata": {
        "colab": {
          "base_uri": "https://localhost:8080/",
          "height": 70
        },
        "id": "BxkHLdOi-Dvb",
        "outputId": "ecb69958-5638-45f7-be9f-f2dab1200a66"
      },
      "outputs": [
        {
          "name": "stdout",
          "output_type": "stream",
          "text": [
            "\n",
            "The answer to the question is that you can claim up to the room rent limit stated in the policy schedule.\n"
          ]
        },
        {
          "data": {
            "application/vnd.google.colaboratory.intrinsic+json": {
              "type": "string"
            },
            "text/plain": [
              "'\\nThe answer to the question is that you can claim up to the room rent limit stated in the policy schedule.'"
            ]
          },
          "execution_count": 24,
          "metadata": {},
          "output_type": "execute_result"
        }
      ],
      "source": [
        "ask_question_without_tokenising(\"how much i can claim for room rent\")"
      ]
    },
    {
      "cell_type": "code",
      "execution_count": null,
      "metadata": {
        "colab": {
          "base_uri": "https://localhost:8080/",
          "height": 70
        },
        "id": "RIuZQjN8-Dx3",
        "outputId": "a040c91a-f13d-4194-852b-9bef03545c01"
      },
      "outputs": [
        {
          "name": "stdout",
          "output_type": "stream",
          "text": [
            "\n",
            "Yes, you can add your child to the policy during mid term.\n"
          ]
        },
        {
          "data": {
            "application/vnd.google.colaboratory.intrinsic+json": {
              "type": "string"
            },
            "text/plain": [
              "'\\nYes, you can add your child to the policy during mid term.'"
            ]
          },
          "execution_count": 26,
          "metadata": {},
          "output_type": "execute_result"
        }
      ],
      "source": [
        "ask_question_without_tokenising(\"can i add my child to the policy during mid term\")"
      ]
    },
    {
      "cell_type": "code",
      "execution_count": null,
      "metadata": {
        "colab": {
          "base_uri": "https://localhost:8080/",
          "height": 108
        },
        "id": "wt2L18Uo-D0U",
        "outputId": "7a3baa21-078b-48f8-ceb5-e8cf929f8038"
      },
      "outputs": [
        {
          "name": "stdout",
          "output_type": "stream",
          "text": [
            "\n",
            "Yes, it is possible to include your newly married spouse in your current policy by paying an additional premium. You will need to intimate the insurance company about your marriage within 60 days from the date of marriage. The cover for your spouse will be effective from the date of payment of premium.\n"
          ]
        },
        {
          "data": {
            "application/vnd.google.colaboratory.intrinsic+json": {
              "type": "string"
            },
            "text/plain": [
              "'\\nYes, it is possible to include your newly married spouse in your current policy by paying an additional premium. You will need to intimate the insurance company about your marriage within 60 days from the date of marriage. The cover for your spouse will be effective from the date of payment of premium.'"
            ]
          },
          "execution_count": 27,
          "metadata": {},
          "output_type": "execute_result"
        }
      ],
      "source": [
        "ask_question_without_tokenising(\"i am newly married and want to cover my wife in my current policy. is that possible?\")"
      ]
    },
    {
      "cell_type": "code",
      "execution_count": null,
      "metadata": {
        "id": "BQgqaSnL-D2w"
      },
      "outputs": [],
      "source": [
        "ask_question_without_tokenising(\"\")"
      ]
    },
    {
      "cell_type": "code",
      "execution_count": null,
      "metadata": {
        "id": "3RxT-9Vw-D5E"
      },
      "outputs": [],
      "source": [
        "ask_question_without_tokenising(\"\")"
      ]
    },
    {
      "cell_type": "code",
      "execution_count": null,
      "metadata": {
        "id": "u0sJdF4n-D7l"
      },
      "outputs": [],
      "source": [
        "ask_question_without_tokenising(\"\")"
      ]
    },
    {
      "cell_type": "code",
      "execution_count": null,
      "metadata": {
        "id": "oSwxGfp5-D90"
      },
      "outputs": [],
      "source": [
        "ask_question_without_tokenising(\"\")"
      ]
    },
    {
      "cell_type": "code",
      "execution_count": null,
      "metadata": {
        "id": "xup8Cn2F-EBU"
      },
      "outputs": [],
      "source": [
        "ask_question_without_tokenising(\"\")"
      ]
    },
    {
      "cell_type": "code",
      "execution_count": null,
      "metadata": {
        "id": "5xXOgLhAFXUn"
      },
      "outputs": [],
      "source": [
        "def ask_question2(question):\n",
        "    s = search(query = question)\n",
        "    start = \"This is a bot that answers questions from the paragraph given below: \\n\"\n",
        "    text=s;\n",
        "    stop_words = set(stopwords.words('english'))\n",
        "    stop_words.add('the');\n",
        "    word_tokens = word_tokenize(text)\n",
        "    filtered_sentence = [w for w in word_tokens if not w.lower() in stop_words]\n",
        "    text = ' '.join(filtered_sentence)\n",
        "    text = start+text\n",
        "    text+=\"\\nThe question from the paragraph is \"\n",
        "    text+=question+\"\\n\"\n",
        "    #print(text+\"\\n\")\n",
        "\n",
        "    final = openai.Completion.create(\n",
        "          model=\"text-davinci-002\",\n",
        "          prompt=text,\n",
        "          temperature=0,\n",
        "          max_tokens=300,\n",
        "          frequency_penalty=0.5,\n",
        "          presence_penalty=0\n",
        "        )\n",
        "    intermediate = final[\"choices\"][0][\"text\"]\n",
        "    #print(intermediate)\n",
        "    return intermediate\n",
        "    # final = openai.Completion.create(\n",
        "    #       model=\"text-davinci-002\",\n",
        "    #       prompt=f\"{intermediate}\\nthe meaningful sentence rephrased from the above is \",\n",
        "    #       temperature=0,\n",
        "    #       max_tokens=300,\n",
        "    #       frequency_penalty=0.5,\n",
        "    #       presence_penalty=0\n",
        "    #     )\n",
        "    # print(final[\"choices\"][0][\"text\"])\n",
        ""
      ]
    },
    {
      "cell_type": "code",
      "execution_count": null,
      "metadata": {
        "colab": {
          "base_uri": "https://localhost:8080/"
        },
        "id": "-HEIKIkUFXWf",
        "outputId": "42072725-e1fd-49d0-decc-a302f7754ce6"
      },
      "outputs": [
        {
          "name": "stdout",
          "output_type": "stream",
          "text": [
            "\n",
            "If you cancel the policy during the free look period, you will get a refund of the premium paid less expenses incurred by the company for the medical examination of the insured person and stamp duty charges.\n"
          ]
        }
      ],
      "source": [
        "ask_question2(\"How much refund I will get if I cancel the policy during free look period ?\")"
      ]
    },
    {
      "cell_type": "code",
      "execution_count": null,
      "metadata": {
        "colab": {
          "base_uri": "https://localhost:8080/"
        },
        "id": "WaSriYVeFXZj",
        "outputId": "1a5b2bda-b7a5-4d93-b67b-f1990b6cac40"
      },
      "outputs": [
        {
          "name": "stdout",
          "output_type": "stream",
          "text": [
            "\n",
            "The wellness program offers a variety of benefits including discounts on premiums, rewards for healthy activities, and tracking and monitoring by the company.\n"
          ]
        }
      ],
      "source": [
        "ask_question2(\"What are the benefits of wellness program ?\")"
      ]
    },
    {
      "cell_type": "code",
      "execution_count": null,
      "metadata": {
        "colab": {
          "base_uri": "https://localhost:8080/",
          "height": 53
        },
        "id": "PguSE0AjFXbK",
        "outputId": "b036f7f4-7723-41bb-a069-6bb6fe8bdb3f"
      },
      "outputs": [
        {
          "data": {
            "application/vnd.google.colaboratory.intrinsic+json": {
              "type": "string"
            },
            "text/plain": [
              "'\\nThe benefits of the policy are that it offers complete protection essential health insurance cover, it is renewed features lots benefits, it is carefully crafted offer complete protection health care eventualities entire family individual floater Easis.'"
            ]
          },
          "execution_count": 149,
          "metadata": {},
          "output_type": "execute_result"
        }
      ],
      "source": [
        "ask_question2(\"what are benefits of the policy\")"
      ]
    },
    {
      "cell_type": "code",
      "execution_count": null,
      "metadata": {
        "colab": {
          "base_uri": "https://localhost:8080/"
        },
        "id": "yWvXQysvHQF7",
        "outputId": "b7e38946-9986-4982-9b2e-6fd730234505"
      },
      "outputs": [
        {
          "name": "stdout",
          "output_type": "stream",
          "text": [
            "\n",
            "There would be no refund of premium on cancellation on grounds of misrepresentation, non-disclosure of material facts or fraud.\n"
          ]
        }
      ],
      "source": [
        "ask_question_without_tokenising(\"How much refund I will get if I cancel the policy and claimed during free look period?\")"
      ]
    },
    {
      "cell_type": "code",
      "execution_count": null,
      "metadata": {
        "colab": {
          "base_uri": "https://localhost:8080/"
        },
        "id": "Br3HhirGHZIe",
        "outputId": "fb91c7c6-3e0e-4724-a96e-c6cd7ea69f0f"
      },
      "outputs": [
        {
          "name": "stdout",
          "output_type": "stream",
          "text": [
            "\n",
            "If the company withdraws the policy, the insured person will be notified 90 days in advance and will have the option to migrate to a similar health insurance product offered by the company. If the policy is maintained without a break, the continuity benefits and cumulative bonus will be accrued. If the policyholder cancels the policy, they will be refunded the premium for the unexpired policy period. If the company cancels the policy, they will refund the premium to the policyholder.\n"
          ]
        }
      ],
      "source": [
        "ask_question2(\"what happens if company withdraws policy\")"
      ]
    },
    {
      "cell_type": "code",
      "execution_count": null,
      "metadata": {
        "colab": {
          "base_uri": "https://localhost:8080/"
        },
        "id": "Qabm-zJPHe_M",
        "outputId": "08ebea20-d244-431a-ed53-709234da4c39"
      },
      "outputs": [
        {
          "name": "stdout",
          "output_type": "stream",
          "text": [
            "\n",
            "Yes, outpatient claim is possible in comprehensive policy.\n"
          ]
        }
      ],
      "source": [
        "ask_question2(\"Is outpatient claim possible in comprehensive policy ?\")"
      ]
    },
    {
      "cell_type": "code",
      "execution_count": null,
      "metadata": {
        "colab": {
          "base_uri": "https://localhost:8080/"
        },
        "id": "M6pA7pWSIEDL",
        "outputId": "f988fe3e-3938-4476-d902-6ed53780a850"
      },
      "outputs": [
        {
          "name": "stdout",
          "output_type": "stream",
          "text": [
            "\n",
            "Day Care Procedures are covered in comprehensive policy.\n"
          ]
        }
      ],
      "source": [
        "ask_question2(\"What Day care procedures are covered in comprehensive policy ?\")"
      ]
    },
    {
      "cell_type": "code",
      "execution_count": null,
      "metadata": {
        "colab": {
          "base_uri": "https://localhost:8080/"
        },
        "id": "dV2Vp1ypIMWb",
        "outputId": "22c07072-380a-4e3e-c07f-cff5eae88872"
      },
      "outputs": [
        {
          "name": "stdout",
          "output_type": "stream",
          "text": [
            "\n",
            "Yes, there is a waiting period after paying the premium before you can make a claim.\n"
          ]
        }
      ],
      "source": [
        "ask_question2(\"when can i claim after paying premium, is there waiting\")"
      ]
    },
    {
      "cell_type": "markdown",
      "metadata": {
        "id": "wR5uYdJTIUR2"
      },
      "source": [
        "ranks from SBERT"
      ]
    },
    {
      "cell_type": "code",
      "execution_count": null,
      "metadata": {
        "id": "GibtLuFNIV9O"
      },
      "outputs": [],
      "source": [
        "def search_rank(query):\n",
        "    #print(\"Input question:\", query)\n",
        "\n",
        "    ##### BM25 search (lexical search) #####\n",
        "    bm25_scores = bm25.get_scores(bm25_tokenizer(query))\n",
        "    top_n = np.argpartition(bm25_scores, -5)[-5:]\n",
        "    bm25_hits = [{'corpus_id': idx, 'score': bm25_scores[idx]} for idx in top_n]\n",
        "    bm25_hits = sorted(bm25_hits, key=lambda x: x['score'], reverse=True)\n",
        "\n",
        "    #print(\"Top-3 lexical search (BM25) hits\")\n",
        "    #for hit in bm25_hits[0:3]:\n",
        "    #    print(\"\\t{:.3f}\\t{}\".format(hit['score'], list_comprehensive[hit['corpus_id']].replace(\"\\n\", \" \")))\n",
        "\n",
        "    ##### Sematic Search #####\n",
        "    # Encode the query using the bi-encoder and find potentially relevant passages\n",
        "    question_embedding = bi_encoder.encode(query, convert_to_tensor=True)\n",
        "    hits = util.semantic_search(question_embedding, corpus_embeddings, top_k=top_k)\n",
        "    hits = hits[0]  # Get the hits for the first query\n",
        "\n",
        "    ##### Re-Ranking #####\n",
        "    # Now, score all retrieved passages with the cross_encoder\n",
        "    cross_inp = [[query, list_comprehensive[hit['corpus_id']]] for hit in hits]\n",
        "    cross_scores = cross_encoder.predict(cross_inp)\n",
        "\n",
        "    # Sort results by the cross-encoder scores\n",
        "    for idx in range(len(cross_scores)):\n",
        "        hits[idx]['cross-score'] = cross_scores[idx]\n",
        "\n",
        "    # Output of top-5 hits from bi-encoder\n",
        "    #print(\"\\n-------------------------\\n\")\n",
        "    #print(\"Top-3 Bi-Encoder Retrieval hits\")\n",
        "    hits = sorted(hits, key=lambda x: x['score'], reverse=True)\n",
        "    #for hit in hits[0:3]:\n",
        "    #    print(\"\\t{:.3f}\\t{}\".format(hit['score'], list_comprehensive[hit['corpus_id']].replace(\"\\n\", \" \")))\n",
        "\n",
        "    # Output of top-5 hits from re-ranker\n",
        "    #print(\"\\n-------------------------\\n\")\n",
        "    #print(\"Top-3 Cross-Encoder Re-ranker hits\")\n",
        "    hits = sorted(hits, key=lambda x: x['cross-score'], reverse=True)\n",
        "    top_ranks = \"\"\n",
        "    for hit in hits[0:5]:\n",
        "        print(\"\\t{:.3f}\\t{}\".format(hit['cross-score'], list_comprehensive[hit['corpus_id']].replace(\"\\n\", \" \")))\n",
        "        top_ranks+=list_comprehensive[hit['corpus_id']]\n",
        "    #return top_ranks\n"
      ]
    },
    {
      "cell_type": "code",
      "execution_count": null,
      "metadata": {
        "colab": {
          "base_uri": "https://localhost:8080/"
        },
        "id": "PeS0SERCIhsA",
        "outputId": "22a6cad7-487c-42b6-838e-30ad8b1cc47a"
      },
      "outputs": [
        {
          "name": "stdout",
          "output_type": "stream",
          "text": [
            "\t4.225\tAccidental Death and Permanent Total Disablement (Section 10): 1. Accidental Death, 2. Permanent Total Disability following an accident, 3. Dependent children and persons above 70 years can be covered under accidental death and permanent total disablement upto the sum insured of Rs.10,00,000/-(The sum insured for this cover is separately indicated in schedule of benefits. Cover is available for one insured person opted by the proposer). Exclusions : Any claim relating to events occurring before the commencement of the cover or otherwise outside the Period of Insurance. Any injuries/conditions which are Pre-existing conditions. Any claim arising out ofAccidents thatthe Insured Person has caused intentionally or by committing a crime/involved in it or as a result of/in a state of drunkenness or addiction (drugs, alcohol). Insured Person engaging in Air Travel unless he/she flies as a fare-paying passenger on an aircraft properly licensed to carry passengers. For the purpose of this exclusion Air Travel means being in or on or boarding an aircraft for the purpose of flying therein or alighting there from. Accidents that are results of war and warlike occurrence or invasion, acts of foreign enemies, hostilities, civil war, rebellion, insurrection, civil commotion assuming the proportions of or amounting to an uprising, military or usurped power, seizure capture arrest restraints detainments of all kings princes and people of whatever nation, condition or quality whatsoever. Participation in riots, confiscation or nationalization or requisition of or destruction of or damage to property by or under the orderofany government orlocal authority. Any claim resulting or arising from or any consequential loss directly or indirectly caused by or contributed to or arising from: a) lonizing radiation or contamination by radioactivity from any nuclear fuel or from any nuclear waste from the combustion of nuclear fuel or from any nuclear waste from combustion (including any self sustaining process of nuclear fission) of nuclear fuel, b) Nuclear weapons material, c)  Theradioactive, toxic, explosive or other hazardous properties of any explosive nuclear assembly or nuclear component thereof, d) Nuclear, chemical and biological terrorism. Any claim arising out of sporting activities in so far as they involve the training or participation in competitions of professional or semi-professional sports persons. Participation in Hazardous Sport / Hazardous Activitie. Persons who are physically challenge unless specifically agreed and endorsedin the policy. Anyloss arising out of the Insured Person's actual or attempted commission of or willful participation in an illegal act orany violation or attempted violation of the law. Any paymentin case of more than one claim under the policy during the period of insurance by which the maximum liability ofthe Company in that period would exceed the amount specified in the Schedule. Any other claim after a claim has been admitted by the Company and becomes payable for Death or Permanent Total Disablement, as mentioned In Table. Any claim arising out of an accident related to pregnancy or childbirth, infirmity, whether directly or indirectly. Any claim for Death or Permanent Total Disablement ofthe Insured Person from self-endangerment unless in self-defense orto save human life.\n",
            "\t2.064\tWhat is exclusion? What are exclusions? What are all excluded from policy? The Company shall not be liable to make any payments under this policy in respect of any expenses that so ever incurred by the insured person in connection with or in respect of. How many exclusions are there? 38 exclusions and 15 under section B. The 38 exclusions are Pre-existing diseases; specified disease/procedure waiting period; 30-day waiting period; investigation & evaluation; rest cure, rehabilitation and respite care; obesity/weight control; change of gender treatments; cosmetic or plastic surgery; hazardous or adventure sports; breach of law; excluded providers; alcohol/drug substance abuse/addictive condition; dietary supplements and substances; treatments recieved in health hydros,nature clinics, spas; refractive error; unproven treatments; sterility & infertility; maternity; circumcision(unless necessary for treatment of a disease not excluded under this policy or necessitated due to an accident); congenital external condition/ defects/ anomalies (except to extent provided under section 2 for new born babies.); intentional self injury; venereal disease and STD(except HIV); convalescence, general debility, run-down condition, nutritional deficiency states; injury due to nuclear weapons/materials, war, invasion;Enhanced External counter pulsation therapy; unconventional therapies; biologicals except when administered as an in patient;autologous derived stromal vascular fraction, Chondrocyte implantation, procedures using platelet rich plasma and intra articular injection therapy; priapism and erectile dysfunctions; inoculation or vaccination except for post-bite treatment and for medical treatment for therapeutic reasons;dental treatment or surgery in excess; sleep apnea, treatment for endocrine disorders;hospital registration charges, admission charges, record charges, telephone charges; cochlear implants and procedure related hospitalization expenses; hospitaliations which are not medically necessary;other Excluded Expenses as detailed in the website;Existing diseases. \n",
            "\t-4.880\tAYUSH Treatment (Section 9): In patient hospitalization expenses incurred on treatment under Ayurveda, Unani, Sidha and Homeopathy systems of medicines in a Government Hospital or in any institute recognized by the government and/or accredited by the Quality Council of India/National Accreditation Board on Health as in patient is payable up to the limits mentioned in the Schedule of Benefits. Note: 1) Payment under this benefit forms part of the sum insured and also will impact the Bonus; 2) Yogaand Naturopathy systems of treatment are excluded from the scope of coverage under AYUSH treatment\n",
            "\t-6.676\tCumulative Bonus (Applicable for Section 1 other than 1H, Section 4, Section 7, Section 9, Section 12 and Section 13}: Where the sum insured under the policyis Rs.5,00,000/-, the insured person would be entitled to the benefit of Cumulative Bonus calculated at 50% of the basic sum insured under this policy following after every claim free year up to a maximum of 100%. Where the sum insured under the policy is Rs.7,50,000/-or above, the insured person would be entitled to the benefit of Cumulative Bonus calculated at 100% of the basic sum insured under this policy following a claim free year. The maximum benefit of bonus is 100% of the basic sum insured. Special Conditions for Cumulative Bonus: 1. The Cumulative Bonus will be calculated on the expiring Basic Sum Insured or on the renewed Basic Sum Insured whichever is less, 2. Ifthe insured opts to reduce the Basic Sum Insured at the subsequent renewal, the limit of indemnity by way of such Cumulative Bonus shall not exceed such reduced basic sum insured, 3. In the event ofa claim resulting in: i. Partial utilization of Basic Sum Insured, such cumulative bonus so granted will be reduced at the same rate at which it has accrued, ii.Fullutilization of Basic Sum Insured and nil utilization of cumulative bonus accrued, such cumulative bonus so granted will be reduced atthe same rate at whichit has accrued, iii. Full utilization of Basic Sum Insured and partial utilization of cumulative bonus accrued, the cumulative bonus granted on renewal will be the balance cumulative bonus available and will be reduced at the same rate at whichithas accrued, iv. Full utilization of Basic Sum Insured and full utilization of cumulative bonus accrued, the cumulative bonus granted on renewal willbe 'nil' or 'zero'.\n",
            "\t-6.760\tSPECIAL FEATURES: Star Wellness Program (Section 11}: This program intends to promote, incentivize and to reward the Insured Persons’ healthy life style through various wellness activities. The wellness activities as detailed in the website are designed to help the Insured person to earn wellness reward points which will be tracked and monitored by the Company. The wellness points eamed by the Insured Person(s) under the wellness program, can be utilized to get discount in premium. The following table shows the discount on premium available under the Wellness Program: (wellness points: 200 to 350 => discount in premium 2%), (wellness points: 351 to 600 => discount in premium 5%), (wellness points: 601 to 750 => discount in premium 7%), (wellness points: 751 to 1000 => discount in premium 10%)\n"
          ]
        }
      ],
      "source": [
        "search_rank(\"exclusions for section 10\")"
      ]
    },
    {
      "cell_type": "code",
      "execution_count": null,
      "metadata": {
        "colab": {
          "base_uri": "https://localhost:8080/"
        },
        "id": "3mR7L4GJnWZc",
        "outputId": "7afcf0b7-c531-4b03-a0b0-c78f059911cd"
      },
      "outputs": [
        {
          "name": "stdout",
          "output_type": "stream",
          "text": [
            "\t-0.619\tWithdrawal of the policy: In the likelihood of this product being withdrawn in future, the Company will intimate the insured person about the same 90 days prior to expiry of the policy. Insured Person will have the option to migrate to similar health insurance product available with the Company at the time of renewal with all the accrued continuity benefits such as cumulative bonus, waiver of waiting period as per IRDAI guidelines, provided the policy has been maintained without a break.\n",
            "\t-1.177\tHospital Cash Benefit (Section 5): Payable for each completed day of Hospitalisation up to 7 days per occurrence and maximum of 120 days during the entire policy period. This benefit is subject to an excess of first 24 hours of Hospitalization for each and every claim. Claims under this section will not reduce the Sum Insured.\n",
            "\t-1.600\tWhen health issues can't be predicted health insurance is the best option availaEle to overcome the heavy financial loss that occurs in the form of hospitalization and medical expenses. The right decision of purchasing a health insurance policy should complement the wise move of picking the right one. Precise to say having a policy that offers complete protection is more essential than just having a health insurance cover. Presenting STAR Comprehensive ,Insurance Policy with renewed features and lots of benefits. This policy is carefully crafted to offer complete protection against all health care eventualities for an entire family on individual and floater Easis. Eligibility: Entry age between 3 months and 65 years, lifelong renewals guaranteed ,no exit age, Policy Type - Individual/Floater (Family size: Maximum 2 adults + 3 dependent children) ,Dependent children those who are economically dependent on their parents can be covered upto 25 years of age. Sum Insured options Rs.500000 ; Rs.750000 ; Rs.1000000; Rs.1500000; Rs.2000000 ; Rs.2500000 ; Rs.5000000 ; Rs.7500000 ; Rs.10000000. Policy Term: 1 year/2 year/3 year . For policies more than one year the basic sum insured is for each year without any carry over benefit thereof. Instalment Facility available: Premium can be paid Quarterly and Half-yearly. Premium can also be paid Annually, Biennial (Once in 2 years) and Triennial (Once in 3 years). Quarterly - 3% | Half Yearly - 2% (will be applicable on the annual premium). Pre-acceptance medical screening: No Pre-acceptance medical screening. Day Care Procedures: All Day Care Procedures are covered.Midterm inclusion of newly married / wedded spouse and New Born Baby is permissible on paying additional premium. The intimation about the marriage / new born should be given within 60 days from the date of marriage or new born. The cover will be from the date of payment of premium.\n",
            "\t-1.837\tCumulative Bonus (Applicable for Section 1 other than 1H, Section 4, Section 7, Section 9, Section 12 and Section 13}: Where the sum insured under the policyis Rs.5,00,000/-, the insured person would be entitled to the benefit of Cumulative Bonus calculated at 50% of the basic sum insured under this policy following after every claim free year up to a maximum of 100%. Where the sum insured under the policy is Rs.7,50,000/-or above, the insured person would be entitled to the benefit of Cumulative Bonus calculated at 100% of the basic sum insured under this policy following a claim free year. The maximum benefit of bonus is 100% of the basic sum insured. Special Conditions for Cumulative Bonus: 1. The Cumulative Bonus will be calculated on the expiring Basic Sum Insured or on the renewed Basic Sum Insured whichever is less, 2. Ifthe insured opts to reduce the Basic Sum Insured at the subsequent renewal, the limit of indemnity by way of such Cumulative Bonus shall not exceed such reduced basic sum insured, 3. In the event ofa claim resulting in: i. Partial utilization of Basic Sum Insured, such cumulative bonus so granted will be reduced at the same rate at which it has accrued, ii.Fullutilization of Basic Sum Insured and nil utilization of cumulative bonus accrued, such cumulative bonus so granted will be reduced atthe same rate at whichit has accrued, iii. Full utilization of Basic Sum Insured and partial utilization of cumulative bonus accrued, the cumulative bonus granted on renewal will be the balance cumulative bonus available and will be reduced at the same rate at whichithas accrued, iv. Full utilization of Basic Sum Insured and full utilization of cumulative bonus accrued, the cumulative bonus granted on renewal willbe 'nil' or 'zero'.\n",
            "\t-2.355\tStar Advantages are No Third Party Administrator, direct in-house claims settlement Faster and hassle-free claim settlement Cashless hospitalizationBariatric Surgery (Section 7): a) The expenses incurred on hospitalization for bariatric surgical procedure and its complications thereof are payable upto the limits mentioned in the schedule of Benefits, during the policy period, b) — Thismaximumlimitof Rs.2,50,000/- and Rs.5,00,000/-are inclusive of pre-hospitalizationand post hospitalization expenses, c)  Thelimit of cover for Bariatric Surgery forms part of sum insured under Section 1, d) Coverage under this sectionis subjectto a waiting period of 36 months and payable only while the policy is in force\n"
          ]
        }
      ],
      "source": [
        "search_rank(\"what are benefits of the policy\")"
      ]
    },
    {
      "cell_type": "code",
      "execution_count": null,
      "metadata": {
        "colab": {
          "base_uri": "https://localhost:8080/"
        },
        "id": "HZmtwrrgodrV",
        "outputId": "525a6d73-6553-46b7-a71a-326b711a4f16"
      },
      "outputs": [
        {
          "name": "stdout",
          "output_type": "stream",
          "text": [
            "\t4.504\tFree Look Period: The Free Look Period shall be applicable on new individual health insurance policies and not on renewals or at the time of porting/migrating the policy. The insured person shall be allowed free look period of fifteen days from date of receipt of the policy document to review the terms and conditions ofthe policy, andto retum the same ifnot acceptable. If the insured has not made any claim during the Free Look Period, the insured shall be entitled to; i. arefund of the premium paid less any expenses incurred by the Company on medical examination of the insured person and the stamp duty charges or; ii. where the risk has already commenced and the option of return of the policy is exercised by the insured person, a deduction towards the proportionate risk premium for period of cover or; iii. where onlya part ofthe insurance coverage has commenced, such proportionate premium commensurate with the insurance coverage during such period\n",
            "\t-0.859\tCancellation: The policyholder may cancel this policy by giving 15 days written notice and in such an event, the Company shall refund premium for the unexpired policy period as detailed in the tables given in brochure. Refer to the website. No refunds of premium shall be made in respect of cancellation wheree any claim has been admitted or has been lodged or any benefit has been availed by the insured person under the policy. The company may cancel the policy at any time on grounds of misrepresentation, non-disclosure of material facts, fraud by the insured person by giving 15 days written notice. There would be no refund of premium on cancellation on grounds of misrepresentation, non-disclosure of material facts or fraud\n",
            "\t-3.075\tMoratorium Period: After completion of eight continuous years under the policy no look back to be applied. This period of eight years is called as moratorium period. The moratorium would be applicable for the sums insured of the first policy and subsequently completion of 8 continuous years would be applicable from date of enhancement of sums insured only on the enhanced limits. After the expiry of Moratorium Period no health insurance claim shall be contestable except for proven fraud and permanent exclusions specified in the policy contract. The policies would however be subject to all limits, sub limits, co-payments, deductibles as per the policy contract.\n",
            "\t-5.591\tRenew policy insurance, Renewal: The policy shall ordinarily be renewable except on grounds of fraud, misrepresentation by the Insured Person; 1. The Company shall endeavor to give notice for renewal. However, it is not under obligation to give any Notice for renewal; 2. Renewal shall notbe denied on the ground that the insured person had made claims in the preceding policy years; 3. Request for renewal along with requisite premium shall be received before the end of the policy period; 4. Atthe end of the policy period, the policy shall terminate and can be renewed within the Grace Period of 30 days to maintain continuity of benefits without breakin policy; 5. Coverage is not available during the grace period; 6. No loading shall apply on renewals based on individual claims experience\n",
            "\t-5.605\t Disclosure to information norms: The policy shall become void and all premium paid thereon shall be forfeited to the Company, in the event of mis-representation, mis description or non-disclosure of any material fact by the policy holder.\n"
          ]
        }
      ],
      "source": [
        "search_rank(\"if policyholder makes claim in free look period, what will happen?\")"
      ]
    },
    {
      "cell_type": "markdown",
      "metadata": {
        "id": "pgzvAbjYqpu9"
      },
      "source": [
        "## QUESTIONS TO TEST:\n",
        "\n",
        ">what about post and pre hospitalisation expenses?\n",
        "\n",
        ">can a new born baby be added to policy?\n",
        "\n",
        ">what are the special features of coverage?\n",
        "\n",
        "> my husband is injured by accident due to nuclear war, will policy cover it?\n",
        "\n",
        "> whats the condition for co-payment?\n",
        "\n",
        "> if policyholder makes claim in free look period, what will happen?\n",
        "\n",
        "> what is the cancel policy?\n",
        "\n",
        "> why should i not take comprehensive?\n",
        "\n",
        "> can i maintain continuity benefits if i renew my policy 60 days after\n",
        "\n",
        "> whats the condition for porting?\n",
        "\n",
        "> can i migrate if my policy is ending tomorrow?\n",
        "\n",
        "> can i claim if i am in grace period of instalment\n",
        "\n",
        "> when can i claim after paying premium\n",
        "\n",
        "> what are the star advantages?\n",
        "\n",
        "> is there waiting period"
      ]
    },
    {
      "cell_type": "code",
      "execution_count": null,
      "metadata": {
        "colab": {
          "base_uri": "https://localhost:8080/"
        },
        "id": "R_rFa9XSq6fD",
        "outputId": "853193fe-77a3-4063-fe6d-bd2b4bbc0cd0"
      },
      "outputs": [
        {
          "name": "stdout",
          "output_type": "stream",
          "text": [
            "\n",
            "Post and pre hospitalisation expenses are covered under the policy.\n"
          ]
        }
      ],
      "source": [
        "ask_question2(\"what about post and pre hospitalisation expenses?\")"
      ]
    },
    {
      "cell_type": "code",
      "execution_count": null,
      "metadata": {
        "colab": {
          "base_uri": "https://localhost:8080/"
        },
        "id": "i_ZPEINjwMGU",
        "outputId": "89122d12-69e9-45d8-97ca-6662cf9c517a"
      },
      "outputs": [
        {
          "name": "stdout",
          "output_type": "stream",
          "text": [
            "\n",
            "Yes, a new born baby can be added to the policy.\n"
          ]
        }
      ],
      "source": [
        "ask_question2(\"can a new born baby be added to policy?\")"
      ]
    },
    {
      "cell_type": "code",
      "execution_count": null,
      "metadata": {
        "colab": {
          "base_uri": "https://localhost:8080/",
          "height": 36
        },
        "id": "-xXXwnWN2H3t",
        "outputId": "7ba3e9b3-cae4-4241-d72c-abf74e09d605"
      },
      "outputs": [
        {
          "data": {
            "application/vnd.google.colaboratory.intrinsic+json": {
              "type": "string"
            },
            "text/plain": [
              "'\\nThe special features of the policy are: \\n-The buy back pre-existing disease feature \\n-The star wellness program'"
            ]
          },
          "execution_count": 133,
          "metadata": {},
          "output_type": "execute_result"
        }
      ],
      "source": [
        "ask_question2(\"what are the special features of policy?\")"
      ]
    },
    {
      "cell_type": "code",
      "execution_count": null,
      "metadata": {
        "colab": {
          "base_uri": "https://localhost:8080/"
        },
        "id": "lbvQFFFr2N5g",
        "outputId": "6c5ee5a3-3aa1-4f8f-feb5-e7416dca4b52"
      },
      "outputs": [
        {
          "name": "stdout",
          "output_type": "stream",
          "text": [
            "\n",
            "No, the policy will not cover it.\n"
          ]
        }
      ],
      "source": [
        "ask_question2(\"my husband is injured by accident due to nuclear war, will policy cover it?\")"
      ]
    },
    {
      "cell_type": "code",
      "execution_count": null,
      "metadata": {
        "colab": {
          "base_uri": "https://localhost:8080/"
        },
        "id": "NUOIQvPc2TNr",
        "outputId": "7df4a402-0221-4b1c-9e32-27b84ab58b56"
      },
      "outputs": [
        {
          "name": "stdout",
          "output_type": "stream",
          "text": [
            "\n",
            "The condition for co-payment is that the policyholder must be 61 years of age or older and have renew policy continuously without break.\n"
          ]
        }
      ],
      "source": [
        "ask_question2(\"whats the condition for co-payment?\")"
      ]
    },
    {
      "cell_type": "code",
      "execution_count": null,
      "metadata": {
        "colab": {
          "base_uri": "https://localhost:8080/"
        },
        "id": "eZkoYksl2bXh",
        "outputId": "899a4f31-4c18-468b-a1ee-2ebb03a95b8c"
      },
      "outputs": [
        {
          "name": "stdout",
          "output_type": "stream",
          "text": [
            "\n",
            "If the policyholder makes a claim during the free look period, they will not be refunded the premium paid.\n"
          ]
        }
      ],
      "source": [
        "ask_question_without_tokenising(\"if policyholder makes claim in free look period, what will happen?\")"
      ]
    },
    {
      "cell_type": "code",
      "execution_count": null,
      "metadata": {
        "colab": {
          "base_uri": "https://localhost:8080/"
        },
        "id": "piTKh6wJSJEX",
        "outputId": "c4ba164a-e443-4581-d137-c29c83dc6a79"
      },
      "outputs": [
        {
          "name": "stdout",
          "output_type": "stream",
          "text": [
            "\n",
            "If the insured has not made any claim during the Free Look Period, the insured shall be entitled to a refund of the premium paid less any expenses incurred by the Company on medical examination of the insured person and the stamp duty charges.\n"
          ]
        }
      ],
      "source": [
        "ask_question_without_tokenising(\"free look of the policy refund if i did not claim\")"
      ]
    },
    {
      "cell_type": "code",
      "execution_count": null,
      "metadata": {
        "colab": {
          "base_uri": "https://localhost:8080/"
        },
        "id": "kSphQn6B2pRq",
        "outputId": "e34b395f-ff92-46eb-dabf-4f5cefbaf3f7"
      },
      "outputs": [
        {
          "name": "stdout",
          "output_type": "stream",
          "text": [
            "\n",
            "The policyholder may cancel the policy by giving 15 days written notice. The company shall refund the premium for the unexpired policy period as detailed in the tables given in the brochure. Refer to website for refunds. The premium shall be refunded with respect to cancellation where no claim has been admitted or lodged or benefit availed by the insured person under the policy. The company may cancel the policy at any time on the grounds of misrepresentation, non-disclosure of material facts, or fraud by the insured person by giving 15 days written notice. Would refund premium on cancellation on grounds of misrepresentation, non-disclosure of material facts or fraudWithdrawal of policy: If there is a likelihood that the product will be withdrawn in the future, the Company will intimate the insured person 90 days prior to expiry of policy. The Insured Person has the option to migrate to a similar health insurance product available with the Company at the time of renewal with accrued continuity benefits and cumulative bonus, waiver of waiting period as per IRDAI guidelines, provided the policy is maintained without a break. Disclosure of information and norms: The policy shall become void and the premium paid thereon shall be forfeited by the Company in event of mis-representation, mis description or non-disclosure of material fact by the policy holder.\n",
            "\n",
            "The policyholder may cancel the policy by giving 15 days written notice. The company shall refund premium for unexpired policy period as detailed in tables given in broch\n"
          ]
        }
      ],
      "source": [
        "ask_question2(\"what is the cancel policy\")"
      ]
    },
    {
      "cell_type": "code",
      "execution_count": null,
      "metadata": {
        "colab": {
          "base_uri": "https://localhost:8080/"
        },
        "id": "LWGpNSK12xnM",
        "outputId": "7dec2dc5-b5a3-4a30-8c6c-47e1995f41ce"
      },
      "outputs": [
        {
          "name": "stdout",
          "output_type": "stream",
          "text": [
            "\n",
            "There are many reasons why you should not take comprehensive insurance. The main reason is that it excludes many things that you might need coverage for, including pre-existing conditions, specified diseases and procedures, and certain types of providers. Additionally, the policy has a waiting period for benefits, which means that you will have to wait a certain amount of time before your coverage kicks in.\n"
          ]
        }
      ],
      "source": [
        "ask_question2(\"why should i not take comprehensive?\")"
      ]
    },
    {
      "cell_type": "code",
      "execution_count": null,
      "metadata": {
        "colab": {
          "base_uri": "https://localhost:8080/",
          "height": 70
        },
        "id": "TEjHDvX822Cn",
        "outputId": "e0383f2d-8868-4025-ddde-0a77953f8ffb"
      },
      "outputs": [
        {
          "name": "stdout",
          "output_type": "stream",
          "text": [
            "\n",
            "No, you cannot maintain continuity benefits if you renew your policy 60 days after the end of the policy period.\n"
          ]
        },
        {
          "data": {
            "application/vnd.google.colaboratory.intrinsic+json": {
              "type": "string"
            },
            "text/plain": [
              "'\\nNo, you cannot maintain continuity benefits if you renew your policy 60 days after the end of the policy period.'"
            ]
          },
          "execution_count": 28,
          "metadata": {},
          "output_type": "execute_result"
        }
      ],
      "source": [
        "ask_question_without_tokenising(\"can i maintain continuity benefits if i renew my policy 60 days after the end of the policy period\") #wrong"
      ]
    },
    {
      "cell_type": "code",
      "execution_count": null,
      "metadata": {
        "colab": {
          "base_uri": "https://localhost:8080/"
        },
        "id": "1FHIV-Xv22FH",
        "outputId": "57f98f09-c02c-4f93-c767-a671fd984cef"
      },
      "outputs": [
        {
          "name": "stdout",
          "output_type": "stream",
          "text": [
            "\n",
            "The condition for porting is that the person must be covered continuously without lapses for at least 45 days, and earlier than 60 days from the policy renewal date, as per IRDAI guidelines.\n"
          ]
        }
      ],
      "source": [
        "ask_question2(\"whats the condition for porting?\")"
      ]
    },
    {
      "cell_type": "code",
      "execution_count": null,
      "metadata": {
        "colab": {
          "base_uri": "https://localhost:8080/"
        },
        "id": "Zss86oWE22IE",
        "outputId": "a2786a3a-cc4d-4471-f418-c71b322fe13a"
      },
      "outputs": [
        {
          "name": "stdout",
          "output_type": "stream",
          "text": [
            "\n",
            "No, you cannot migrate if your policy is ending tomorrow.\n"
          ]
        }
      ],
      "source": [
        "ask_question2(\"can i migrate if my policy is ending tomorrow?\")"
      ]
    },
    {
      "cell_type": "code",
      "execution_count": null,
      "metadata": {
        "colab": {
          "base_uri": "https://localhost:8080/"
        },
        "id": "_CF6Os-l22LM",
        "outputId": "03a6173a-98a8-46ca-8b62-b7142127e389"
      },
      "outputs": [
        {
          "name": "stdout",
          "output_type": "stream",
          "text": [
            "\n",
            "Yes, you can claim if you are in the grace period of instalment.\n"
          ]
        }
      ],
      "source": [
        "ask_question2(\"can i claim if i am in grace period of instalment\")"
      ]
    },
    {
      "cell_type": "code",
      "execution_count": null,
      "metadata": {
        "colab": {
          "base_uri": "https://localhost:8080/"
        },
        "id": "4NgBVWEE22Ol",
        "outputId": "5db007e3-606b-428d-a2d2-f3063888f4f1"
      },
      "outputs": [
        {
          "name": "stdout",
          "output_type": "stream",
          "text": [
            "\n",
            "The star advantages are that the company has direct in-house claims settlement, faster hassle-free claim settlement, and cashless hospitalization.\n"
          ]
        }
      ],
      "source": [
        "ask_question2(\"what are the star advantages?\")"
      ]
    },
    {
      "cell_type": "code",
      "execution_count": null,
      "metadata": {
        "colab": {
          "base_uri": "https://localhost:8080/"
        },
        "id": "sxHe4AlT3kzT",
        "outputId": "65f8c807-55e5-49fb-a68a-f5452d493e09"
      },
      "outputs": [
        {
          "name": "stdout",
          "output_type": "stream",
          "text": [
            "\n",
            "Yes, there is a waiting period.\n"
          ]
        }
      ],
      "source": [
        "ask_question2(\"is there waiting period\")"
      ]
    },
    {
      "cell_type": "code",
      "execution_count": null,
      "metadata": {
        "colab": {
          "base_uri": "https://localhost:8080/",
          "height": 36
        },
        "id": "QYmGj0QU3loM",
        "outputId": "6a4df0b5-96ec-41e4-93b4-0b33fda01f96"
      },
      "outputs": [
        {
          "data": {
            "application/vnd.google.colaboratory.intrinsic+json": {
              "type": "string"
            },
            "text/plain": [
              "'\\nThe policyholder can claim after paying the premium.'"
            ]
          },
          "execution_count": 128,
          "metadata": {},
          "output_type": "execute_result"
        }
      ],
      "source": [
        "ask_question2(\"when can i claim after paying premium\")"
      ]
    },
    {
      "cell_type": "code",
      "execution_count": null,
      "metadata": {
        "colab": {
          "base_uri": "https://localhost:8080/",
          "height": 36
        },
        "id": "lzGhghVF3lqx",
        "outputId": "e69aa59b-d7c1-4763-edad-ce7e3f2266eb"
      },
      "outputs": [
        {
          "data": {
            "application/vnd.google.colaboratory.intrinsic+json": {
              "type": "string"
            },
            "text/plain": [
              "'\\nYes, dental treatment is covered under this policy.'"
            ]
          },
          "execution_count": 127,
          "metadata": {},
          "output_type": "execute_result"
        }
      ],
      "source": [
        "ask_question2(\"is dental treatment covered\")"
      ]
    },
    {
      "cell_type": "code",
      "execution_count": null,
      "metadata": {
        "id": "1mr1MC2T3ltI"
      },
      "outputs": [],
      "source": [
        "ask_question2(\"\")"
      ]
    },
    {
      "cell_type": "code",
      "execution_count": null,
      "metadata": {
        "id": "Zw7_HnaC3lv8"
      },
      "outputs": [],
      "source": [
        "ask_question2(\"\")"
      ]
    },
    {
      "cell_type": "code",
      "execution_count": null,
      "metadata": {
        "id": "qB2zf8Uy3lyV"
      },
      "outputs": [],
      "source": [
        "ask_question2(\"\")"
      ]
    },
    {
      "cell_type": "code",
      "execution_count": null,
      "metadata": {
        "id": "ZmW_eOIE3l04"
      },
      "outputs": [],
      "source": [
        "ask_question2(\"\")"
      ]
    },
    {
      "cell_type": "code",
      "execution_count": null,
      "metadata": {
        "id": "GA9bz0rG3l3R"
      },
      "outputs": [],
      "source": [
        "ask_question2(\"\")"
      ]
    },
    {
      "cell_type": "code",
      "execution_count": null,
      "metadata": {
        "id": "L6qI28K-3l5b"
      },
      "outputs": [],
      "source": []
    },
    {
      "cell_type": "markdown",
      "metadata": {
        "id": "PYvObgEx5iP1"
      },
      "source": [
        "### performance metric"
      ]
    },
    {
      "cell_type": "code",
      "execution_count": null,
      "metadata": {
        "id": "-81HBtVn6i5H"
      },
      "outputs": [],
      "source": [
        "f = open('testing.json')\n",
        "testing = json.load(f)\n",
        "from torch import tensor"
      ]
    },
    {
      "cell_type": "code",
      "execution_count": null,
      "metadata": {
        "colab": {
          "base_uri": "https://localhost:8080/"
        },
        "id": "nLiQ3_mV6pak",
        "outputId": "3c96eaea-1960-4785-e285-69ee269e0221"
      },
      "outputs": [
        {
          "name": "stderr",
          "output_type": "stream",
          "text": [
            "/usr/local/lib/python3.7/dist-packages/huggingface_hub/file_download.py:563: FutureWarning: `cached_download` is the legacy way to download files from the HF hub, please consider upgrading to `hf_hub_download`\n",
            "  FutureWarning,\n"
          ]
        }
      ],
      "source": [
        "model = SentenceTransformer('all-MiniLM-L6-v2')\n",
        "def normalize_text(s):\n",
        "    \"\"\"Removing articles and punctuation, and standardizing whitespace are all typical text processing steps.\"\"\"\n",
        "    import string, re\n",
        "    def remove_articles(text):\n",
        "        regex = re.compile(r\"\\b(a|an|the)\\b\", re.UNICODE)\n",
        "        return re.sub(regex, \" \", text)\n",
        "\n",
        "    def white_space_fix(text):\n",
        "        return \" \".join(text.split())\n",
        "\n",
        "    def remove_punc(text):\n",
        "        exclude = set(string.punctuation)\n",
        "        return \"\".join(ch for ch in text if ch not in exclude)\n",
        "\n",
        "    def lower(text):\n",
        "        return text.lower()\n",
        "\n",
        "    return white_space_fix(remove_articles(remove_punc(lower(s))))\n",
        "def compute_similarity_score(prediction, truth,model):\n",
        "    pred_tokens = normalize_text(prediction).split()\n",
        "    truth_tokens = normalize_text(truth).split()\n",
        "\n",
        "    # if either the prediction or the truth is no-answer then f1 = 1 if they agree, 0 otherwise\n",
        "    if len(pred_tokens) == 0 or len(truth_tokens) == 0:\n",
        "        return int(pred_tokens == truth_tokens)\n",
        "\n",
        "    prediction = ' '.join(pred_tokens)\n",
        "    truth = ' '.join(truth_tokens)\n",
        "    embeddings1 = model.encode(prediction, convert_to_tensor=True)\n",
        "    embeddings2 = model.encode(truth, convert_to_tensor=True)\n",
        "    cosine_scores = util.cos_sim(embeddings1, embeddings2)\n",
        "    return cosine_scores[0][0]\n"
      ]
    },
    {
      "cell_type": "code",
      "execution_count": null,
      "metadata": {
        "id": "ji4Ynf4PCg12"
      },
      "outputs": [],
      "source": [
        "import statistics\n",
        "def get_score(testing,model):\n",
        "  scores = []\n",
        "  for x in testing:\n",
        "    if not x.get('prediction'):\n",
        "      x['prediction'] = ask_question2(x['question'])\n",
        "    scores.append(compute_similarity_score(x['prediction'],x['answer'],model))\n",
        "  score=statistics.mean([x.item() for x in scores])\n",
        "  return score,testing"
      ]
    },
    {
      "cell_type": "code",
      "execution_count": null,
      "metadata": {
        "colab": {
          "base_uri": "https://localhost:8080/"
        },
        "id": "9BSuvrMx7z0w",
        "outputId": "bf33883c-8b83-4270-fec1-21ace29fc0c0"
      },
      "outputs": [
        {
          "data": {
            "text/plain": [
              "[tensor(0.3610),\n",
              " tensor(0.8818),\n",
              " tensor(0.7985),\n",
              " tensor(0.8437),\n",
              " tensor(1.0000),\n",
              " tensor(0.9470),\n",
              " tensor(1.0000),\n",
              " tensor(0.0897),\n",
              " tensor(0.0703),\n",
              " tensor(0.3456),\n",
              " tensor(0.7561),\n",
              " tensor(0.0547),\n",
              " tensor(0.7662),\n",
              " tensor(1.),\n",
              " tensor(0.7205),\n",
              " tensor(0.0553),\n",
              " tensor(0.0302),\n",
              " tensor(0.0984),\n",
              " tensor(0.8776),\n",
              " tensor(0.6081),\n",
              " tensor(0.4988),\n",
              " tensor(0.7926),\n",
              " tensor(-0.0176),\n",
              " tensor(0.0879),\n",
              " tensor(0.9200),\n",
              " tensor(0.8260)]"
            ]
          },
          "execution_count": 81,
          "metadata": {},
          "output_type": "execute_result"
        }
      ],
      "source": [
        "#[(compute_similarity_score(ask_question2(x['question']), x['answer'],model)) for x in testing]"
      ]
    },
    {
      "cell_type": "code",
      "execution_count": null,
      "metadata": {
        "colab": {
          "base_uri": "https://localhost:8080/"
        },
        "id": "zfgGRb6l8MqX",
        "outputId": "70d4ced5-9a3a-4326-d9bf-8929a6dc9d13"
      },
      "outputs": [
        {
          "name": "stdout",
          "output_type": "stream",
          "text": [
            "0.553664877365988\n"
          ]
        }
      ],
      "source": [
        "score,testing = get_score(testing,model) #higher than 0.5 cosine scores shows great similarity\n",
        "print(score)"
      ]
    },
    {
      "cell_type": "code",
      "execution_count": null,
      "metadata": {
        "colab": {
          "base_uri": "https://localhost:8080/"
        },
        "id": "XZk7ir5tBa_w",
        "outputId": "cb892881-4883-42fc-f5c7-030578938797"
      },
      "outputs": [
        {
          "data": {
            "text/plain": [
              "[{'answer': '5%',\n",
              "  'prediction': '\\nThe answer is that you get a 5% discount on your premium.',\n",
              "  'question': 'I have 550 wellness points. What discount I get?'},\n",
              " {'answer': 'The policy automatically expires when the earlier of the following events occur: upon the death of the insured person, or upon exhaustion of the limit of coverage.',\n",
              "  'prediction': '\\nThe policy automatically expires when the insured person dies.',\n",
              "  'question': 'when does policy automatically expire?'},\n",
              " {'answer': 'The company will refund premium for the unexpired policy period as detailed in the tables given in brochure.',\n",
              "  'prediction': '\\nThe refund will be for the unexpired policy period, which would be 2/3 of the total premium paid.',\n",
              "  'question': 'How much refund will be given if policy is cancelled in 3 months after purchase ?'},\n",
              " {'answer': 'All day care procedures are covered.',\n",
              "  'prediction': '\\nDay Care Procedures are covered in comprehensive policy.',\n",
              "  'question': 'What Day care procedures are covered in comprehensive policy ?'},\n",
              " {'answer': 'The term options available are 1 year/2 year/3 year',\n",
              "  'prediction': '\\nThe term options available are 1 year/2 year/3 year.',\n",
              "  'question': 'What are all the term options available?'},\n",
              " {'answer': 'The installment options available for comprehensive policy are quarterly, half-yearly, annually, biennial, and triennial.',\n",
              "  'prediction': '\\nThe installment options available for comprehensive policy are quarterly, half-yearly, and annually.',\n",
              "  'question': 'What are all the installment options available for comprehensive policy ?'},\n",
              " {'answer': 'The limit for OP Consultation is Rs.300/- per consultation.',\n",
              "  'prediction': '\\nThe limit for OP Consultation is Rs.300/- per consultation.',\n",
              "  'question': 'What is the limit for OP Consultation ?'},\n",
              " {'answer': 'Yes',\n",
              "  'prediction': '\\nYes, outpatient claim is possible in comprehensive policy.',\n",
              "  'question': 'Is outpatient claim possible in comprehensive policy ?'},\n",
              " {'answer': 'Yes',\n",
              "  'prediction': '\\nNo, dental treatment is not covered.',\n",
              "  'question': 'Is Dental treatment covered ?'},\n",
              " {'answer': '8 exclusions and 15 under section B',\n",
              "  'prediction': \"\\nThe exclusions from the policy are:\\n\\n1. Pre-existing conditions\\n2. Accidents that the insured person caused intentionally or that resulted from the insured person's drunkenness or addiction (drugs, alcohol)\\n3. Insured person's engaging in air travel unless he/she flies as a fare-paying passenger on a properly licensed aircraft that is carrying passengers\\n4. Accidents that result from war or warlike occurrences, invasion, acts of foreign enemies, hostilities, civil war, rebellion, insurrection, or civil commotion assuming proportions of an uprising, military or usurped power, seizure, capture, arrest, restraints or detainments of kings, princes or people of any nation, condition or quality whatsoever\\n5. Participation in riots\\n6. Confiscation or nationalization or requisition or destruction or damage of property by order of any government or local authority\\n7. Claims resulting from or arising out of ionizing radiation or contamination by radioactivity from any nuclear fuel or from any nuclear waste from the combustion of any nuclear fuel or from any nuclear waste from the combustion (including a self sustaining process of nuclear fission) of any nuclear fuel\\n8. Nuclear weapons material\\n9. The radioactive toxic explosive or other hazardous properties of any explosive nuclear assembly or nuclear component thereof\\n10. Nuclear chemical and biological terrorism\\n11. Claims arising out of sporting activities that involve the training for and participation in competitions by professional and semi-professional sports persons\\n12. Participation\",\n",
              "  'question': 'What are all excluded from the policy?'},\n",
              " {'answer': 'Section 11 of the policy covers the Star Wellness Program, which is a program designed to promote healthy lifestyles and to reward policyholders for participating in various wellness activities. Under the program, policyholders can earn wellness points by completing certain activities, which can then be used to get a discount on their premium.',\n",
              "  'prediction': \"\\nThe answer to the question is that the coverage under section 11 is for the Insured Person's wellness program. The program is designed to help the Insured person earn wellness reward points that can be used to get a discount on the premium.\",\n",
              "  'question': 'what is covered under section 11'},\n",
              " {'answer': 'refer tables in website',\n",
              "  'prediction': '\\nThe refund will be for the unexpired policy period, which would be 2/3 of the total premium paid.',\n",
              "  'question': 'How much refund will be given if policy is cancelled in 3 months after purchase ?'},\n",
              " {'answer': 'a refund of the premium paid less any expenses incurred by the company on medical examination of the insured person and the stamp duty charges',\n",
              "  'prediction': '\\nIf you cancel the policy during the free look period, you will be refunded the premium paid less expenses incurred by the company for the medical examination of the insured person and stamp duty charges.',\n",
              "  'question': 'How much refund I will get if I cancel the policy during free look period ?'},\n",
              " {'answer': 'The waiting period is reduced from 36 months to 12 months.',\n",
              "  'prediction': '\\nThe waiting period is reduced from 36 months to 12 months.',\n",
              "  'question': 'How much is the waiting period reduced, if I choose buy back option ?'},\n",
              " {'answer': 'Yes, there is a co-payment of 10% for every claim amount for those who are 61 years or older.',\n",
              "  'prediction': '\\nYes, there is a co-payment needed for this policy.',\n",
              "  'question': 'Is there co-payment needed ?'},\n",
              " {'answer': 'No',\n",
              "  'prediction': '\\nNo, you are not eligible to take comprehensive policy because the entry age range is 3 months to 65 years.',\n",
              "  'question': 'I am 85 years. Am I eligible to take comprehensive policy?'},\n",
              " {'answer': 'Yes',\n",
              "  'prediction': '\\nYes, you are eligible to take a comprehensive policy. The entry age range for this policy is 3 months to 65 years.',\n",
              "  'question': 'I am 45 years. Am I eligible to take comprehensive policy?'},\n",
              " {'answer': 'Yes',\n",
              "  'prediction': '\\nNo, you are not eligible to take a comprehensive policy if you are 85 years old.',\n",
              "  'question': 'I am 85 years but already enrolled in comprehensive policy. Am I eligible to take comprehensive policy?'},\n",
              " {'answer': 'The age range for the comprehensive policy is 3 months to 65 years. There is no exit age, so once you enter, you will be covered for lifetime.',\n",
              "  'prediction': '\\nThe age range for the comprehensive policy is 3 months to 65 years.',\n",
              "  'question': 'age range for comprehensive policy?'},\n",
              " {'answer': 'Some benefits of having a comprehensive health insurance policy are that it offers protection against all health care eventualities, it has no exit age, and it is renewable for life. Additionally, a comprehensive health insurance policy can be paid for in quarterly or half-yearly installments, and there is no pre-acceptance medical screening required.',\n",
              "  'prediction': '\\nSome benefits of the policy include:\\n-The policy offers complete protection essential health insurance cover\\n-The policy is carefully crafted to offer complete protection against health care eventualities for the entire family or an individual floater\\n-Easis. Eligibility: Entry age 3 months 65 years, lifelong renewals guaranteed, exit age\\n-Policy Type - Individual/Floater (Family size: Maximum 2 adults + 3 dependent children), Dependent children economically dependent parents covered upto 25 years age\\n-Sum Insured options Rs.500000; Rs.750000; Rs.1000000; Rs.1500000; Rs.2000000; Rs.2500000; Rs.5000000; Rs.7500000; Rs.10000000\\n-Policy Term: 1 year/2 year/3 year policies one year basic sum insured year without carry benefit thereof\\n-Instalment Facility available: Premium paid Quarterly Half-yearly. Premium also paid Annually, Biennial (2 years) Triennial (3 years)\\n-Quarterly - 3 % | Half Yearly - 2 % (applicable annual premium)\\n-Pre-acceptance medical screening: Pre-acceptance medical screening\\n-Day Care Procedures: Day Care Procedures covered',\n",
              "  'question': 'what are benefits of the policy'},\n",
              " {'answer': 'If the company removes the policy, the insured person will be notified 90 days in advance. The insured person will then have the option to migrate to a similar health insurance product offered by the company, provided that the policy has been maintained without a break.',\n",
              "  'prediction': '\\nThe company would refund the premium if the policy is cancelled due to misrepresentation, non-disclosure of material facts, or fraud on the part of the insured person.',\n",
              "  'question': 'what happens if company removes policy'},\n",
              " {'answer': 'The eligibility is that you must be between 3 months and 65 years old to take out the policy, and there is no exit age. You will be covered for life once you enter.',\n",
              "  'prediction': '\\nThe eligibility is that the person must be between 3 months and 65 years old.',\n",
              "  'question': 'what is the eligibility?'},\n",
              " {'answer': 'Yes',\n",
              "  'prediction': '\\nYes, families are eligible to take a comprehensive policy. The entry age range is 3 months to 65 years, and the exit age is 65 years. The policy offers complete protection against essential health care eventualities for the entire family.',\n",
              "  'question': 'can family take comprehensive'},\n",
              " {'answer': 'Yes',\n",
              "  'prediction': '\\nYes, it is possible to add a newborn to your policy. You just have to make sure that you notify the company within 60 days of the birth and pay the additional premium.',\n",
              "  'question': 'I have a newborn and want to add to my policy. Is that possible?'},\n",
              " {'answer': 'The coverage for bariatric surgery is Rs.2,50,000/- to Rs.5,00,000/- which is inclusive of pre-hospitalization and post hospitalization expenses.',\n",
              "  'prediction': '\\nThe coverage for bariatric surgery is Rs.2,50,000/- per hospitalization, exceeding Rs.5,00,000/- per policy period.',\n",
              "  'question': 'what is the coverage for bariatric surgery ?'},\n",
              " {'answer': 'The benefits of the wellness program are that it helps the insured person to earn wellness reward points which can be used to get a discount on premium.',\n",
              "  'prediction': '\\nThe wellness program offers discounts on premiums for healthy activities. It also provides a way to track and monitor the progress of the insured person.',\n",
              "  'question': 'What are the benefits of wellness program ?'}]"
            ]
          },
          "execution_count": 119,
          "metadata": {},
          "output_type": "execute_result"
        }
      ],
      "source": [
        "testing"
      ]
    },
    {
      "cell_type": "code",
      "execution_count": null,
      "metadata": {
        "id": "YuKCxdvHGOPd"
      },
      "outputs": [],
      "source": [
        "import json\n",
        "with open('outputfile.json', 'w') as fout:\n",
        "    json.dump(testing, fout)"
      ]
    },
    {
      "cell_type": "markdown",
      "metadata": {
        "id": "4cVAF-jSU62U"
      },
      "source": [
        "### performance without tokenising"
      ]
    },
    {
      "cell_type": "code",
      "execution_count": null,
      "metadata": {
        "id": "7dsfqdF2U2SX"
      },
      "outputs": [],
      "source": [
        "f = open('testing.json')\n",
        "testing2 = json.load(f)"
      ]
    },
    {
      "cell_type": "code",
      "execution_count": null,
      "metadata": {
        "id": "79FaUlXzVAvh"
      },
      "outputs": [],
      "source": [
        "\n",
        "def get_score(testing,model):\n",
        "  scores = []\n",
        "  for x in testing:\n",
        "    if not x.get('prediction'):\n",
        "      x['prediction'] = ask_question_without_tokenising(x['question'])\n",
        "    scores.append(compute_similarity_score(x['prediction'],x['answer'],model))\n",
        "  score=statistics.mean([x.item() for x in scores])\n",
        "  return score,testing"
      ]
    },
    {
      "cell_type": "code",
      "execution_count": null,
      "metadata": {
        "colab": {
          "base_uri": "https://localhost:8080/"
        },
        "id": "my1Jo-39VOFt",
        "outputId": "41a9b287-50f3-4c11-bacf-94769a1f4476"
      },
      "outputs": [
        {
          "name": "stdout",
          "output_type": "stream",
          "text": [
            "\n",
            "The discount for 550 wellness points is 5%.\n",
            "\n",
            "The policy automatically expires when the earlier of the following events occur: upon the death of the insured person, or upon exhaustion of the limit of coverage.\n",
            "\n",
            "The refund will be pro-rated based on the number of months remaining on the policy.\n",
            "\n",
            "All Day Care Procedures are covered in the comprehensive policy.\n",
            "\n",
            "The term options available are 1 year/2 year/3 year.\n",
            "\n",
            "The installment options available for comprehensive policy are quarterly, half-yearly, annually, biennial, and triennial.\n",
            "\n",
            "The limit for OP Consultation is Rs.300/- per consultation.\n",
            "\n",
            "Yes, outpatient claim is possible in comprehensive policy.\n",
            "\n",
            "Yes, Dental treatment is covered under this policy.\n",
            "\n",
            "There are 38 exclusions from the policy, which are listed in the paragraph. These include pre-existing conditions, specified diseases/procedures, cosmetic surgery, and treatments received in health clinics and spas.\n",
            "\n",
            "Section 11 of the paragraph covers the \"Star Wellness Program.\" This program incentivizes and rewards the insured person's healthy lifestyle through various wellness activities. These activities are designed to help the insured person earn wellness reward points, which can be used to get a discount on premium.\n",
            "\n",
            "The refund will be pro-rated based on the number of months remaining on the policy.\n",
            "\n",
            "If you cancel the policy during the free look period, you will be refunded the premium paid less any expenses incurred by the company on medical examination of the insured person and the stamp duty charges.\n",
            "\n",
            "The waiting period is reduced from 36 months to 12 months.\n",
            "\n",
            "Yes, there is a co-payment of 10% needed for this policy.\n",
            "\n",
            "No, you are not eligible to take comprehensive policy because the entry age range is 3 months to 65 years.\n",
            "\n",
            "Yes, you are eligible to take a comprehensive policy. The entry age range is 3 months to 65 years, and there is no exit age. So, once you enter the policy, you will be covered for your lifetime.\n",
            "\n",
            "There is no exit age for the comprehensive policy, so you will be covered until lifetime.\n",
            "\n",
            "The age range for the comprehensive policy is 3 months to 65 years. There is no exit age.\n",
            "\n",
            "Some benefits of the policy include:\n",
            "-Hospital Cash Benefit\n",
            "-No Pre-acceptance medical screening\n",
            "-Day Care Procedures are covered\n",
            "-Midterm inclusion of newly married / wedded spouse and New Born Baby is permissible\n",
            "\n",
            "If the company removes the policy, the insured person will be notified 90 days in advance. The insured person will then have the option to migrate to a similar health insurance product offered by the company, provided that the policy has been maintained without a break.\n",
            "\n",
            "The eligibility for the STAR Comprehensive Insurance Policy is an entry age between 3 months and 65 years, lifelong renewals guaranteed, and no exit age.\n",
            "\n",
            "Yes, families can take comprehensive insurance policies.\n",
            "\n",
            "Yes, it is possible to add a newborn to your policy. You will need to pay an additional premium for this coverage.\n",
            "\n",
            "The coverage for bariatric surgery is up to Rs.2,50,000/- for hospitalization and Rs.5,00,000/- for pre-hospitalization and post-hospitalization expenses.\n",
            "\n",
            "The wellness program offers discounts on premium for healthy activities.\n"
          ]
        }
      ],
      "source": [
        "score,testing2 = get_score(testing2,model) #higher than 0.5 cosine scores shows great similarity\n"
      ]
    },
    {
      "cell_type": "code",
      "execution_count": null,
      "metadata": {
        "colab": {
          "base_uri": "https://localhost:8080/"
        },
        "id": "CslghQs-VlLp",
        "outputId": "e86e878f-ea60-4306-f99f-4c388edaa3fd"
      },
      "outputs": [
        {
          "name": "stdout",
          "output_type": "stream",
          "text": [
            "0.5862348293863201\n"
          ]
        }
      ],
      "source": [
        "print(score)"
      ]
    },
    {
      "cell_type": "code",
      "execution_count": null,
      "metadata": {
        "id": "sx2lu9XoVSXR"
      },
      "outputs": [],
      "source": [
        "import json\n",
        "with open('outputfilewithouttoken.json', 'w') as fout:\n",
        "    json.dump(testing2, fout)"
      ]
    }
  ],
  "metadata": {
    "colab": {
      "provenance": []
    },
    "kernelspec": {
      "display_name": "Python 3 (ipykernel)",
      "language": "python",
      "name": "python3"
    },
    "language_info": {
      "codemirror_mode": {
        "name": "ipython",
        "version": 3
      },
      "file_extension": ".py",
      "mimetype": "text/x-python",
      "name": "python",
      "nbconvert_exporter": "python",
      "pygments_lexer": "ipython3",
      "version": "3.8.6"
    },
    "widgets": {
      "application/vnd.jupyter.widget-state+json": {
        "01a11cfef5404d3a82c63fbd6e1933c5": {
          "model_module": "@jupyter-widgets/controls",
          "model_module_version": "1.5.0",
          "model_name": "ProgressStyleModel",
          "state": {
            "_model_module": "@jupyter-widgets/controls",
            "_model_module_version": "1.5.0",
            "_model_name": "ProgressStyleModel",
            "_view_count": null,
            "_view_module": "@jupyter-widgets/base",
            "_view_module_version": "1.2.0",
            "_view_name": "StyleView",
            "bar_color": null,
            "description_width": ""
          }
        },
        "05c8ed1f78bc45c3b0ea7d70f3211433": {
          "model_module": "@jupyter-widgets/controls",
          "model_module_version": "1.5.0",
          "model_name": "DescriptionStyleModel",
          "state": {
            "_model_module": "@jupyter-widgets/controls",
            "_model_module_version": "1.5.0",
            "_model_name": "DescriptionStyleModel",
            "_view_count": null,
            "_view_module": "@jupyter-widgets/base",
            "_view_module_version": "1.2.0",
            "_view_name": "StyleView",
            "description_width": ""
          }
        },
        "06cd83c3a6cf443a805fb6c8f395d2f4": {
          "model_module": "@jupyter-widgets/controls",
          "model_module_version": "1.5.0",
          "model_name": "DescriptionStyleModel",
          "state": {
            "_model_module": "@jupyter-widgets/controls",
            "_model_module_version": "1.5.0",
            "_model_name": "DescriptionStyleModel",
            "_view_count": null,
            "_view_module": "@jupyter-widgets/base",
            "_view_module_version": "1.2.0",
            "_view_name": "StyleView",
            "description_width": ""
          }
        },
        "07ad458ec7884a589b75b848e137804e": {
          "model_module": "@jupyter-widgets/base",
          "model_module_version": "1.2.0",
          "model_name": "LayoutModel",
          "state": {
            "_model_module": "@jupyter-widgets/base",
            "_model_module_version": "1.2.0",
            "_model_name": "LayoutModel",
            "_view_count": null,
            "_view_module": "@jupyter-widgets/base",
            "_view_module_version": "1.2.0",
            "_view_name": "LayoutView",
            "align_content": null,
            "align_items": null,
            "align_self": null,
            "border": null,
            "bottom": null,
            "display": null,
            "flex": null,
            "flex_flow": null,
            "grid_area": null,
            "grid_auto_columns": null,
            "grid_auto_flow": null,
            "grid_auto_rows": null,
            "grid_column": null,
            "grid_gap": null,
            "grid_row": null,
            "grid_template_areas": null,
            "grid_template_columns": null,
            "grid_template_rows": null,
            "height": null,
            "justify_content": null,
            "justify_items": null,
            "left": null,
            "margin": null,
            "max_height": null,
            "max_width": null,
            "min_height": null,
            "min_width": null,
            "object_fit": null,
            "object_position": null,
            "order": null,
            "overflow": null,
            "overflow_x": null,
            "overflow_y": null,
            "padding": null,
            "right": null,
            "top": null,
            "visibility": null,
            "width": null
          }
        },
        "07aeab70c85240268641fd52580c9bca": {
          "model_module": "@jupyter-widgets/controls",
          "model_module_version": "1.5.0",
          "model_name": "HBoxModel",
          "state": {
            "_dom_classes": [],
            "_model_module": "@jupyter-widgets/controls",
            "_model_module_version": "1.5.0",
            "_model_name": "HBoxModel",
            "_view_count": null,
            "_view_module": "@jupyter-widgets/controls",
            "_view_module_version": "1.5.0",
            "_view_name": "HBoxView",
            "box_style": "",
            "children": [
              "IPY_MODEL_f3f0c0909b0b402d89af3518f8321e4c",
              "IPY_MODEL_f1ce6a8e70af4398b21c2c8b8a92f253",
              "IPY_MODEL_fd07096caa074b499f9b9f7c46a68691"
            ],
            "layout": "IPY_MODEL_13f1871ed93b4999a99b9adcb0feeb36"
          }
        },
        "07fae9dc8ec54831bd7050cb7456555c": {
          "model_module": "@jupyter-widgets/base",
          "model_module_version": "1.2.0",
          "model_name": "LayoutModel",
          "state": {
            "_model_module": "@jupyter-widgets/base",
            "_model_module_version": "1.2.0",
            "_model_name": "LayoutModel",
            "_view_count": null,
            "_view_module": "@jupyter-widgets/base",
            "_view_module_version": "1.2.0",
            "_view_name": "LayoutView",
            "align_content": null,
            "align_items": null,
            "align_self": null,
            "border": null,
            "bottom": null,
            "display": null,
            "flex": null,
            "flex_flow": null,
            "grid_area": null,
            "grid_auto_columns": null,
            "grid_auto_flow": null,
            "grid_auto_rows": null,
            "grid_column": null,
            "grid_gap": null,
            "grid_row": null,
            "grid_template_areas": null,
            "grid_template_columns": null,
            "grid_template_rows": null,
            "height": null,
            "justify_content": null,
            "justify_items": null,
            "left": null,
            "margin": null,
            "max_height": null,
            "max_width": null,
            "min_height": null,
            "min_width": null,
            "object_fit": null,
            "object_position": null,
            "order": null,
            "overflow": null,
            "overflow_x": null,
            "overflow_y": null,
            "padding": null,
            "right": null,
            "top": null,
            "visibility": null,
            "width": null
          }
        },
        "086a166e260148a393d848f3af01d811": {
          "model_module": "@jupyter-widgets/base",
          "model_module_version": "1.2.0",
          "model_name": "LayoutModel",
          "state": {
            "_model_module": "@jupyter-widgets/base",
            "_model_module_version": "1.2.0",
            "_model_name": "LayoutModel",
            "_view_count": null,
            "_view_module": "@jupyter-widgets/base",
            "_view_module_version": "1.2.0",
            "_view_name": "LayoutView",
            "align_content": null,
            "align_items": null,
            "align_self": null,
            "border": null,
            "bottom": null,
            "display": null,
            "flex": null,
            "flex_flow": null,
            "grid_area": null,
            "grid_auto_columns": null,
            "grid_auto_flow": null,
            "grid_auto_rows": null,
            "grid_column": null,
            "grid_gap": null,
            "grid_row": null,
            "grid_template_areas": null,
            "grid_template_columns": null,
            "grid_template_rows": null,
            "height": null,
            "justify_content": null,
            "justify_items": null,
            "left": null,
            "margin": null,
            "max_height": null,
            "max_width": null,
            "min_height": null,
            "min_width": null,
            "object_fit": null,
            "object_position": null,
            "order": null,
            "overflow": null,
            "overflow_x": null,
            "overflow_y": null,
            "padding": null,
            "right": null,
            "top": null,
            "visibility": null,
            "width": null
          }
        },
        "08cfb162fde04b8088e9919870020b87": {
          "model_module": "@jupyter-widgets/controls",
          "model_module_version": "1.5.0",
          "model_name": "DescriptionStyleModel",
          "state": {
            "_model_module": "@jupyter-widgets/controls",
            "_model_module_version": "1.5.0",
            "_model_name": "DescriptionStyleModel",
            "_view_count": null,
            "_view_module": "@jupyter-widgets/base",
            "_view_module_version": "1.2.0",
            "_view_name": "StyleView",
            "description_width": ""
          }
        },
        "0a422689e04046ebad8b3b17905dabe1": {
          "model_module": "@jupyter-widgets/base",
          "model_module_version": "1.2.0",
          "model_name": "LayoutModel",
          "state": {
            "_model_module": "@jupyter-widgets/base",
            "_model_module_version": "1.2.0",
            "_model_name": "LayoutModel",
            "_view_count": null,
            "_view_module": "@jupyter-widgets/base",
            "_view_module_version": "1.2.0",
            "_view_name": "LayoutView",
            "align_content": null,
            "align_items": null,
            "align_self": null,
            "border": null,
            "bottom": null,
            "display": null,
            "flex": null,
            "flex_flow": null,
            "grid_area": null,
            "grid_auto_columns": null,
            "grid_auto_flow": null,
            "grid_auto_rows": null,
            "grid_column": null,
            "grid_gap": null,
            "grid_row": null,
            "grid_template_areas": null,
            "grid_template_columns": null,
            "grid_template_rows": null,
            "height": null,
            "justify_content": null,
            "justify_items": null,
            "left": null,
            "margin": null,
            "max_height": null,
            "max_width": null,
            "min_height": null,
            "min_width": null,
            "object_fit": null,
            "object_position": null,
            "order": null,
            "overflow": null,
            "overflow_x": null,
            "overflow_y": null,
            "padding": null,
            "right": null,
            "top": null,
            "visibility": null,
            "width": null
          }
        },
        "0d02b5f2b7584cd08b5dd3b5027174be": {
          "model_module": "@jupyter-widgets/controls",
          "model_module_version": "1.5.0",
          "model_name": "ProgressStyleModel",
          "state": {
            "_model_module": "@jupyter-widgets/controls",
            "_model_module_version": "1.5.0",
            "_model_name": "ProgressStyleModel",
            "_view_count": null,
            "_view_module": "@jupyter-widgets/base",
            "_view_module_version": "1.2.0",
            "_view_name": "StyleView",
            "bar_color": null,
            "description_width": ""
          }
        },
        "1104edfc25f74d408b3329f75e8cd912": {
          "model_module": "@jupyter-widgets/base",
          "model_module_version": "1.2.0",
          "model_name": "LayoutModel",
          "state": {
            "_model_module": "@jupyter-widgets/base",
            "_model_module_version": "1.2.0",
            "_model_name": "LayoutModel",
            "_view_count": null,
            "_view_module": "@jupyter-widgets/base",
            "_view_module_version": "1.2.0",
            "_view_name": "LayoutView",
            "align_content": null,
            "align_items": null,
            "align_self": null,
            "border": null,
            "bottom": null,
            "display": null,
            "flex": null,
            "flex_flow": null,
            "grid_area": null,
            "grid_auto_columns": null,
            "grid_auto_flow": null,
            "grid_auto_rows": null,
            "grid_column": null,
            "grid_gap": null,
            "grid_row": null,
            "grid_template_areas": null,
            "grid_template_columns": null,
            "grid_template_rows": null,
            "height": null,
            "justify_content": null,
            "justify_items": null,
            "left": null,
            "margin": null,
            "max_height": null,
            "max_width": null,
            "min_height": null,
            "min_width": null,
            "object_fit": null,
            "object_position": null,
            "order": null,
            "overflow": null,
            "overflow_x": null,
            "overflow_y": null,
            "padding": null,
            "right": null,
            "top": null,
            "visibility": null,
            "width": null
          }
        },
        "12ad55a824894c39b524d07c2551b3fc": {
          "model_module": "@jupyter-widgets/controls",
          "model_module_version": "1.5.0",
          "model_name": "ProgressStyleModel",
          "state": {
            "_model_module": "@jupyter-widgets/controls",
            "_model_module_version": "1.5.0",
            "_model_name": "ProgressStyleModel",
            "_view_count": null,
            "_view_module": "@jupyter-widgets/base",
            "_view_module_version": "1.2.0",
            "_view_name": "StyleView",
            "bar_color": null,
            "description_width": ""
          }
        },
        "1388bb6a01124abbaba54c2adc1713ca": {
          "model_module": "@jupyter-widgets/controls",
          "model_module_version": "1.5.0",
          "model_name": "HTMLModel",
          "state": {
            "_dom_classes": [],
            "_model_module": "@jupyter-widgets/controls",
            "_model_module_version": "1.5.0",
            "_model_name": "HTMLModel",
            "_view_count": null,
            "_view_module": "@jupyter-widgets/controls",
            "_view_module_version": "1.5.0",
            "_view_name": "HTMLView",
            "description": "",
            "description_tooltip": null,
            "layout": "IPY_MODEL_07ad458ec7884a589b75b848e137804e",
            "placeholder": "​",
            "style": "IPY_MODEL_540296cbf7b64b7999cbded597917a64",
            "value": " 90.9M/90.9M [00:02&lt;00:00, 47.2MB/s]"
          }
        },
        "13f1871ed93b4999a99b9adcb0feeb36": {
          "model_module": "@jupyter-widgets/base",
          "model_module_version": "1.2.0",
          "model_name": "LayoutModel",
          "state": {
            "_model_module": "@jupyter-widgets/base",
            "_model_module_version": "1.2.0",
            "_model_name": "LayoutModel",
            "_view_count": null,
            "_view_module": "@jupyter-widgets/base",
            "_view_module_version": "1.2.0",
            "_view_name": "LayoutView",
            "align_content": null,
            "align_items": null,
            "align_self": null,
            "border": null,
            "bottom": null,
            "display": null,
            "flex": null,
            "flex_flow": null,
            "grid_area": null,
            "grid_auto_columns": null,
            "grid_auto_flow": null,
            "grid_auto_rows": null,
            "grid_column": null,
            "grid_gap": null,
            "grid_row": null,
            "grid_template_areas": null,
            "grid_template_columns": null,
            "grid_template_rows": null,
            "height": null,
            "justify_content": null,
            "justify_items": null,
            "left": null,
            "margin": null,
            "max_height": null,
            "max_width": null,
            "min_height": null,
            "min_width": null,
            "object_fit": null,
            "object_position": null,
            "order": null,
            "overflow": null,
            "overflow_x": null,
            "overflow_y": null,
            "padding": null,
            "right": null,
            "top": null,
            "visibility": null,
            "width": null
          }
        },
        "144b4a1bc0c540f3933317e5cce85389": {
          "model_module": "@jupyter-widgets/controls",
          "model_module_version": "1.5.0",
          "model_name": "HTMLModel",
          "state": {
            "_dom_classes": [],
            "_model_module": "@jupyter-widgets/controls",
            "_model_module_version": "1.5.0",
            "_model_name": "HTMLModel",
            "_view_count": null,
            "_view_module": "@jupyter-widgets/controls",
            "_view_module_version": "1.5.0",
            "_view_name": "HTMLView",
            "description": "",
            "description_tooltip": null,
            "layout": "IPY_MODEL_2605d17257d343d0ad262bb63566d1c9",
            "placeholder": "​",
            "style": "IPY_MODEL_81d4c13473344a5895a9f2153004b4ac",
            "value": " 2/2 [00:08&lt;00:00,  8.30s/it]"
          }
        },
        "14ab2b45a9cd4039856089a266a90333": {
          "model_module": "@jupyter-widgets/base",
          "model_module_version": "1.2.0",
          "model_name": "LayoutModel",
          "state": {
            "_model_module": "@jupyter-widgets/base",
            "_model_module_version": "1.2.0",
            "_model_name": "LayoutModel",
            "_view_count": null,
            "_view_module": "@jupyter-widgets/base",
            "_view_module_version": "1.2.0",
            "_view_name": "LayoutView",
            "align_content": null,
            "align_items": null,
            "align_self": null,
            "border": null,
            "bottom": null,
            "display": null,
            "flex": null,
            "flex_flow": null,
            "grid_area": null,
            "grid_auto_columns": null,
            "grid_auto_flow": null,
            "grid_auto_rows": null,
            "grid_column": null,
            "grid_gap": null,
            "grid_row": null,
            "grid_template_areas": null,
            "grid_template_columns": null,
            "grid_template_rows": null,
            "height": null,
            "justify_content": null,
            "justify_items": null,
            "left": null,
            "margin": null,
            "max_height": null,
            "max_width": null,
            "min_height": null,
            "min_width": null,
            "object_fit": null,
            "object_position": null,
            "order": null,
            "overflow": null,
            "overflow_x": null,
            "overflow_y": null,
            "padding": null,
            "right": null,
            "top": null,
            "visibility": null,
            "width": null
          }
        },
        "150798ee3746443da2dfdb6b4fa8b9b6": {
          "model_module": "@jupyter-widgets/base",
          "model_module_version": "1.2.0",
          "model_name": "LayoutModel",
          "state": {
            "_model_module": "@jupyter-widgets/base",
            "_model_module_version": "1.2.0",
            "_model_name": "LayoutModel",
            "_view_count": null,
            "_view_module": "@jupyter-widgets/base",
            "_view_module_version": "1.2.0",
            "_view_name": "LayoutView",
            "align_content": null,
            "align_items": null,
            "align_self": null,
            "border": null,
            "bottom": null,
            "display": null,
            "flex": null,
            "flex_flow": null,
            "grid_area": null,
            "grid_auto_columns": null,
            "grid_auto_flow": null,
            "grid_auto_rows": null,
            "grid_column": null,
            "grid_gap": null,
            "grid_row": null,
            "grid_template_areas": null,
            "grid_template_columns": null,
            "grid_template_rows": null,
            "height": null,
            "justify_content": null,
            "justify_items": null,
            "left": null,
            "margin": null,
            "max_height": null,
            "max_width": null,
            "min_height": null,
            "min_width": null,
            "object_fit": null,
            "object_position": null,
            "order": null,
            "overflow": null,
            "overflow_x": null,
            "overflow_y": null,
            "padding": null,
            "right": null,
            "top": null,
            "visibility": null,
            "width": null
          }
        },
        "172348788b814d16950e655ef1d36315": {
          "model_module": "@jupyter-widgets/base",
          "model_module_version": "1.2.0",
          "model_name": "LayoutModel",
          "state": {
            "_model_module": "@jupyter-widgets/base",
            "_model_module_version": "1.2.0",
            "_model_name": "LayoutModel",
            "_view_count": null,
            "_view_module": "@jupyter-widgets/base",
            "_view_module_version": "1.2.0",
            "_view_name": "LayoutView",
            "align_content": null,
            "align_items": null,
            "align_self": null,
            "border": null,
            "bottom": null,
            "display": null,
            "flex": null,
            "flex_flow": null,
            "grid_area": null,
            "grid_auto_columns": null,
            "grid_auto_flow": null,
            "grid_auto_rows": null,
            "grid_column": null,
            "grid_gap": null,
            "grid_row": null,
            "grid_template_areas": null,
            "grid_template_columns": null,
            "grid_template_rows": null,
            "height": null,
            "justify_content": null,
            "justify_items": null,
            "left": null,
            "margin": null,
            "max_height": null,
            "max_width": null,
            "min_height": null,
            "min_width": null,
            "object_fit": null,
            "object_position": null,
            "order": null,
            "overflow": null,
            "overflow_x": null,
            "overflow_y": null,
            "padding": null,
            "right": null,
            "top": null,
            "visibility": null,
            "width": null
          }
        },
        "18b70a83906a41fa83e2a3a46461bc37": {
          "model_module": "@jupyter-widgets/controls",
          "model_module_version": "1.5.0",
          "model_name": "ProgressStyleModel",
          "state": {
            "_model_module": "@jupyter-widgets/controls",
            "_model_module_version": "1.5.0",
            "_model_name": "ProgressStyleModel",
            "_view_count": null,
            "_view_module": "@jupyter-widgets/base",
            "_view_module_version": "1.2.0",
            "_view_name": "StyleView",
            "bar_color": null,
            "description_width": ""
          }
        },
        "1969e33e666044bc9feda411a07b8fac": {
          "model_module": "@jupyter-widgets/controls",
          "model_module_version": "1.5.0",
          "model_name": "FloatProgressModel",
          "state": {
            "_dom_classes": [],
            "_model_module": "@jupyter-widgets/controls",
            "_model_module_version": "1.5.0",
            "_model_name": "FloatProgressModel",
            "_view_count": null,
            "_view_module": "@jupyter-widgets/controls",
            "_view_module_version": "1.5.0",
            "_view_name": "ProgressView",
            "bar_style": "success",
            "description": "",
            "description_tooltip": null,
            "layout": "IPY_MODEL_a45efe73153c45c2a02bd6915846e6e7",
            "max": 90888945,
            "min": 0,
            "orientation": "horizontal",
            "style": "IPY_MODEL_cb35332400bf4265956e2cd3995c447c",
            "value": 90888945
          }
        },
        "1d93b911a8e84c7d996b574548f1b101": {
          "model_module": "@jupyter-widgets/base",
          "model_module_version": "1.2.0",
          "model_name": "LayoutModel",
          "state": {
            "_model_module": "@jupyter-widgets/base",
            "_model_module_version": "1.2.0",
            "_model_name": "LayoutModel",
            "_view_count": null,
            "_view_module": "@jupyter-widgets/base",
            "_view_module_version": "1.2.0",
            "_view_name": "LayoutView",
            "align_content": null,
            "align_items": null,
            "align_self": null,
            "border": null,
            "bottom": null,
            "display": null,
            "flex": null,
            "flex_flow": null,
            "grid_area": null,
            "grid_auto_columns": null,
            "grid_auto_flow": null,
            "grid_auto_rows": null,
            "grid_column": null,
            "grid_gap": null,
            "grid_row": null,
            "grid_template_areas": null,
            "grid_template_columns": null,
            "grid_template_rows": null,
            "height": null,
            "justify_content": null,
            "justify_items": null,
            "left": null,
            "margin": null,
            "max_height": null,
            "max_width": null,
            "min_height": null,
            "min_width": null,
            "object_fit": null,
            "object_position": null,
            "order": null,
            "overflow": null,
            "overflow_x": null,
            "overflow_y": null,
            "padding": null,
            "right": null,
            "top": null,
            "visibility": null,
            "width": null
          }
        },
        "1e67eea8cae041d9a7028038aec432b6": {
          "model_module": "@jupyter-widgets/controls",
          "model_module_version": "1.5.0",
          "model_name": "HBoxModel",
          "state": {
            "_dom_classes": [],
            "_model_module": "@jupyter-widgets/controls",
            "_model_module_version": "1.5.0",
            "_model_name": "HBoxModel",
            "_view_count": null,
            "_view_module": "@jupyter-widgets/controls",
            "_view_module_version": "1.5.0",
            "_view_name": "HBoxView",
            "box_style": "",
            "children": [
              "IPY_MODEL_246bba2dbc7844c08b05d0dc103e197e",
              "IPY_MODEL_69f61ce7c5f64c1ca4d6d17c24bfcec4",
              "IPY_MODEL_57656bef418a4288b962b870ccd216c6"
            ],
            "layout": "IPY_MODEL_91b2d4e0c8b44bd8acd7dc5b7c44c7f4"
          }
        },
        "1fd19370cadc431c9548c672486d77a6": {
          "model_module": "@jupyter-widgets/controls",
          "model_module_version": "1.5.0",
          "model_name": "HBoxModel",
          "state": {
            "_dom_classes": [],
            "_model_module": "@jupyter-widgets/controls",
            "_model_module_version": "1.5.0",
            "_model_name": "HBoxModel",
            "_view_count": null,
            "_view_module": "@jupyter-widgets/controls",
            "_view_module_version": "1.5.0",
            "_view_name": "HBoxView",
            "box_style": "",
            "children": [
              "IPY_MODEL_fb389557f783462a9dedaafac7d0100a",
              "IPY_MODEL_cae9cc0e10614aae87a9816ce931d52f",
              "IPY_MODEL_3792ca564c0d4e15a8d15ee8f32b200c"
            ],
            "layout": "IPY_MODEL_88172bea89744360ae8b82df81965c39"
          }
        },
        "213038fd62bb4ac99cb85fb53e1037ae": {
          "model_module": "@jupyter-widgets/base",
          "model_module_version": "1.2.0",
          "model_name": "LayoutModel",
          "state": {
            "_model_module": "@jupyter-widgets/base",
            "_model_module_version": "1.2.0",
            "_model_name": "LayoutModel",
            "_view_count": null,
            "_view_module": "@jupyter-widgets/base",
            "_view_module_version": "1.2.0",
            "_view_name": "LayoutView",
            "align_content": null,
            "align_items": null,
            "align_self": null,
            "border": null,
            "bottom": null,
            "display": null,
            "flex": null,
            "flex_flow": null,
            "grid_area": null,
            "grid_auto_columns": null,
            "grid_auto_flow": null,
            "grid_auto_rows": null,
            "grid_column": null,
            "grid_gap": null,
            "grid_row": null,
            "grid_template_areas": null,
            "grid_template_columns": null,
            "grid_template_rows": null,
            "height": null,
            "justify_content": null,
            "justify_items": null,
            "left": null,
            "margin": null,
            "max_height": null,
            "max_width": null,
            "min_height": null,
            "min_width": null,
            "object_fit": null,
            "object_position": null,
            "order": null,
            "overflow": null,
            "overflow_x": null,
            "overflow_y": null,
            "padding": null,
            "right": null,
            "top": null,
            "visibility": null,
            "width": null
          }
        },
        "21ca5029404345e0803b7e563d4eda29": {
          "model_module": "@jupyter-widgets/controls",
          "model_module_version": "1.5.0",
          "model_name": "HBoxModel",
          "state": {
            "_dom_classes": [],
            "_model_module": "@jupyter-widgets/controls",
            "_model_module_version": "1.5.0",
            "_model_name": "HBoxModel",
            "_view_count": null,
            "_view_module": "@jupyter-widgets/controls",
            "_view_module_version": "1.5.0",
            "_view_name": "HBoxView",
            "box_style": "",
            "children": [
              "IPY_MODEL_a4ae990bb1a94e5fbab44aae32e67c45",
              "IPY_MODEL_7d76900bdeac4b96b5d164dcf1b42154",
              "IPY_MODEL_25ebb963899e497baa3b95cf050c63a5"
            ],
            "layout": "IPY_MODEL_d6b2602b276647d09b3dd8842ff27951"
          }
        },
        "2223cd4628ea49af899104800f3a5480": {
          "model_module": "@jupyter-widgets/base",
          "model_module_version": "1.2.0",
          "model_name": "LayoutModel",
          "state": {
            "_model_module": "@jupyter-widgets/base",
            "_model_module_version": "1.2.0",
            "_model_name": "LayoutModel",
            "_view_count": null,
            "_view_module": "@jupyter-widgets/base",
            "_view_module_version": "1.2.0",
            "_view_name": "LayoutView",
            "align_content": null,
            "align_items": null,
            "align_self": null,
            "border": null,
            "bottom": null,
            "display": null,
            "flex": null,
            "flex_flow": null,
            "grid_area": null,
            "grid_auto_columns": null,
            "grid_auto_flow": null,
            "grid_auto_rows": null,
            "grid_column": null,
            "grid_gap": null,
            "grid_row": null,
            "grid_template_areas": null,
            "grid_template_columns": null,
            "grid_template_rows": null,
            "height": null,
            "justify_content": null,
            "justify_items": null,
            "left": null,
            "margin": null,
            "max_height": null,
            "max_width": null,
            "min_height": null,
            "min_width": null,
            "object_fit": null,
            "object_position": null,
            "order": null,
            "overflow": null,
            "overflow_x": null,
            "overflow_y": null,
            "padding": null,
            "right": null,
            "top": null,
            "visibility": null,
            "width": null
          }
        },
        "22da2fa72b19490eb7a012a8106c5406": {
          "model_module": "@jupyter-widgets/controls",
          "model_module_version": "1.5.0",
          "model_name": "DescriptionStyleModel",
          "state": {
            "_model_module": "@jupyter-widgets/controls",
            "_model_module_version": "1.5.0",
            "_model_name": "DescriptionStyleModel",
            "_view_count": null,
            "_view_module": "@jupyter-widgets/base",
            "_view_module_version": "1.2.0",
            "_view_name": "StyleView",
            "description_width": ""
          }
        },
        "246bba2dbc7844c08b05d0dc103e197e": {
          "model_module": "@jupyter-widgets/controls",
          "model_module_version": "1.5.0",
          "model_name": "HTMLModel",
          "state": {
            "_dom_classes": [],
            "_model_module": "@jupyter-widgets/controls",
            "_model_module_version": "1.5.0",
            "_model_name": "HTMLModel",
            "_view_count": null,
            "_view_module": "@jupyter-widgets/controls",
            "_view_module_version": "1.5.0",
            "_view_name": "HTMLView",
            "description": "",
            "description_tooltip": null,
            "layout": "IPY_MODEL_2e623c06e3d5410dba03c0936e310459",
            "placeholder": "​",
            "style": "IPY_MODEL_9c4b3d650307464ea99dc908a00ed9b6",
            "value": "Downloading: 100%"
          }
        },
        "24b87b9f6f504320864c00e603fc62aa": {
          "model_module": "@jupyter-widgets/controls",
          "model_module_version": "1.5.0",
          "model_name": "HBoxModel",
          "state": {
            "_dom_classes": [],
            "_model_module": "@jupyter-widgets/controls",
            "_model_module_version": "1.5.0",
            "_model_name": "HBoxModel",
            "_view_count": null,
            "_view_module": "@jupyter-widgets/controls",
            "_view_module_version": "1.5.0",
            "_view_name": "HBoxView",
            "box_style": "",
            "children": [
              "IPY_MODEL_a086f3466d364dd6b9c5f6a03e612a68",
              "IPY_MODEL_cfd31a964caf4304bfbd4ec58c6c66eb",
              "IPY_MODEL_ec7d27c1d78c4292886b5f47e34b10e4"
            ],
            "layout": "IPY_MODEL_172348788b814d16950e655ef1d36315"
          }
        },
        "25ebb963899e497baa3b95cf050c63a5": {
          "model_module": "@jupyter-widgets/controls",
          "model_module_version": "1.5.0",
          "model_name": "HTMLModel",
          "state": {
            "_dom_classes": [],
            "_model_module": "@jupyter-widgets/controls",
            "_model_module_version": "1.5.0",
            "_model_name": "HTMLModel",
            "_view_count": null,
            "_view_module": "@jupyter-widgets/controls",
            "_view_module_version": "1.5.0",
            "_view_name": "HTMLView",
            "description": "",
            "description_tooltip": null,
            "layout": "IPY_MODEL_7fb7430c92b343c2a7d1f3306d697060",
            "placeholder": "​",
            "style": "IPY_MODEL_af863d1a0a9540fda81d05adcdf27dbc",
            "value": " 116/116 [00:00&lt;00:00, 1.68kB/s]"
          }
        },
        "2605d17257d343d0ad262bb63566d1c9": {
          "model_module": "@jupyter-widgets/base",
          "model_module_version": "1.2.0",
          "model_name": "LayoutModel",
          "state": {
            "_model_module": "@jupyter-widgets/base",
            "_model_module_version": "1.2.0",
            "_model_name": "LayoutModel",
            "_view_count": null,
            "_view_module": "@jupyter-widgets/base",
            "_view_module_version": "1.2.0",
            "_view_name": "LayoutView",
            "align_content": null,
            "align_items": null,
            "align_self": null,
            "border": null,
            "bottom": null,
            "display": null,
            "flex": null,
            "flex_flow": null,
            "grid_area": null,
            "grid_auto_columns": null,
            "grid_auto_flow": null,
            "grid_auto_rows": null,
            "grid_column": null,
            "grid_gap": null,
            "grid_row": null,
            "grid_template_areas": null,
            "grid_template_columns": null,
            "grid_template_rows": null,
            "height": null,
            "justify_content": null,
            "justify_items": null,
            "left": null,
            "margin": null,
            "max_height": null,
            "max_width": null,
            "min_height": null,
            "min_width": null,
            "object_fit": null,
            "object_position": null,
            "order": null,
            "overflow": null,
            "overflow_x": null,
            "overflow_y": null,
            "padding": null,
            "right": null,
            "top": null,
            "visibility": null,
            "width": null
          }
        },
        "2659167c65064e719100a31e1ba8d784": {
          "model_module": "@jupyter-widgets/controls",
          "model_module_version": "1.5.0",
          "model_name": "FloatProgressModel",
          "state": {
            "_dom_classes": [],
            "_model_module": "@jupyter-widgets/controls",
            "_model_module_version": "1.5.0",
            "_model_name": "FloatProgressModel",
            "_view_count": null,
            "_view_module": "@jupyter-widgets/controls",
            "_view_module_version": "1.5.0",
            "_view_name": "ProgressView",
            "bar_style": "success",
            "description": "",
            "description_tooltip": null,
            "layout": "IPY_MODEL_3e8d672a82ad457eaa5ecb2f4ed89225",
            "max": 53,
            "min": 0,
            "orientation": "horizontal",
            "style": "IPY_MODEL_84825a011d634063b8c082168ec2bcd5",
            "value": 53
          }
        },
        "2945cfb79db74951a41ae7bc6303a4f8": {
          "model_module": "@jupyter-widgets/base",
          "model_module_version": "1.2.0",
          "model_name": "LayoutModel",
          "state": {
            "_model_module": "@jupyter-widgets/base",
            "_model_module_version": "1.2.0",
            "_model_name": "LayoutModel",
            "_view_count": null,
            "_view_module": "@jupyter-widgets/base",
            "_view_module_version": "1.2.0",
            "_view_name": "LayoutView",
            "align_content": null,
            "align_items": null,
            "align_self": null,
            "border": null,
            "bottom": null,
            "display": null,
            "flex": null,
            "flex_flow": null,
            "grid_area": null,
            "grid_auto_columns": null,
            "grid_auto_flow": null,
            "grid_auto_rows": null,
            "grid_column": null,
            "grid_gap": null,
            "grid_row": null,
            "grid_template_areas": null,
            "grid_template_columns": null,
            "grid_template_rows": null,
            "height": null,
            "justify_content": null,
            "justify_items": null,
            "left": null,
            "margin": null,
            "max_height": null,
            "max_width": null,
            "min_height": null,
            "min_width": null,
            "object_fit": null,
            "object_position": null,
            "order": null,
            "overflow": null,
            "overflow_x": null,
            "overflow_y": null,
            "padding": null,
            "right": null,
            "top": null,
            "visibility": null,
            "width": null
          }
        },
        "2d4a559c00ca4a258472d87b6c40e601": {
          "model_module": "@jupyter-widgets/base",
          "model_module_version": "1.2.0",
          "model_name": "LayoutModel",
          "state": {
            "_model_module": "@jupyter-widgets/base",
            "_model_module_version": "1.2.0",
            "_model_name": "LayoutModel",
            "_view_count": null,
            "_view_module": "@jupyter-widgets/base",
            "_view_module_version": "1.2.0",
            "_view_name": "LayoutView",
            "align_content": null,
            "align_items": null,
            "align_self": null,
            "border": null,
            "bottom": null,
            "display": null,
            "flex": null,
            "flex_flow": null,
            "grid_area": null,
            "grid_auto_columns": null,
            "grid_auto_flow": null,
            "grid_auto_rows": null,
            "grid_column": null,
            "grid_gap": null,
            "grid_row": null,
            "grid_template_areas": null,
            "grid_template_columns": null,
            "grid_template_rows": null,
            "height": null,
            "justify_content": null,
            "justify_items": null,
            "left": null,
            "margin": null,
            "max_height": null,
            "max_width": null,
            "min_height": null,
            "min_width": null,
            "object_fit": null,
            "object_position": null,
            "order": null,
            "overflow": null,
            "overflow_x": null,
            "overflow_y": null,
            "padding": null,
            "right": null,
            "top": null,
            "visibility": null,
            "width": null
          }
        },
        "2e623c06e3d5410dba03c0936e310459": {
          "model_module": "@jupyter-widgets/base",
          "model_module_version": "1.2.0",
          "model_name": "LayoutModel",
          "state": {
            "_model_module": "@jupyter-widgets/base",
            "_model_module_version": "1.2.0",
            "_model_name": "LayoutModel",
            "_view_count": null,
            "_view_module": "@jupyter-widgets/base",
            "_view_module_version": "1.2.0",
            "_view_name": "LayoutView",
            "align_content": null,
            "align_items": null,
            "align_self": null,
            "border": null,
            "bottom": null,
            "display": null,
            "flex": null,
            "flex_flow": null,
            "grid_area": null,
            "grid_auto_columns": null,
            "grid_auto_flow": null,
            "grid_auto_rows": null,
            "grid_column": null,
            "grid_gap": null,
            "grid_row": null,
            "grid_template_areas": null,
            "grid_template_columns": null,
            "grid_template_rows": null,
            "height": null,
            "justify_content": null,
            "justify_items": null,
            "left": null,
            "margin": null,
            "max_height": null,
            "max_width": null,
            "min_height": null,
            "min_width": null,
            "object_fit": null,
            "object_position": null,
            "order": null,
            "overflow": null,
            "overflow_x": null,
            "overflow_y": null,
            "padding": null,
            "right": null,
            "top": null,
            "visibility": null,
            "width": null
          }
        },
        "31047a917ca54207a4d37ff20db5eb2f": {
          "model_module": "@jupyter-widgets/controls",
          "model_module_version": "1.5.0",
          "model_name": "HTMLModel",
          "state": {
            "_dom_classes": [],
            "_model_module": "@jupyter-widgets/controls",
            "_model_module_version": "1.5.0",
            "_model_name": "HTMLModel",
            "_view_count": null,
            "_view_module": "@jupyter-widgets/controls",
            "_view_module_version": "1.5.0",
            "_view_name": "HTMLView",
            "description": "",
            "description_tooltip": null,
            "layout": "IPY_MODEL_51b260f7f9d94795b6e9f2daf98b3f8a",
            "placeholder": "​",
            "style": "IPY_MODEL_22da2fa72b19490eb7a012a8106c5406",
            "value": "Downloading: 100%"
          }
        },
        "32208b6bef34462cba04b82d192e20ac": {
          "model_module": "@jupyter-widgets/controls",
          "model_module_version": "1.5.0",
          "model_name": "HTMLModel",
          "state": {
            "_dom_classes": [],
            "_model_module": "@jupyter-widgets/controls",
            "_model_module_version": "1.5.0",
            "_model_name": "HTMLModel",
            "_view_count": null,
            "_view_module": "@jupyter-widgets/controls",
            "_view_module_version": "1.5.0",
            "_view_name": "HTMLView",
            "description": "",
            "description_tooltip": null,
            "layout": "IPY_MODEL_a30db3cedb35443ead7198345906961c",
            "placeholder": "​",
            "style": "IPY_MODEL_dd8d44c8b22d480b8cea2e410020e824",
            "value": "Downloading: 100%"
          }
        },
        "3254d3efe8144de6a5bbe827b0edf53f": {
          "model_module": "@jupyter-widgets/base",
          "model_module_version": "1.2.0",
          "model_name": "LayoutModel",
          "state": {
            "_model_module": "@jupyter-widgets/base",
            "_model_module_version": "1.2.0",
            "_model_name": "LayoutModel",
            "_view_count": null,
            "_view_module": "@jupyter-widgets/base",
            "_view_module_version": "1.2.0",
            "_view_name": "LayoutView",
            "align_content": null,
            "align_items": null,
            "align_self": null,
            "border": null,
            "bottom": null,
            "display": null,
            "flex": null,
            "flex_flow": null,
            "grid_area": null,
            "grid_auto_columns": null,
            "grid_auto_flow": null,
            "grid_auto_rows": null,
            "grid_column": null,
            "grid_gap": null,
            "grid_row": null,
            "grid_template_areas": null,
            "grid_template_columns": null,
            "grid_template_rows": null,
            "height": null,
            "justify_content": null,
            "justify_items": null,
            "left": null,
            "margin": null,
            "max_height": null,
            "max_width": null,
            "min_height": null,
            "min_width": null,
            "object_fit": null,
            "object_position": null,
            "order": null,
            "overflow": null,
            "overflow_x": null,
            "overflow_y": null,
            "padding": null,
            "right": null,
            "top": null,
            "visibility": null,
            "width": null
          }
        },
        "34579b2fd6574236aa62ea80143452e8": {
          "model_module": "@jupyter-widgets/base",
          "model_module_version": "1.2.0",
          "model_name": "LayoutModel",
          "state": {
            "_model_module": "@jupyter-widgets/base",
            "_model_module_version": "1.2.0",
            "_model_name": "LayoutModel",
            "_view_count": null,
            "_view_module": "@jupyter-widgets/base",
            "_view_module_version": "1.2.0",
            "_view_name": "LayoutView",
            "align_content": null,
            "align_items": null,
            "align_self": null,
            "border": null,
            "bottom": null,
            "display": null,
            "flex": null,
            "flex_flow": null,
            "grid_area": null,
            "grid_auto_columns": null,
            "grid_auto_flow": null,
            "grid_auto_rows": null,
            "grid_column": null,
            "grid_gap": null,
            "grid_row": null,
            "grid_template_areas": null,
            "grid_template_columns": null,
            "grid_template_rows": null,
            "height": null,
            "justify_content": null,
            "justify_items": null,
            "left": null,
            "margin": null,
            "max_height": null,
            "max_width": null,
            "min_height": null,
            "min_width": null,
            "object_fit": null,
            "object_position": null,
            "order": null,
            "overflow": null,
            "overflow_x": null,
            "overflow_y": null,
            "padding": null,
            "right": null,
            "top": null,
            "visibility": null,
            "width": null
          }
        },
        "347cad114f8144aca3129706a0cdf38d": {
          "model_module": "@jupyter-widgets/base",
          "model_module_version": "1.2.0",
          "model_name": "LayoutModel",
          "state": {
            "_model_module": "@jupyter-widgets/base",
            "_model_module_version": "1.2.0",
            "_model_name": "LayoutModel",
            "_view_count": null,
            "_view_module": "@jupyter-widgets/base",
            "_view_module_version": "1.2.0",
            "_view_name": "LayoutView",
            "align_content": null,
            "align_items": null,
            "align_self": null,
            "border": null,
            "bottom": null,
            "display": null,
            "flex": null,
            "flex_flow": null,
            "grid_area": null,
            "grid_auto_columns": null,
            "grid_auto_flow": null,
            "grid_auto_rows": null,
            "grid_column": null,
            "grid_gap": null,
            "grid_row": null,
            "grid_template_areas": null,
            "grid_template_columns": null,
            "grid_template_rows": null,
            "height": null,
            "justify_content": null,
            "justify_items": null,
            "left": null,
            "margin": null,
            "max_height": null,
            "max_width": null,
            "min_height": null,
            "min_width": null,
            "object_fit": null,
            "object_position": null,
            "order": null,
            "overflow": null,
            "overflow_x": null,
            "overflow_y": null,
            "padding": null,
            "right": null,
            "top": null,
            "visibility": null,
            "width": null
          }
        },
        "34e980219ba541d7a9dda6cb9720341d": {
          "model_module": "@jupyter-widgets/base",
          "model_module_version": "1.2.0",
          "model_name": "LayoutModel",
          "state": {
            "_model_module": "@jupyter-widgets/base",
            "_model_module_version": "1.2.0",
            "_model_name": "LayoutModel",
            "_view_count": null,
            "_view_module": "@jupyter-widgets/base",
            "_view_module_version": "1.2.0",
            "_view_name": "LayoutView",
            "align_content": null,
            "align_items": null,
            "align_self": null,
            "border": null,
            "bottom": null,
            "display": null,
            "flex": null,
            "flex_flow": null,
            "grid_area": null,
            "grid_auto_columns": null,
            "grid_auto_flow": null,
            "grid_auto_rows": null,
            "grid_column": null,
            "grid_gap": null,
            "grid_row": null,
            "grid_template_areas": null,
            "grid_template_columns": null,
            "grid_template_rows": null,
            "height": null,
            "justify_content": null,
            "justify_items": null,
            "left": null,
            "margin": null,
            "max_height": null,
            "max_width": null,
            "min_height": null,
            "min_width": null,
            "object_fit": null,
            "object_position": null,
            "order": null,
            "overflow": null,
            "overflow_x": null,
            "overflow_y": null,
            "padding": null,
            "right": null,
            "top": null,
            "visibility": null,
            "width": null
          }
        },
        "3792ca564c0d4e15a8d15ee8f32b200c": {
          "model_module": "@jupyter-widgets/controls",
          "model_module_version": "1.5.0",
          "model_name": "HTMLModel",
          "state": {
            "_dom_classes": [],
            "_model_module": "@jupyter-widgets/controls",
            "_model_module_version": "1.5.0",
            "_model_name": "HTMLModel",
            "_view_count": null,
            "_view_module": "@jupyter-widgets/controls",
            "_view_module_version": "1.5.0",
            "_view_name": "HTMLView",
            "description": "",
            "description_tooltip": null,
            "layout": "IPY_MODEL_8c82dad412104e418e15a4312c44d180",
            "placeholder": "​",
            "style": "IPY_MODEL_ad434eaf1774411ca2cf96c6cb65ff14",
            "value": " 232k/232k [00:00&lt;00:00, 553kB/s]"
          }
        },
        "3854da3561684d85b5087dea5368ba09": {
          "model_module": "@jupyter-widgets/base",
          "model_module_version": "1.2.0",
          "model_name": "LayoutModel",
          "state": {
            "_model_module": "@jupyter-widgets/base",
            "_model_module_version": "1.2.0",
            "_model_name": "LayoutModel",
            "_view_count": null,
            "_view_module": "@jupyter-widgets/base",
            "_view_module_version": "1.2.0",
            "_view_name": "LayoutView",
            "align_content": null,
            "align_items": null,
            "align_self": null,
            "border": null,
            "bottom": null,
            "display": null,
            "flex": null,
            "flex_flow": null,
            "grid_area": null,
            "grid_auto_columns": null,
            "grid_auto_flow": null,
            "grid_auto_rows": null,
            "grid_column": null,
            "grid_gap": null,
            "grid_row": null,
            "grid_template_areas": null,
            "grid_template_columns": null,
            "grid_template_rows": null,
            "height": null,
            "justify_content": null,
            "justify_items": null,
            "left": null,
            "margin": null,
            "max_height": null,
            "max_width": null,
            "min_height": null,
            "min_width": null,
            "object_fit": null,
            "object_position": null,
            "order": null,
            "overflow": null,
            "overflow_x": null,
            "overflow_y": null,
            "padding": null,
            "right": null,
            "top": null,
            "visibility": null,
            "width": null
          }
        },
        "39049d1a2a604b21ba299fd258f1fbfb": {
          "model_module": "@jupyter-widgets/controls",
          "model_module_version": "1.5.0",
          "model_name": "DescriptionStyleModel",
          "state": {
            "_model_module": "@jupyter-widgets/controls",
            "_model_module_version": "1.5.0",
            "_model_name": "DescriptionStyleModel",
            "_view_count": null,
            "_view_module": "@jupyter-widgets/base",
            "_view_module_version": "1.2.0",
            "_view_name": "StyleView",
            "description_width": ""
          }
        },
        "39744084a54e4c43b4502fff7a1deaf7": {
          "model_module": "@jupyter-widgets/controls",
          "model_module_version": "1.5.0",
          "model_name": "HTMLModel",
          "state": {
            "_dom_classes": [],
            "_model_module": "@jupyter-widgets/controls",
            "_model_module_version": "1.5.0",
            "_model_name": "HTMLModel",
            "_view_count": null,
            "_view_module": "@jupyter-widgets/controls",
            "_view_module_version": "1.5.0",
            "_view_name": "HTMLView",
            "description": "",
            "description_tooltip": null,
            "layout": "IPY_MODEL_0a422689e04046ebad8b3b17905dabe1",
            "placeholder": "​",
            "style": "IPY_MODEL_a0c566018e224678ac3b5164ef93bd49",
            "value": " 316/316 [00:00&lt;00:00, 2.79kB/s]"
          }
        },
        "39e81455210f4df6a3847ea9a8d0e47e": {
          "model_module": "@jupyter-widgets/controls",
          "model_module_version": "1.5.0",
          "model_name": "FloatProgressModel",
          "state": {
            "_dom_classes": [],
            "_model_module": "@jupyter-widgets/controls",
            "_model_module_version": "1.5.0",
            "_model_name": "FloatProgressModel",
            "_view_count": null,
            "_view_module": "@jupyter-widgets/controls",
            "_view_module_version": "1.5.0",
            "_view_name": "ProgressView",
            "bar_style": "success",
            "description": "",
            "description_tooltip": null,
            "layout": "IPY_MODEL_762f86be82d14056842070af2d6efe2d",
            "max": 2,
            "min": 0,
            "orientation": "horizontal",
            "style": "IPY_MODEL_977e81bae66a4e57ae9dc6426a271645",
            "value": 2
          }
        },
        "3e8d672a82ad457eaa5ecb2f4ed89225": {
          "model_module": "@jupyter-widgets/base",
          "model_module_version": "1.2.0",
          "model_name": "LayoutModel",
          "state": {
            "_model_module": "@jupyter-widgets/base",
            "_model_module_version": "1.2.0",
            "_model_name": "LayoutModel",
            "_view_count": null,
            "_view_module": "@jupyter-widgets/base",
            "_view_module_version": "1.2.0",
            "_view_name": "LayoutView",
            "align_content": null,
            "align_items": null,
            "align_self": null,
            "border": null,
            "bottom": null,
            "display": null,
            "flex": null,
            "flex_flow": null,
            "grid_area": null,
            "grid_auto_columns": null,
            "grid_auto_flow": null,
            "grid_auto_rows": null,
            "grid_column": null,
            "grid_gap": null,
            "grid_row": null,
            "grid_template_areas": null,
            "grid_template_columns": null,
            "grid_template_rows": null,
            "height": null,
            "justify_content": null,
            "justify_items": null,
            "left": null,
            "margin": null,
            "max_height": null,
            "max_width": null,
            "min_height": null,
            "min_width": null,
            "object_fit": null,
            "object_position": null,
            "order": null,
            "overflow": null,
            "overflow_x": null,
            "overflow_y": null,
            "padding": null,
            "right": null,
            "top": null,
            "visibility": null,
            "width": null
          }
        },
        "3f01b79049c7437eb446b6840a56a76a": {
          "model_module": "@jupyter-widgets/base",
          "model_module_version": "1.2.0",
          "model_name": "LayoutModel",
          "state": {
            "_model_module": "@jupyter-widgets/base",
            "_model_module_version": "1.2.0",
            "_model_name": "LayoutModel",
            "_view_count": null,
            "_view_module": "@jupyter-widgets/base",
            "_view_module_version": "1.2.0",
            "_view_name": "LayoutView",
            "align_content": null,
            "align_items": null,
            "align_self": null,
            "border": null,
            "bottom": null,
            "display": null,
            "flex": null,
            "flex_flow": null,
            "grid_area": null,
            "grid_auto_columns": null,
            "grid_auto_flow": null,
            "grid_auto_rows": null,
            "grid_column": null,
            "grid_gap": null,
            "grid_row": null,
            "grid_template_areas": null,
            "grid_template_columns": null,
            "grid_template_rows": null,
            "height": null,
            "justify_content": null,
            "justify_items": null,
            "left": null,
            "margin": null,
            "max_height": null,
            "max_width": null,
            "min_height": null,
            "min_width": null,
            "object_fit": null,
            "object_position": null,
            "order": null,
            "overflow": null,
            "overflow_x": null,
            "overflow_y": null,
            "padding": null,
            "right": null,
            "top": null,
            "visibility": null,
            "width": null
          }
        },
        "3f41d62be8e946d3ae6937c8d004f9cf": {
          "model_module": "@jupyter-widgets/controls",
          "model_module_version": "1.5.0",
          "model_name": "HBoxModel",
          "state": {
            "_dom_classes": [],
            "_model_module": "@jupyter-widgets/controls",
            "_model_module_version": "1.5.0",
            "_model_name": "HBoxModel",
            "_view_count": null,
            "_view_module": "@jupyter-widgets/controls",
            "_view_module_version": "1.5.0",
            "_view_name": "HBoxView",
            "box_style": "",
            "children": [
              "IPY_MODEL_8fc03579e6e44318a2d523468b9e2ba8",
              "IPY_MODEL_fab59497d77d430ebf9b9e9ab8e5343d",
              "IPY_MODEL_39744084a54e4c43b4502fff7a1deaf7"
            ],
            "layout": "IPY_MODEL_3f01b79049c7437eb446b6840a56a76a"
          }
        },
        "3ff09881c163480c9cb954211add0eb3": {
          "model_module": "@jupyter-widgets/controls",
          "model_module_version": "1.5.0",
          "model_name": "DescriptionStyleModel",
          "state": {
            "_model_module": "@jupyter-widgets/controls",
            "_model_module_version": "1.5.0",
            "_model_name": "DescriptionStyleModel",
            "_view_count": null,
            "_view_module": "@jupyter-widgets/base",
            "_view_module_version": "1.2.0",
            "_view_name": "StyleView",
            "description_width": ""
          }
        },
        "402bf1b2efed4fb1aa75c325a22d6b31": {
          "model_module": "@jupyter-widgets/controls",
          "model_module_version": "1.5.0",
          "model_name": "ProgressStyleModel",
          "state": {
            "_model_module": "@jupyter-widgets/controls",
            "_model_module_version": "1.5.0",
            "_model_name": "ProgressStyleModel",
            "_view_count": null,
            "_view_module": "@jupyter-widgets/base",
            "_view_module_version": "1.2.0",
            "_view_name": "StyleView",
            "bar_color": null,
            "description_width": ""
          }
        },
        "411c9662e5a44d3e9de684ef24e6f485": {
          "model_module": "@jupyter-widgets/controls",
          "model_module_version": "1.5.0",
          "model_name": "FloatProgressModel",
          "state": {
            "_dom_classes": [],
            "_model_module": "@jupyter-widgets/controls",
            "_model_module_version": "1.5.0",
            "_model_name": "FloatProgressModel",
            "_view_count": null,
            "_view_module": "@jupyter-widgets/controls",
            "_view_module_version": "1.5.0",
            "_view_name": "ProgressView",
            "bar_style": "success",
            "description": "",
            "description_tooltip": null,
            "layout": "IPY_MODEL_cad3db1f330944a4b7675cc9fdaeac5c",
            "max": 349,
            "min": 0,
            "orientation": "horizontal",
            "style": "IPY_MODEL_b4f1db72c5464d67a287414c91da786d",
            "value": 349
          }
        },
        "42002b4d3d3c45f5b69df885c9166c8d": {
          "model_module": "@jupyter-widgets/base",
          "model_module_version": "1.2.0",
          "model_name": "LayoutModel",
          "state": {
            "_model_module": "@jupyter-widgets/base",
            "_model_module_version": "1.2.0",
            "_model_name": "LayoutModel",
            "_view_count": null,
            "_view_module": "@jupyter-widgets/base",
            "_view_module_version": "1.2.0",
            "_view_name": "LayoutView",
            "align_content": null,
            "align_items": null,
            "align_self": null,
            "border": null,
            "bottom": null,
            "display": null,
            "flex": null,
            "flex_flow": null,
            "grid_area": null,
            "grid_auto_columns": null,
            "grid_auto_flow": null,
            "grid_auto_rows": null,
            "grid_column": null,
            "grid_gap": null,
            "grid_row": null,
            "grid_template_areas": null,
            "grid_template_columns": null,
            "grid_template_rows": null,
            "height": null,
            "justify_content": null,
            "justify_items": null,
            "left": null,
            "margin": null,
            "max_height": null,
            "max_width": null,
            "min_height": null,
            "min_width": null,
            "object_fit": null,
            "object_position": null,
            "order": null,
            "overflow": null,
            "overflow_x": null,
            "overflow_y": null,
            "padding": null,
            "right": null,
            "top": null,
            "visibility": null,
            "width": null
          }
        },
        "441cfcee2bb745af9f9dea6ae8669718": {
          "model_module": "@jupyter-widgets/controls",
          "model_module_version": "1.5.0",
          "model_name": "HTMLModel",
          "state": {
            "_dom_classes": [],
            "_model_module": "@jupyter-widgets/controls",
            "_model_module_version": "1.5.0",
            "_model_name": "HTMLModel",
            "_view_count": null,
            "_view_module": "@jupyter-widgets/controls",
            "_view_module_version": "1.5.0",
            "_view_name": "HTMLView",
            "description": "",
            "description_tooltip": null,
            "layout": "IPY_MODEL_eba36cb6db09401f81ffa21e0734980c",
            "placeholder": "​",
            "style": "IPY_MODEL_8ae6b1863c7544aab3b7ffc4bbe1c374",
            "value": " 190/190 [00:00&lt;00:00, 4.13kB/s]"
          }
        },
        "46f33140571c4b2185392ffb557dea2d": {
          "model_module": "@jupyter-widgets/controls",
          "model_module_version": "1.5.0",
          "model_name": "HBoxModel",
          "state": {
            "_dom_classes": [],
            "_model_module": "@jupyter-widgets/controls",
            "_model_module_version": "1.5.0",
            "_model_name": "HBoxModel",
            "_view_count": null,
            "_view_module": "@jupyter-widgets/controls",
            "_view_module_version": "1.5.0",
            "_view_name": "HBoxView",
            "box_style": "",
            "children": [
              "IPY_MODEL_c36c7095e39e41da97f24c7290851be0",
              "IPY_MODEL_a169f9be293847608d0fedd294b5ea81",
              "IPY_MODEL_a89bf647928047149bde24a5216bf027"
            ],
            "layout": "IPY_MODEL_9bc26e13053f467fa311a3a354ed86c1"
          }
        },
        "477a98681e5b43448dd1a215e6a7515b": {
          "model_module": "@jupyter-widgets/base",
          "model_module_version": "1.2.0",
          "model_name": "LayoutModel",
          "state": {
            "_model_module": "@jupyter-widgets/base",
            "_model_module_version": "1.2.0",
            "_model_name": "LayoutModel",
            "_view_count": null,
            "_view_module": "@jupyter-widgets/base",
            "_view_module_version": "1.2.0",
            "_view_name": "LayoutView",
            "align_content": null,
            "align_items": null,
            "align_self": null,
            "border": null,
            "bottom": null,
            "display": null,
            "flex": null,
            "flex_flow": null,
            "grid_area": null,
            "grid_auto_columns": null,
            "grid_auto_flow": null,
            "grid_auto_rows": null,
            "grid_column": null,
            "grid_gap": null,
            "grid_row": null,
            "grid_template_areas": null,
            "grid_template_columns": null,
            "grid_template_rows": null,
            "height": null,
            "justify_content": null,
            "justify_items": null,
            "left": null,
            "margin": null,
            "max_height": null,
            "max_width": null,
            "min_height": null,
            "min_width": null,
            "object_fit": null,
            "object_position": null,
            "order": null,
            "overflow": null,
            "overflow_x": null,
            "overflow_y": null,
            "padding": null,
            "right": null,
            "top": null,
            "visibility": null,
            "width": null
          }
        },
        "480df14a71924aae8d81054b2d3b3ce8": {
          "model_module": "@jupyter-widgets/controls",
          "model_module_version": "1.5.0",
          "model_name": "HBoxModel",
          "state": {
            "_dom_classes": [],
            "_model_module": "@jupyter-widgets/controls",
            "_model_module_version": "1.5.0",
            "_model_name": "HBoxModel",
            "_view_count": null,
            "_view_module": "@jupyter-widgets/controls",
            "_view_module_version": "1.5.0",
            "_view_name": "HBoxView",
            "box_style": "",
            "children": [
              "IPY_MODEL_867dc55de2c448c58b829ad3c255e6b5",
              "IPY_MODEL_6cff5dd86a2e42a895efd505659c7a9e",
              "IPY_MODEL_dd12ba93b7064c258c377304dfffe3c6"
            ],
            "layout": "IPY_MODEL_7ebbb99899f34686ba919c4c970a4fab"
          }
        },
        "48aafc27713140a7b9e66ef18467a253": {
          "model_module": "@jupyter-widgets/controls",
          "model_module_version": "1.5.0",
          "model_name": "ProgressStyleModel",
          "state": {
            "_model_module": "@jupyter-widgets/controls",
            "_model_module_version": "1.5.0",
            "_model_name": "ProgressStyleModel",
            "_view_count": null,
            "_view_module": "@jupyter-widgets/base",
            "_view_module_version": "1.2.0",
            "_view_name": "StyleView",
            "bar_color": null,
            "description_width": ""
          }
        },
        "4978f57b156d4607834f5744d3977c0d": {
          "model_module": "@jupyter-widgets/controls",
          "model_module_version": "1.5.0",
          "model_name": "DescriptionStyleModel",
          "state": {
            "_model_module": "@jupyter-widgets/controls",
            "_model_module_version": "1.5.0",
            "_model_name": "DescriptionStyleModel",
            "_view_count": null,
            "_view_module": "@jupyter-widgets/base",
            "_view_module_version": "1.2.0",
            "_view_name": "StyleView",
            "description_width": ""
          }
        },
        "49c8e7582e734c02abcb998a878c7208": {
          "model_module": "@jupyter-widgets/controls",
          "model_module_version": "1.5.0",
          "model_name": "DescriptionStyleModel",
          "state": {
            "_model_module": "@jupyter-widgets/controls",
            "_model_module_version": "1.5.0",
            "_model_name": "DescriptionStyleModel",
            "_view_count": null,
            "_view_module": "@jupyter-widgets/base",
            "_view_module_version": "1.2.0",
            "_view_name": "StyleView",
            "description_width": ""
          }
        },
        "4a3a0f84d98d4c848908b8f0996243b8": {
          "model_module": "@jupyter-widgets/controls",
          "model_module_version": "1.5.0",
          "model_name": "HBoxModel",
          "state": {
            "_dom_classes": [],
            "_model_module": "@jupyter-widgets/controls",
            "_model_module_version": "1.5.0",
            "_model_name": "HBoxModel",
            "_view_count": null,
            "_view_module": "@jupyter-widgets/controls",
            "_view_module_version": "1.5.0",
            "_view_name": "HBoxView",
            "box_style": "",
            "children": [
              "IPY_MODEL_cc402fd7981946b5a0ff39f9f3b53337",
              "IPY_MODEL_1969e33e666044bc9feda411a07b8fac",
              "IPY_MODEL_1388bb6a01124abbaba54c2adc1713ca"
            ],
            "layout": "IPY_MODEL_a7e6ff0d9f6e48f6a6193de801ce3478"
          }
        },
        "4b4e8dfcbf254f40923403f792402c86": {
          "model_module": "@jupyter-widgets/controls",
          "model_module_version": "1.5.0",
          "model_name": "ProgressStyleModel",
          "state": {
            "_model_module": "@jupyter-widgets/controls",
            "_model_module_version": "1.5.0",
            "_model_name": "ProgressStyleModel",
            "_view_count": null,
            "_view_module": "@jupyter-widgets/base",
            "_view_module_version": "1.2.0",
            "_view_name": "StyleView",
            "bar_color": null,
            "description_width": ""
          }
        },
        "4d7d20e77601432ea8325e7f252801e9": {
          "model_module": "@jupyter-widgets/base",
          "model_module_version": "1.2.0",
          "model_name": "LayoutModel",
          "state": {
            "_model_module": "@jupyter-widgets/base",
            "_model_module_version": "1.2.0",
            "_model_name": "LayoutModel",
            "_view_count": null,
            "_view_module": "@jupyter-widgets/base",
            "_view_module_version": "1.2.0",
            "_view_name": "LayoutView",
            "align_content": null,
            "align_items": null,
            "align_self": null,
            "border": null,
            "bottom": null,
            "display": null,
            "flex": null,
            "flex_flow": null,
            "grid_area": null,
            "grid_auto_columns": null,
            "grid_auto_flow": null,
            "grid_auto_rows": null,
            "grid_column": null,
            "grid_gap": null,
            "grid_row": null,
            "grid_template_areas": null,
            "grid_template_columns": null,
            "grid_template_rows": null,
            "height": null,
            "justify_content": null,
            "justify_items": null,
            "left": null,
            "margin": null,
            "max_height": null,
            "max_width": null,
            "min_height": null,
            "min_width": null,
            "object_fit": null,
            "object_position": null,
            "order": null,
            "overflow": null,
            "overflow_x": null,
            "overflow_y": null,
            "padding": null,
            "right": null,
            "top": null,
            "visibility": null,
            "width": null
          }
        },
        "4e11e36f37194f2291ecca41d7cbdab9": {
          "model_module": "@jupyter-widgets/controls",
          "model_module_version": "1.5.0",
          "model_name": "ProgressStyleModel",
          "state": {
            "_model_module": "@jupyter-widgets/controls",
            "_model_module_version": "1.5.0",
            "_model_name": "ProgressStyleModel",
            "_view_count": null,
            "_view_module": "@jupyter-widgets/base",
            "_view_module_version": "1.2.0",
            "_view_name": "StyleView",
            "bar_color": null,
            "description_width": ""
          }
        },
        "51b260f7f9d94795b6e9f2daf98b3f8a": {
          "model_module": "@jupyter-widgets/base",
          "model_module_version": "1.2.0",
          "model_name": "LayoutModel",
          "state": {
            "_model_module": "@jupyter-widgets/base",
            "_model_module_version": "1.2.0",
            "_model_name": "LayoutModel",
            "_view_count": null,
            "_view_module": "@jupyter-widgets/base",
            "_view_module_version": "1.2.0",
            "_view_name": "LayoutView",
            "align_content": null,
            "align_items": null,
            "align_self": null,
            "border": null,
            "bottom": null,
            "display": null,
            "flex": null,
            "flex_flow": null,
            "grid_area": null,
            "grid_auto_columns": null,
            "grid_auto_flow": null,
            "grid_auto_rows": null,
            "grid_column": null,
            "grid_gap": null,
            "grid_row": null,
            "grid_template_areas": null,
            "grid_template_columns": null,
            "grid_template_rows": null,
            "height": null,
            "justify_content": null,
            "justify_items": null,
            "left": null,
            "margin": null,
            "max_height": null,
            "max_width": null,
            "min_height": null,
            "min_width": null,
            "object_fit": null,
            "object_position": null,
            "order": null,
            "overflow": null,
            "overflow_x": null,
            "overflow_y": null,
            "padding": null,
            "right": null,
            "top": null,
            "visibility": null,
            "width": null
          }
        },
        "51ef8e25a4454522a9389102814ef4dd": {
          "model_module": "@jupyter-widgets/controls",
          "model_module_version": "1.5.0",
          "model_name": "HTMLModel",
          "state": {
            "_dom_classes": [],
            "_model_module": "@jupyter-widgets/controls",
            "_model_module_version": "1.5.0",
            "_model_name": "HTMLModel",
            "_view_count": null,
            "_view_module": "@jupyter-widgets/controls",
            "_view_module_version": "1.5.0",
            "_view_name": "HTMLView",
            "description": "",
            "description_tooltip": null,
            "layout": "IPY_MODEL_a8a28ad124c64bf8a77be33a6531dd6e",
            "placeholder": "​",
            "style": "IPY_MODEL_96579446771c47ac8ec0486624f4339d",
            "value": "Downloading: 100%"
          }
        },
        "537c20cb19894a9c8711d93d0d7540a7": {
          "model_module": "@jupyter-widgets/controls",
          "model_module_version": "1.5.0",
          "model_name": "DescriptionStyleModel",
          "state": {
            "_model_module": "@jupyter-widgets/controls",
            "_model_module_version": "1.5.0",
            "_model_name": "DescriptionStyleModel",
            "_view_count": null,
            "_view_module": "@jupyter-widgets/base",
            "_view_module_version": "1.2.0",
            "_view_name": "StyleView",
            "description_width": ""
          }
        },
        "540296cbf7b64b7999cbded597917a64": {
          "model_module": "@jupyter-widgets/controls",
          "model_module_version": "1.5.0",
          "model_name": "DescriptionStyleModel",
          "state": {
            "_model_module": "@jupyter-widgets/controls",
            "_model_module_version": "1.5.0",
            "_model_name": "DescriptionStyleModel",
            "_view_count": null,
            "_view_module": "@jupyter-widgets/base",
            "_view_module_version": "1.2.0",
            "_view_name": "StyleView",
            "description_width": ""
          }
        },
        "567075d301fb4626aca5ff50de5549d2": {
          "model_module": "@jupyter-widgets/controls",
          "model_module_version": "1.5.0",
          "model_name": "DescriptionStyleModel",
          "state": {
            "_model_module": "@jupyter-widgets/controls",
            "_model_module_version": "1.5.0",
            "_model_name": "DescriptionStyleModel",
            "_view_count": null,
            "_view_module": "@jupyter-widgets/base",
            "_view_module_version": "1.2.0",
            "_view_name": "StyleView",
            "description_width": ""
          }
        },
        "57656bef418a4288b962b870ccd216c6": {
          "model_module": "@jupyter-widgets/controls",
          "model_module_version": "1.5.0",
          "model_name": "HTMLModel",
          "state": {
            "_dom_classes": [],
            "_model_module": "@jupyter-widgets/controls",
            "_model_module_version": "1.5.0",
            "_model_name": "HTMLModel",
            "_view_count": null,
            "_view_module": "@jupyter-widgets/controls",
            "_view_module_version": "1.5.0",
            "_view_name": "HTMLView",
            "description": "",
            "description_tooltip": null,
            "layout": "IPY_MODEL_2945cfb79db74951a41ae7bc6303a4f8",
            "placeholder": "​",
            "style": "IPY_MODEL_c209fbbc4b6f49dfafc8c3fee5e0cb4d",
            "value": " 13.8k/13.8k [00:00&lt;00:00, 6.02kB/s]"
          }
        },
        "581b03a5e089474b902ef1b48ccf90ee": {
          "model_module": "@jupyter-widgets/controls",
          "model_module_version": "1.5.0",
          "model_name": "HBoxModel",
          "state": {
            "_dom_classes": [],
            "_model_module": "@jupyter-widgets/controls",
            "_model_module_version": "1.5.0",
            "_model_name": "HBoxModel",
            "_view_count": null,
            "_view_module": "@jupyter-widgets/controls",
            "_view_module_version": "1.5.0",
            "_view_name": "HBoxView",
            "box_style": "",
            "children": [
              "IPY_MODEL_74d80ed52e524dbe922f958ccc7d2f47",
              "IPY_MODEL_39e81455210f4df6a3847ea9a8d0e47e",
              "IPY_MODEL_144b4a1bc0c540f3933317e5cce85389"
            ],
            "layout": "IPY_MODEL_f6de9fa1c61345db81a27b359f17e84c"
          }
        },
        "583a7d5a4d4d4fe4b400662c8f813fee": {
          "model_module": "@jupyter-widgets/controls",
          "model_module_version": "1.5.0",
          "model_name": "FloatProgressModel",
          "state": {
            "_dom_classes": [],
            "_model_module": "@jupyter-widgets/controls",
            "_model_module_version": "1.5.0",
            "_model_name": "FloatProgressModel",
            "_view_count": null,
            "_view_module": "@jupyter-widgets/controls",
            "_view_module_version": "1.5.0",
            "_view_name": "ProgressView",
            "bar_style": "success",
            "description": "",
            "description_tooltip": null,
            "layout": "IPY_MODEL_086a166e260148a393d848f3af01d811",
            "max": 383,
            "min": 0,
            "orientation": "horizontal",
            "style": "IPY_MODEL_e5b97a21aeb24e5baa10f4a90fb969a3",
            "value": 383
          }
        },
        "5a39b35f1fa34730b517c6b893efb8c9": {
          "model_module": "@jupyter-widgets/base",
          "model_module_version": "1.2.0",
          "model_name": "LayoutModel",
          "state": {
            "_model_module": "@jupyter-widgets/base",
            "_model_module_version": "1.2.0",
            "_model_name": "LayoutModel",
            "_view_count": null,
            "_view_module": "@jupyter-widgets/base",
            "_view_module_version": "1.2.0",
            "_view_name": "LayoutView",
            "align_content": null,
            "align_items": null,
            "align_self": null,
            "border": null,
            "bottom": null,
            "display": null,
            "flex": null,
            "flex_flow": null,
            "grid_area": null,
            "grid_auto_columns": null,
            "grid_auto_flow": null,
            "grid_auto_rows": null,
            "grid_column": null,
            "grid_gap": null,
            "grid_row": null,
            "grid_template_areas": null,
            "grid_template_columns": null,
            "grid_template_rows": null,
            "height": null,
            "justify_content": null,
            "justify_items": null,
            "left": null,
            "margin": null,
            "max_height": null,
            "max_width": null,
            "min_height": null,
            "min_width": null,
            "object_fit": null,
            "object_position": null,
            "order": null,
            "overflow": null,
            "overflow_x": null,
            "overflow_y": null,
            "padding": null,
            "right": null,
            "top": null,
            "visibility": null,
            "width": null
          }
        },
        "5a5824f41552413482ff681877afbe8e": {
          "model_module": "@jupyter-widgets/base",
          "model_module_version": "1.2.0",
          "model_name": "LayoutModel",
          "state": {
            "_model_module": "@jupyter-widgets/base",
            "_model_module_version": "1.2.0",
            "_model_name": "LayoutModel",
            "_view_count": null,
            "_view_module": "@jupyter-widgets/base",
            "_view_module_version": "1.2.0",
            "_view_name": "LayoutView",
            "align_content": null,
            "align_items": null,
            "align_self": null,
            "border": null,
            "bottom": null,
            "display": null,
            "flex": null,
            "flex_flow": null,
            "grid_area": null,
            "grid_auto_columns": null,
            "grid_auto_flow": null,
            "grid_auto_rows": null,
            "grid_column": null,
            "grid_gap": null,
            "grid_row": null,
            "grid_template_areas": null,
            "grid_template_columns": null,
            "grid_template_rows": null,
            "height": null,
            "justify_content": null,
            "justify_items": null,
            "left": null,
            "margin": null,
            "max_height": null,
            "max_width": null,
            "min_height": null,
            "min_width": null,
            "object_fit": null,
            "object_position": null,
            "order": null,
            "overflow": null,
            "overflow_x": null,
            "overflow_y": null,
            "padding": null,
            "right": null,
            "top": null,
            "visibility": null,
            "width": null
          }
        },
        "5b9fc6ac1af94fb69fd8342c90d86c09": {
          "model_module": "@jupyter-widgets/controls",
          "model_module_version": "1.5.0",
          "model_name": "DescriptionStyleModel",
          "state": {
            "_model_module": "@jupyter-widgets/controls",
            "_model_module_version": "1.5.0",
            "_model_name": "DescriptionStyleModel",
            "_view_count": null,
            "_view_module": "@jupyter-widgets/base",
            "_view_module_version": "1.2.0",
            "_view_name": "StyleView",
            "description_width": ""
          }
        },
        "5cc86221c0a7416e9462dfc78950558d": {
          "model_module": "@jupyter-widgets/base",
          "model_module_version": "1.2.0",
          "model_name": "LayoutModel",
          "state": {
            "_model_module": "@jupyter-widgets/base",
            "_model_module_version": "1.2.0",
            "_model_name": "LayoutModel",
            "_view_count": null,
            "_view_module": "@jupyter-widgets/base",
            "_view_module_version": "1.2.0",
            "_view_name": "LayoutView",
            "align_content": null,
            "align_items": null,
            "align_self": null,
            "border": null,
            "bottom": null,
            "display": null,
            "flex": null,
            "flex_flow": null,
            "grid_area": null,
            "grid_auto_columns": null,
            "grid_auto_flow": null,
            "grid_auto_rows": null,
            "grid_column": null,
            "grid_gap": null,
            "grid_row": null,
            "grid_template_areas": null,
            "grid_template_columns": null,
            "grid_template_rows": null,
            "height": null,
            "justify_content": null,
            "justify_items": null,
            "left": null,
            "margin": null,
            "max_height": null,
            "max_width": null,
            "min_height": null,
            "min_width": null,
            "object_fit": null,
            "object_position": null,
            "order": null,
            "overflow": null,
            "overflow_x": null,
            "overflow_y": null,
            "padding": null,
            "right": null,
            "top": null,
            "visibility": null,
            "width": null
          }
        },
        "5d8aec028cb2408ba0e9c83e8cae3f1e": {
          "model_module": "@jupyter-widgets/base",
          "model_module_version": "1.2.0",
          "model_name": "LayoutModel",
          "state": {
            "_model_module": "@jupyter-widgets/base",
            "_model_module_version": "1.2.0",
            "_model_name": "LayoutModel",
            "_view_count": null,
            "_view_module": "@jupyter-widgets/base",
            "_view_module_version": "1.2.0",
            "_view_name": "LayoutView",
            "align_content": null,
            "align_items": null,
            "align_self": null,
            "border": null,
            "bottom": null,
            "display": null,
            "flex": null,
            "flex_flow": null,
            "grid_area": null,
            "grid_auto_columns": null,
            "grid_auto_flow": null,
            "grid_auto_rows": null,
            "grid_column": null,
            "grid_gap": null,
            "grid_row": null,
            "grid_template_areas": null,
            "grid_template_columns": null,
            "grid_template_rows": null,
            "height": null,
            "justify_content": null,
            "justify_items": null,
            "left": null,
            "margin": null,
            "max_height": null,
            "max_width": null,
            "min_height": null,
            "min_width": null,
            "object_fit": null,
            "object_position": null,
            "order": null,
            "overflow": null,
            "overflow_x": null,
            "overflow_y": null,
            "padding": null,
            "right": null,
            "top": null,
            "visibility": null,
            "width": null
          }
        },
        "5fd4fd8c02604edbace874eb5dddf74d": {
          "model_module": "@jupyter-widgets/base",
          "model_module_version": "1.2.0",
          "model_name": "LayoutModel",
          "state": {
            "_model_module": "@jupyter-widgets/base",
            "_model_module_version": "1.2.0",
            "_model_name": "LayoutModel",
            "_view_count": null,
            "_view_module": "@jupyter-widgets/base",
            "_view_module_version": "1.2.0",
            "_view_name": "LayoutView",
            "align_content": null,
            "align_items": null,
            "align_self": null,
            "border": null,
            "bottom": null,
            "display": null,
            "flex": null,
            "flex_flow": null,
            "grid_area": null,
            "grid_auto_columns": null,
            "grid_auto_flow": null,
            "grid_auto_rows": null,
            "grid_column": null,
            "grid_gap": null,
            "grid_row": null,
            "grid_template_areas": null,
            "grid_template_columns": null,
            "grid_template_rows": null,
            "height": null,
            "justify_content": null,
            "justify_items": null,
            "left": null,
            "margin": null,
            "max_height": null,
            "max_width": null,
            "min_height": null,
            "min_width": null,
            "object_fit": null,
            "object_position": null,
            "order": null,
            "overflow": null,
            "overflow_x": null,
            "overflow_y": null,
            "padding": null,
            "right": null,
            "top": null,
            "visibility": null,
            "width": null
          }
        },
        "5fe57550de374bce948f21f0585a45d0": {
          "model_module": "@jupyter-widgets/base",
          "model_module_version": "1.2.0",
          "model_name": "LayoutModel",
          "state": {
            "_model_module": "@jupyter-widgets/base",
            "_model_module_version": "1.2.0",
            "_model_name": "LayoutModel",
            "_view_count": null,
            "_view_module": "@jupyter-widgets/base",
            "_view_module_version": "1.2.0",
            "_view_name": "LayoutView",
            "align_content": null,
            "align_items": null,
            "align_self": null,
            "border": null,
            "bottom": null,
            "display": null,
            "flex": null,
            "flex_flow": null,
            "grid_area": null,
            "grid_auto_columns": null,
            "grid_auto_flow": null,
            "grid_auto_rows": null,
            "grid_column": null,
            "grid_gap": null,
            "grid_row": null,
            "grid_template_areas": null,
            "grid_template_columns": null,
            "grid_template_rows": null,
            "height": null,
            "justify_content": null,
            "justify_items": null,
            "left": null,
            "margin": null,
            "max_height": null,
            "max_width": null,
            "min_height": null,
            "min_width": null,
            "object_fit": null,
            "object_position": null,
            "order": null,
            "overflow": null,
            "overflow_x": null,
            "overflow_y": null,
            "padding": null,
            "right": null,
            "top": null,
            "visibility": null,
            "width": null
          }
        },
        "606898dd625140d9bffb28bec22ae7d8": {
          "model_module": "@jupyter-widgets/controls",
          "model_module_version": "1.5.0",
          "model_name": "FloatProgressModel",
          "state": {
            "_dom_classes": [],
            "_model_module": "@jupyter-widgets/controls",
            "_model_module_version": "1.5.0",
            "_model_name": "FloatProgressModel",
            "_view_count": null,
            "_view_module": "@jupyter-widgets/controls",
            "_view_module_version": "1.5.0",
            "_view_name": "ProgressView",
            "bar_style": "success",
            "description": "",
            "description_tooltip": null,
            "layout": "IPY_MODEL_86467cd01bb34076918f9581edc37169",
            "max": 25457,
            "min": 0,
            "orientation": "horizontal",
            "style": "IPY_MODEL_48aafc27713140a7b9e66ef18467a253",
            "value": 25457
          }
        },
        "60c6754c1a2147fb9fc31e53c16c0989": {
          "model_module": "@jupyter-widgets/controls",
          "model_module_version": "1.5.0",
          "model_name": "HTMLModel",
          "state": {
            "_dom_classes": [],
            "_model_module": "@jupyter-widgets/controls",
            "_model_module_version": "1.5.0",
            "_model_name": "HTMLModel",
            "_view_count": null,
            "_view_module": "@jupyter-widgets/controls",
            "_view_module_version": "1.5.0",
            "_view_name": "HTMLView",
            "description": "",
            "description_tooltip": null,
            "layout": "IPY_MODEL_8c4aa7ef60a34520ac22440513b49cce",
            "placeholder": "​",
            "style": "IPY_MODEL_ce680b523edd4fc5b605d4d4074ef953",
            "value": "Downloading: 100%"
          }
        },
        "65f17b8d489343d19df98bd38b496bda": {
          "model_module": "@jupyter-widgets/controls",
          "model_module_version": "1.5.0",
          "model_name": "HBoxModel",
          "state": {
            "_dom_classes": [],
            "_model_module": "@jupyter-widgets/controls",
            "_model_module_version": "1.5.0",
            "_model_name": "HBoxModel",
            "_view_count": null,
            "_view_module": "@jupyter-widgets/controls",
            "_view_module_version": "1.5.0",
            "_view_name": "HBoxView",
            "box_style": "",
            "children": [
              "IPY_MODEL_b0bb92c680904d289049dc276d6d5805",
              "IPY_MODEL_2659167c65064e719100a31e1ba8d784",
              "IPY_MODEL_a96a29560b524087ad42bd6eca480423"
            ],
            "layout": "IPY_MODEL_ca463ea8a12a40d0a39ce2dba96299d0"
          }
        },
        "69f61ce7c5f64c1ca4d6d17c24bfcec4": {
          "model_module": "@jupyter-widgets/controls",
          "model_module_version": "1.5.0",
          "model_name": "FloatProgressModel",
          "state": {
            "_dom_classes": [],
            "_model_module": "@jupyter-widgets/controls",
            "_model_module_version": "1.5.0",
            "_model_name": "FloatProgressModel",
            "_view_count": null,
            "_view_module": "@jupyter-widgets/controls",
            "_view_module_version": "1.5.0",
            "_view_name": "ProgressView",
            "bar_style": "success",
            "description": "",
            "description_tooltip": null,
            "layout": "IPY_MODEL_3854da3561684d85b5087dea5368ba09",
            "max": 13846,
            "min": 0,
            "orientation": "horizontal",
            "style": "IPY_MODEL_0d02b5f2b7584cd08b5dd3b5027174be",
            "value": 13846
          }
        },
        "69fcf835db224fda8e54ec255637e88e": {
          "model_module": "@jupyter-widgets/controls",
          "model_module_version": "1.5.0",
          "model_name": "HTMLModel",
          "state": {
            "_dom_classes": [],
            "_model_module": "@jupyter-widgets/controls",
            "_model_module_version": "1.5.0",
            "_model_name": "HTMLModel",
            "_view_count": null,
            "_view_module": "@jupyter-widgets/controls",
            "_view_module_version": "1.5.0",
            "_view_name": "HTMLView",
            "description": "",
            "description_tooltip": null,
            "layout": "IPY_MODEL_07fae9dc8ec54831bd7050cb7456555c",
            "placeholder": "​",
            "style": "IPY_MODEL_89ac22fda76b46e0893de2553207d9c6",
            "value": " 112/112 [00:00&lt;00:00, 1.94kB/s]"
          }
        },
        "6a7944ae628642198cfd7a3dc5257315": {
          "model_module": "@jupyter-widgets/base",
          "model_module_version": "1.2.0",
          "model_name": "LayoutModel",
          "state": {
            "_model_module": "@jupyter-widgets/base",
            "_model_module_version": "1.2.0",
            "_model_name": "LayoutModel",
            "_view_count": null,
            "_view_module": "@jupyter-widgets/base",
            "_view_module_version": "1.2.0",
            "_view_name": "LayoutView",
            "align_content": null,
            "align_items": null,
            "align_self": null,
            "border": null,
            "bottom": null,
            "display": null,
            "flex": null,
            "flex_flow": null,
            "grid_area": null,
            "grid_auto_columns": null,
            "grid_auto_flow": null,
            "grid_auto_rows": null,
            "grid_column": null,
            "grid_gap": null,
            "grid_row": null,
            "grid_template_areas": null,
            "grid_template_columns": null,
            "grid_template_rows": null,
            "height": null,
            "justify_content": null,
            "justify_items": null,
            "left": null,
            "margin": null,
            "max_height": null,
            "max_width": null,
            "min_height": null,
            "min_width": null,
            "object_fit": null,
            "object_position": null,
            "order": null,
            "overflow": null,
            "overflow_x": null,
            "overflow_y": null,
            "padding": null,
            "right": null,
            "top": null,
            "visibility": null,
            "width": null
          }
        },
        "6cff5dd86a2e42a895efd505659c7a9e": {
          "model_module": "@jupyter-widgets/controls",
          "model_module_version": "1.5.0",
          "model_name": "FloatProgressModel",
          "state": {
            "_dom_classes": [],
            "_model_module": "@jupyter-widgets/controls",
            "_model_module_version": "1.5.0",
            "_model_name": "FloatProgressModel",
            "_view_count": null,
            "_view_module": "@jupyter-widgets/controls",
            "_view_module_version": "1.5.0",
            "_view_name": "ProgressView",
            "bar_style": "success",
            "description": "",
            "description_tooltip": null,
            "layout": "IPY_MODEL_5a39b35f1fa34730b517c6b893efb8c9",
            "max": 466247,
            "min": 0,
            "orientation": "horizontal",
            "style": "IPY_MODEL_c165fb32049c45a5b992971b79af36f5",
            "value": 466247
          }
        },
        "6db85b8bbed644ddaac21e21f60faca8": {
          "model_module": "@jupyter-widgets/controls",
          "model_module_version": "1.5.0",
          "model_name": "HTMLModel",
          "state": {
            "_dom_classes": [],
            "_model_module": "@jupyter-widgets/controls",
            "_model_module_version": "1.5.0",
            "_model_name": "HTMLModel",
            "_view_count": null,
            "_view_module": "@jupyter-widgets/controls",
            "_view_module_version": "1.5.0",
            "_view_name": "HTMLView",
            "description": "",
            "description_tooltip": null,
            "layout": "IPY_MODEL_dece3698eb02459082c9bb468d8f3306",
            "placeholder": "​",
            "style": "IPY_MODEL_c1a19971f2b447bf8952db59aed1eefe",
            "value": " 737/737 [00:00&lt;00:00, 10.5kB/s]"
          }
        },
        "6de859c0196445009f159df87a72a848": {
          "model_module": "@jupyter-widgets/controls",
          "model_module_version": "1.5.0",
          "model_name": "DescriptionStyleModel",
          "state": {
            "_model_module": "@jupyter-widgets/controls",
            "_model_module_version": "1.5.0",
            "_model_name": "DescriptionStyleModel",
            "_view_count": null,
            "_view_module": "@jupyter-widgets/base",
            "_view_module_version": "1.2.0",
            "_view_name": "StyleView",
            "description_width": ""
          }
        },
        "6e064d57e50e450ab72a91ad94842aec": {
          "model_module": "@jupyter-widgets/controls",
          "model_module_version": "1.5.0",
          "model_name": "DescriptionStyleModel",
          "state": {
            "_model_module": "@jupyter-widgets/controls",
            "_model_module_version": "1.5.0",
            "_model_name": "DescriptionStyleModel",
            "_view_count": null,
            "_view_module": "@jupyter-widgets/base",
            "_view_module_version": "1.2.0",
            "_view_name": "StyleView",
            "description_width": ""
          }
        },
        "71a8f89c6b564e58b2419a66807f78ac": {
          "model_module": "@jupyter-widgets/base",
          "model_module_version": "1.2.0",
          "model_name": "LayoutModel",
          "state": {
            "_model_module": "@jupyter-widgets/base",
            "_model_module_version": "1.2.0",
            "_model_name": "LayoutModel",
            "_view_count": null,
            "_view_module": "@jupyter-widgets/base",
            "_view_module_version": "1.2.0",
            "_view_name": "LayoutView",
            "align_content": null,
            "align_items": null,
            "align_self": null,
            "border": null,
            "bottom": null,
            "display": null,
            "flex": null,
            "flex_flow": null,
            "grid_area": null,
            "grid_auto_columns": null,
            "grid_auto_flow": null,
            "grid_auto_rows": null,
            "grid_column": null,
            "grid_gap": null,
            "grid_row": null,
            "grid_template_areas": null,
            "grid_template_columns": null,
            "grid_template_rows": null,
            "height": null,
            "justify_content": null,
            "justify_items": null,
            "left": null,
            "margin": null,
            "max_height": null,
            "max_width": null,
            "min_height": null,
            "min_width": null,
            "object_fit": null,
            "object_position": null,
            "order": null,
            "overflow": null,
            "overflow_x": null,
            "overflow_y": null,
            "padding": null,
            "right": null,
            "top": null,
            "visibility": null,
            "width": null
          }
        },
        "71e7c8722faa411db4c1631682bdc368": {
          "model_module": "@jupyter-widgets/controls",
          "model_module_version": "1.5.0",
          "model_name": "HBoxModel",
          "state": {
            "_dom_classes": [],
            "_model_module": "@jupyter-widgets/controls",
            "_model_module_version": "1.5.0",
            "_model_name": "HBoxModel",
            "_view_count": null,
            "_view_module": "@jupyter-widgets/controls",
            "_view_module_version": "1.5.0",
            "_view_name": "HBoxView",
            "box_style": "",
            "children": [
              "IPY_MODEL_9b73b29e7213499c89e80897d1048424",
              "IPY_MODEL_411c9662e5a44d3e9de684ef24e6f485",
              "IPY_MODEL_d8822ca6b7ec430ba49454e5817cecbd"
            ],
            "layout": "IPY_MODEL_d676fcfe4be54c14b4130430a758e944"
          }
        },
        "74d80ed52e524dbe922f958ccc7d2f47": {
          "model_module": "@jupyter-widgets/controls",
          "model_module_version": "1.5.0",
          "model_name": "HTMLModel",
          "state": {
            "_dom_classes": [],
            "_model_module": "@jupyter-widgets/controls",
            "_model_module_version": "1.5.0",
            "_model_name": "HTMLModel",
            "_view_count": null,
            "_view_module": "@jupyter-widgets/controls",
            "_view_module_version": "1.5.0",
            "_view_name": "HTMLView",
            "description": "",
            "description_tooltip": null,
            "layout": "IPY_MODEL_1d93b911a8e84c7d996b574548f1b101",
            "placeholder": "​",
            "style": "IPY_MODEL_cd42ab7cb7cc4fdb9652c6bff0f30165",
            "value": "Batches: 100%"
          }
        },
        "759b530fb68941ba83f758582a2973c1": {
          "model_module": "@jupyter-widgets/controls",
          "model_module_version": "1.5.0",
          "model_name": "FloatProgressModel",
          "state": {
            "_dom_classes": [],
            "_model_module": "@jupyter-widgets/controls",
            "_model_module_version": "1.5.0",
            "_model_name": "FloatProgressModel",
            "_view_count": null,
            "_view_module": "@jupyter-widgets/controls",
            "_view_module_version": "1.5.0",
            "_view_name": "ProgressView",
            "bar_style": "success",
            "description": "",
            "description_tooltip": null,
            "layout": "IPY_MODEL_3254d3efe8144de6a5bbe827b0edf53f",
            "max": 612,
            "min": 0,
            "orientation": "horizontal",
            "style": "IPY_MODEL_8d6bc43846f64797b46ece327ae61e7c",
            "value": 612
          }
        },
        "762f86be82d14056842070af2d6efe2d": {
          "model_module": "@jupyter-widgets/base",
          "model_module_version": "1.2.0",
          "model_name": "LayoutModel",
          "state": {
            "_model_module": "@jupyter-widgets/base",
            "_model_module_version": "1.2.0",
            "_model_name": "LayoutModel",
            "_view_count": null,
            "_view_module": "@jupyter-widgets/base",
            "_view_module_version": "1.2.0",
            "_view_name": "LayoutView",
            "align_content": null,
            "align_items": null,
            "align_self": null,
            "border": null,
            "bottom": null,
            "display": null,
            "flex": null,
            "flex_flow": null,
            "grid_area": null,
            "grid_auto_columns": null,
            "grid_auto_flow": null,
            "grid_auto_rows": null,
            "grid_column": null,
            "grid_gap": null,
            "grid_row": null,
            "grid_template_areas": null,
            "grid_template_columns": null,
            "grid_template_rows": null,
            "height": null,
            "justify_content": null,
            "justify_items": null,
            "left": null,
            "margin": null,
            "max_height": null,
            "max_width": null,
            "min_height": null,
            "min_width": null,
            "object_fit": null,
            "object_position": null,
            "order": null,
            "overflow": null,
            "overflow_x": null,
            "overflow_y": null,
            "padding": null,
            "right": null,
            "top": null,
            "visibility": null,
            "width": null
          }
        },
        "76ca4e3dbfab440b9eaa193dced8a8bf": {
          "model_module": "@jupyter-widgets/base",
          "model_module_version": "1.2.0",
          "model_name": "LayoutModel",
          "state": {
            "_model_module": "@jupyter-widgets/base",
            "_model_module_version": "1.2.0",
            "_model_name": "LayoutModel",
            "_view_count": null,
            "_view_module": "@jupyter-widgets/base",
            "_view_module_version": "1.2.0",
            "_view_name": "LayoutView",
            "align_content": null,
            "align_items": null,
            "align_self": null,
            "border": null,
            "bottom": null,
            "display": null,
            "flex": null,
            "flex_flow": null,
            "grid_area": null,
            "grid_auto_columns": null,
            "grid_auto_flow": null,
            "grid_auto_rows": null,
            "grid_column": null,
            "grid_gap": null,
            "grid_row": null,
            "grid_template_areas": null,
            "grid_template_columns": null,
            "grid_template_rows": null,
            "height": null,
            "justify_content": null,
            "justify_items": null,
            "left": null,
            "margin": null,
            "max_height": null,
            "max_width": null,
            "min_height": null,
            "min_width": null,
            "object_fit": null,
            "object_position": null,
            "order": null,
            "overflow": null,
            "overflow_x": null,
            "overflow_y": null,
            "padding": null,
            "right": null,
            "top": null,
            "visibility": null,
            "width": null
          }
        },
        "76e0381f3485487a974db4ac0bc9f483": {
          "model_module": "@jupyter-widgets/base",
          "model_module_version": "1.2.0",
          "model_name": "LayoutModel",
          "state": {
            "_model_module": "@jupyter-widgets/base",
            "_model_module_version": "1.2.0",
            "_model_name": "LayoutModel",
            "_view_count": null,
            "_view_module": "@jupyter-widgets/base",
            "_view_module_version": "1.2.0",
            "_view_name": "LayoutView",
            "align_content": null,
            "align_items": null,
            "align_self": null,
            "border": null,
            "bottom": null,
            "display": null,
            "flex": null,
            "flex_flow": null,
            "grid_area": null,
            "grid_auto_columns": null,
            "grid_auto_flow": null,
            "grid_auto_rows": null,
            "grid_column": null,
            "grid_gap": null,
            "grid_row": null,
            "grid_template_areas": null,
            "grid_template_columns": null,
            "grid_template_rows": null,
            "height": null,
            "justify_content": null,
            "justify_items": null,
            "left": null,
            "margin": null,
            "max_height": null,
            "max_width": null,
            "min_height": null,
            "min_width": null,
            "object_fit": null,
            "object_position": null,
            "order": null,
            "overflow": null,
            "overflow_x": null,
            "overflow_y": null,
            "padding": null,
            "right": null,
            "top": null,
            "visibility": null,
            "width": null
          }
        },
        "77ebac9695be42d6a98a2bb1022e652d": {
          "model_module": "@jupyter-widgets/base",
          "model_module_version": "1.2.0",
          "model_name": "LayoutModel",
          "state": {
            "_model_module": "@jupyter-widgets/base",
            "_model_module_version": "1.2.0",
            "_model_name": "LayoutModel",
            "_view_count": null,
            "_view_module": "@jupyter-widgets/base",
            "_view_module_version": "1.2.0",
            "_view_name": "LayoutView",
            "align_content": null,
            "align_items": null,
            "align_self": null,
            "border": null,
            "bottom": null,
            "display": null,
            "flex": null,
            "flex_flow": null,
            "grid_area": null,
            "grid_auto_columns": null,
            "grid_auto_flow": null,
            "grid_auto_rows": null,
            "grid_column": null,
            "grid_gap": null,
            "grid_row": null,
            "grid_template_areas": null,
            "grid_template_columns": null,
            "grid_template_rows": null,
            "height": null,
            "justify_content": null,
            "justify_items": null,
            "left": null,
            "margin": null,
            "max_height": null,
            "max_width": null,
            "min_height": null,
            "min_width": null,
            "object_fit": null,
            "object_position": null,
            "order": null,
            "overflow": null,
            "overflow_x": null,
            "overflow_y": null,
            "padding": null,
            "right": null,
            "top": null,
            "visibility": null,
            "width": null
          }
        },
        "78a3443a1d1d49e080d2f0f97b9483c8": {
          "model_module": "@jupyter-widgets/controls",
          "model_module_version": "1.5.0",
          "model_name": "DescriptionStyleModel",
          "state": {
            "_model_module": "@jupyter-widgets/controls",
            "_model_module_version": "1.5.0",
            "_model_name": "DescriptionStyleModel",
            "_view_count": null,
            "_view_module": "@jupyter-widgets/base",
            "_view_module_version": "1.2.0",
            "_view_name": "StyleView",
            "description_width": ""
          }
        },
        "799c6ee2c9ac444e875806a8e4be3887": {
          "model_module": "@jupyter-widgets/base",
          "model_module_version": "1.2.0",
          "model_name": "LayoutModel",
          "state": {
            "_model_module": "@jupyter-widgets/base",
            "_model_module_version": "1.2.0",
            "_model_name": "LayoutModel",
            "_view_count": null,
            "_view_module": "@jupyter-widgets/base",
            "_view_module_version": "1.2.0",
            "_view_name": "LayoutView",
            "align_content": null,
            "align_items": null,
            "align_self": null,
            "border": null,
            "bottom": null,
            "display": null,
            "flex": null,
            "flex_flow": null,
            "grid_area": null,
            "grid_auto_columns": null,
            "grid_auto_flow": null,
            "grid_auto_rows": null,
            "grid_column": null,
            "grid_gap": null,
            "grid_row": null,
            "grid_template_areas": null,
            "grid_template_columns": null,
            "grid_template_rows": null,
            "height": null,
            "justify_content": null,
            "justify_items": null,
            "left": null,
            "margin": null,
            "max_height": null,
            "max_width": null,
            "min_height": null,
            "min_width": null,
            "object_fit": null,
            "object_position": null,
            "order": null,
            "overflow": null,
            "overflow_x": null,
            "overflow_y": null,
            "padding": null,
            "right": null,
            "top": null,
            "visibility": null,
            "width": null
          }
        },
        "7c5040b84b1a4e1b9becf95b4413ff97": {
          "model_module": "@jupyter-widgets/base",
          "model_module_version": "1.2.0",
          "model_name": "LayoutModel",
          "state": {
            "_model_module": "@jupyter-widgets/base",
            "_model_module_version": "1.2.0",
            "_model_name": "LayoutModel",
            "_view_count": null,
            "_view_module": "@jupyter-widgets/base",
            "_view_module_version": "1.2.0",
            "_view_name": "LayoutView",
            "align_content": null,
            "align_items": null,
            "align_self": null,
            "border": null,
            "bottom": null,
            "display": null,
            "flex": null,
            "flex_flow": null,
            "grid_area": null,
            "grid_auto_columns": null,
            "grid_auto_flow": null,
            "grid_auto_rows": null,
            "grid_column": null,
            "grid_gap": null,
            "grid_row": null,
            "grid_template_areas": null,
            "grid_template_columns": null,
            "grid_template_rows": null,
            "height": null,
            "justify_content": null,
            "justify_items": null,
            "left": null,
            "margin": null,
            "max_height": null,
            "max_width": null,
            "min_height": null,
            "min_width": null,
            "object_fit": null,
            "object_position": null,
            "order": null,
            "overflow": null,
            "overflow_x": null,
            "overflow_y": null,
            "padding": null,
            "right": null,
            "top": null,
            "visibility": null,
            "width": null
          }
        },
        "7d76900bdeac4b96b5d164dcf1b42154": {
          "model_module": "@jupyter-widgets/controls",
          "model_module_version": "1.5.0",
          "model_name": "FloatProgressModel",
          "state": {
            "_dom_classes": [],
            "_model_module": "@jupyter-widgets/controls",
            "_model_module_version": "1.5.0",
            "_model_name": "FloatProgressModel",
            "_view_count": null,
            "_view_module": "@jupyter-widgets/controls",
            "_view_module_version": "1.5.0",
            "_view_name": "ProgressView",
            "bar_style": "success",
            "description": "",
            "description_tooltip": null,
            "layout": "IPY_MODEL_f1c5c523d4de463a9e8d408860cf3eb8",
            "max": 116,
            "min": 0,
            "orientation": "horizontal",
            "style": "IPY_MODEL_954d6c91cd1e4a02a5349e5f175bfb61",
            "value": 116
          }
        },
        "7ebbb99899f34686ba919c4c970a4fab": {
          "model_module": "@jupyter-widgets/base",
          "model_module_version": "1.2.0",
          "model_name": "LayoutModel",
          "state": {
            "_model_module": "@jupyter-widgets/base",
            "_model_module_version": "1.2.0",
            "_model_name": "LayoutModel",
            "_view_count": null,
            "_view_module": "@jupyter-widgets/base",
            "_view_module_version": "1.2.0",
            "_view_name": "LayoutView",
            "align_content": null,
            "align_items": null,
            "align_self": null,
            "border": null,
            "bottom": null,
            "display": null,
            "flex": null,
            "flex_flow": null,
            "grid_area": null,
            "grid_auto_columns": null,
            "grid_auto_flow": null,
            "grid_auto_rows": null,
            "grid_column": null,
            "grid_gap": null,
            "grid_row": null,
            "grid_template_areas": null,
            "grid_template_columns": null,
            "grid_template_rows": null,
            "height": null,
            "justify_content": null,
            "justify_items": null,
            "left": null,
            "margin": null,
            "max_height": null,
            "max_width": null,
            "min_height": null,
            "min_width": null,
            "object_fit": null,
            "object_position": null,
            "order": null,
            "overflow": null,
            "overflow_x": null,
            "overflow_y": null,
            "padding": null,
            "right": null,
            "top": null,
            "visibility": null,
            "width": null
          }
        },
        "7fb7430c92b343c2a7d1f3306d697060": {
          "model_module": "@jupyter-widgets/base",
          "model_module_version": "1.2.0",
          "model_name": "LayoutModel",
          "state": {
            "_model_module": "@jupyter-widgets/base",
            "_model_module_version": "1.2.0",
            "_model_name": "LayoutModel",
            "_view_count": null,
            "_view_module": "@jupyter-widgets/base",
            "_view_module_version": "1.2.0",
            "_view_name": "LayoutView",
            "align_content": null,
            "align_items": null,
            "align_self": null,
            "border": null,
            "bottom": null,
            "display": null,
            "flex": null,
            "flex_flow": null,
            "grid_area": null,
            "grid_auto_columns": null,
            "grid_auto_flow": null,
            "grid_auto_rows": null,
            "grid_column": null,
            "grid_gap": null,
            "grid_row": null,
            "grid_template_areas": null,
            "grid_template_columns": null,
            "grid_template_rows": null,
            "height": null,
            "justify_content": null,
            "justify_items": null,
            "left": null,
            "margin": null,
            "max_height": null,
            "max_width": null,
            "min_height": null,
            "min_width": null,
            "object_fit": null,
            "object_position": null,
            "order": null,
            "overflow": null,
            "overflow_x": null,
            "overflow_y": null,
            "padding": null,
            "right": null,
            "top": null,
            "visibility": null,
            "width": null
          }
        },
        "81d4c13473344a5895a9f2153004b4ac": {
          "model_module": "@jupyter-widgets/controls",
          "model_module_version": "1.5.0",
          "model_name": "DescriptionStyleModel",
          "state": {
            "_model_module": "@jupyter-widgets/controls",
            "_model_module_version": "1.5.0",
            "_model_name": "DescriptionStyleModel",
            "_view_count": null,
            "_view_module": "@jupyter-widgets/base",
            "_view_module_version": "1.2.0",
            "_view_name": "StyleView",
            "description_width": ""
          }
        },
        "8215b8c468524daab3e5f776f12169f6": {
          "model_module": "@jupyter-widgets/base",
          "model_module_version": "1.2.0",
          "model_name": "LayoutModel",
          "state": {
            "_model_module": "@jupyter-widgets/base",
            "_model_module_version": "1.2.0",
            "_model_name": "LayoutModel",
            "_view_count": null,
            "_view_module": "@jupyter-widgets/base",
            "_view_module_version": "1.2.0",
            "_view_name": "LayoutView",
            "align_content": null,
            "align_items": null,
            "align_self": null,
            "border": null,
            "bottom": null,
            "display": null,
            "flex": null,
            "flex_flow": null,
            "grid_area": null,
            "grid_auto_columns": null,
            "grid_auto_flow": null,
            "grid_auto_rows": null,
            "grid_column": null,
            "grid_gap": null,
            "grid_row": null,
            "grid_template_areas": null,
            "grid_template_columns": null,
            "grid_template_rows": null,
            "height": null,
            "justify_content": null,
            "justify_items": null,
            "left": null,
            "margin": null,
            "max_height": null,
            "max_width": null,
            "min_height": null,
            "min_width": null,
            "object_fit": null,
            "object_position": null,
            "order": null,
            "overflow": null,
            "overflow_x": null,
            "overflow_y": null,
            "padding": null,
            "right": null,
            "top": null,
            "visibility": null,
            "width": null
          }
        },
        "830ad618657e4284a4d599f8c50b38e6": {
          "model_module": "@jupyter-widgets/controls",
          "model_module_version": "1.5.0",
          "model_name": "FloatProgressModel",
          "state": {
            "_dom_classes": [],
            "_model_module": "@jupyter-widgets/controls",
            "_model_module_version": "1.5.0",
            "_model_name": "FloatProgressModel",
            "_view_count": null,
            "_view_module": "@jupyter-widgets/controls",
            "_view_module_version": "1.5.0",
            "_view_name": "ProgressView",
            "bar_style": "success",
            "description": "",
            "description_tooltip": null,
            "layout": "IPY_MODEL_ae092d38e44046a6801214dde930032f",
            "max": 90903017,
            "min": 0,
            "orientation": "horizontal",
            "style": "IPY_MODEL_b86e478b704244e2a7e56ddbd7928ebc",
            "value": 90903017
          }
        },
        "84825a011d634063b8c082168ec2bcd5": {
          "model_module": "@jupyter-widgets/controls",
          "model_module_version": "1.5.0",
          "model_name": "ProgressStyleModel",
          "state": {
            "_model_module": "@jupyter-widgets/controls",
            "_model_module_version": "1.5.0",
            "_model_name": "ProgressStyleModel",
            "_view_count": null,
            "_view_module": "@jupyter-widgets/base",
            "_view_module_version": "1.2.0",
            "_view_name": "StyleView",
            "bar_color": null,
            "description_width": ""
          }
        },
        "85419e353e6546b6b5e222b40f682a98": {
          "model_module": "@jupyter-widgets/controls",
          "model_module_version": "1.5.0",
          "model_name": "DescriptionStyleModel",
          "state": {
            "_model_module": "@jupyter-widgets/controls",
            "_model_module_version": "1.5.0",
            "_model_name": "DescriptionStyleModel",
            "_view_count": null,
            "_view_module": "@jupyter-widgets/base",
            "_view_module_version": "1.2.0",
            "_view_name": "StyleView",
            "description_width": ""
          }
        },
        "86467cd01bb34076918f9581edc37169": {
          "model_module": "@jupyter-widgets/base",
          "model_module_version": "1.2.0",
          "model_name": "LayoutModel",
          "state": {
            "_model_module": "@jupyter-widgets/base",
            "_model_module_version": "1.2.0",
            "_model_name": "LayoutModel",
            "_view_count": null,
            "_view_module": "@jupyter-widgets/base",
            "_view_module_version": "1.2.0",
            "_view_name": "LayoutView",
            "align_content": null,
            "align_items": null,
            "align_self": null,
            "border": null,
            "bottom": null,
            "display": null,
            "flex": null,
            "flex_flow": null,
            "grid_area": null,
            "grid_auto_columns": null,
            "grid_auto_flow": null,
            "grid_auto_rows": null,
            "grid_column": null,
            "grid_gap": null,
            "grid_row": null,
            "grid_template_areas": null,
            "grid_template_columns": null,
            "grid_template_rows": null,
            "height": null,
            "justify_content": null,
            "justify_items": null,
            "left": null,
            "margin": null,
            "max_height": null,
            "max_width": null,
            "min_height": null,
            "min_width": null,
            "object_fit": null,
            "object_position": null,
            "order": null,
            "overflow": null,
            "overflow_x": null,
            "overflow_y": null,
            "padding": null,
            "right": null,
            "top": null,
            "visibility": null,
            "width": null
          }
        },
        "867dc55de2c448c58b829ad3c255e6b5": {
          "model_module": "@jupyter-widgets/controls",
          "model_module_version": "1.5.0",
          "model_name": "HTMLModel",
          "state": {
            "_dom_classes": [],
            "_model_module": "@jupyter-widgets/controls",
            "_model_module_version": "1.5.0",
            "_model_name": "HTMLModel",
            "_view_count": null,
            "_view_module": "@jupyter-widgets/controls",
            "_view_module_version": "1.5.0",
            "_view_name": "HTMLView",
            "description": "",
            "description_tooltip": null,
            "layout": "IPY_MODEL_799c6ee2c9ac444e875806a8e4be3887",
            "placeholder": "​",
            "style": "IPY_MODEL_78a3443a1d1d49e080d2f0f97b9483c8",
            "value": "Downloading: 100%"
          }
        },
        "873d582b9c8142e4aef5f1b3d894a7c3": {
          "model_module": "@jupyter-widgets/controls",
          "model_module_version": "1.5.0",
          "model_name": "FloatProgressModel",
          "state": {
            "_dom_classes": [],
            "_model_module": "@jupyter-widgets/controls",
            "_model_module_version": "1.5.0",
            "_model_name": "FloatProgressModel",
            "_view_count": null,
            "_view_module": "@jupyter-widgets/controls",
            "_view_module_version": "1.5.0",
            "_view_name": "ProgressView",
            "bar_style": "success",
            "description": "",
            "description_tooltip": null,
            "layout": "IPY_MODEL_42002b4d3d3c45f5b69df885c9166c8d",
            "max": 112,
            "min": 0,
            "orientation": "horizontal",
            "style": "IPY_MODEL_4e11e36f37194f2291ecca41d7cbdab9",
            "value": 112
          }
        },
        "88172bea89744360ae8b82df81965c39": {
          "model_module": "@jupyter-widgets/base",
          "model_module_version": "1.2.0",
          "model_name": "LayoutModel",
          "state": {
            "_model_module": "@jupyter-widgets/base",
            "_model_module_version": "1.2.0",
            "_model_name": "LayoutModel",
            "_view_count": null,
            "_view_module": "@jupyter-widgets/base",
            "_view_module_version": "1.2.0",
            "_view_name": "LayoutView",
            "align_content": null,
            "align_items": null,
            "align_self": null,
            "border": null,
            "bottom": null,
            "display": null,
            "flex": null,
            "flex_flow": null,
            "grid_area": null,
            "grid_auto_columns": null,
            "grid_auto_flow": null,
            "grid_auto_rows": null,
            "grid_column": null,
            "grid_gap": null,
            "grid_row": null,
            "grid_template_areas": null,
            "grid_template_columns": null,
            "grid_template_rows": null,
            "height": null,
            "justify_content": null,
            "justify_items": null,
            "left": null,
            "margin": null,
            "max_height": null,
            "max_width": null,
            "min_height": null,
            "min_width": null,
            "object_fit": null,
            "object_position": null,
            "order": null,
            "overflow": null,
            "overflow_x": null,
            "overflow_y": null,
            "padding": null,
            "right": null,
            "top": null,
            "visibility": null,
            "width": null
          }
        },
        "89ac22fda76b46e0893de2553207d9c6": {
          "model_module": "@jupyter-widgets/controls",
          "model_module_version": "1.5.0",
          "model_name": "DescriptionStyleModel",
          "state": {
            "_model_module": "@jupyter-widgets/controls",
            "_model_module_version": "1.5.0",
            "_model_name": "DescriptionStyleModel",
            "_view_count": null,
            "_view_module": "@jupyter-widgets/base",
            "_view_module_version": "1.2.0",
            "_view_name": "StyleView",
            "description_width": ""
          }
        },
        "8ae6b1863c7544aab3b7ffc4bbe1c374": {
          "model_module": "@jupyter-widgets/controls",
          "model_module_version": "1.5.0",
          "model_name": "DescriptionStyleModel",
          "state": {
            "_model_module": "@jupyter-widgets/controls",
            "_model_module_version": "1.5.0",
            "_model_name": "DescriptionStyleModel",
            "_view_count": null,
            "_view_module": "@jupyter-widgets/base",
            "_view_module_version": "1.2.0",
            "_view_name": "StyleView",
            "description_width": ""
          }
        },
        "8c4aa7ef60a34520ac22440513b49cce": {
          "model_module": "@jupyter-widgets/base",
          "model_module_version": "1.2.0",
          "model_name": "LayoutModel",
          "state": {
            "_model_module": "@jupyter-widgets/base",
            "_model_module_version": "1.2.0",
            "_model_name": "LayoutModel",
            "_view_count": null,
            "_view_module": "@jupyter-widgets/base",
            "_view_module_version": "1.2.0",
            "_view_name": "LayoutView",
            "align_content": null,
            "align_items": null,
            "align_self": null,
            "border": null,
            "bottom": null,
            "display": null,
            "flex": null,
            "flex_flow": null,
            "grid_area": null,
            "grid_auto_columns": null,
            "grid_auto_flow": null,
            "grid_auto_rows": null,
            "grid_column": null,
            "grid_gap": null,
            "grid_row": null,
            "grid_template_areas": null,
            "grid_template_columns": null,
            "grid_template_rows": null,
            "height": null,
            "justify_content": null,
            "justify_items": null,
            "left": null,
            "margin": null,
            "max_height": null,
            "max_width": null,
            "min_height": null,
            "min_width": null,
            "object_fit": null,
            "object_position": null,
            "order": null,
            "overflow": null,
            "overflow_x": null,
            "overflow_y": null,
            "padding": null,
            "right": null,
            "top": null,
            "visibility": null,
            "width": null
          }
        },
        "8c82dad412104e418e15a4312c44d180": {
          "model_module": "@jupyter-widgets/base",
          "model_module_version": "1.2.0",
          "model_name": "LayoutModel",
          "state": {
            "_model_module": "@jupyter-widgets/base",
            "_model_module_version": "1.2.0",
            "_model_name": "LayoutModel",
            "_view_count": null,
            "_view_module": "@jupyter-widgets/base",
            "_view_module_version": "1.2.0",
            "_view_name": "LayoutView",
            "align_content": null,
            "align_items": null,
            "align_self": null,
            "border": null,
            "bottom": null,
            "display": null,
            "flex": null,
            "flex_flow": null,
            "grid_area": null,
            "grid_auto_columns": null,
            "grid_auto_flow": null,
            "grid_auto_rows": null,
            "grid_column": null,
            "grid_gap": null,
            "grid_row": null,
            "grid_template_areas": null,
            "grid_template_columns": null,
            "grid_template_rows": null,
            "height": null,
            "justify_content": null,
            "justify_items": null,
            "left": null,
            "margin": null,
            "max_height": null,
            "max_width": null,
            "min_height": null,
            "min_width": null,
            "object_fit": null,
            "object_position": null,
            "order": null,
            "overflow": null,
            "overflow_x": null,
            "overflow_y": null,
            "padding": null,
            "right": null,
            "top": null,
            "visibility": null,
            "width": null
          }
        },
        "8d6bc43846f64797b46ece327ae61e7c": {
          "model_module": "@jupyter-widgets/controls",
          "model_module_version": "1.5.0",
          "model_name": "ProgressStyleModel",
          "state": {
            "_model_module": "@jupyter-widgets/controls",
            "_model_module_version": "1.5.0",
            "_model_name": "ProgressStyleModel",
            "_view_count": null,
            "_view_module": "@jupyter-widgets/base",
            "_view_module_version": "1.2.0",
            "_view_name": "StyleView",
            "bar_color": null,
            "description_width": ""
          }
        },
        "8de30ea9eab9463b8f1bdcc87fc72523": {
          "model_module": "@jupyter-widgets/controls",
          "model_module_version": "1.5.0",
          "model_name": "HBoxModel",
          "state": {
            "_dom_classes": [],
            "_model_module": "@jupyter-widgets/controls",
            "_model_module_version": "1.5.0",
            "_model_name": "HBoxModel",
            "_view_count": null,
            "_view_module": "@jupyter-widgets/controls",
            "_view_module_version": "1.5.0",
            "_view_name": "HBoxView",
            "box_style": "",
            "children": [
              "IPY_MODEL_fb82c802cfb844e48da27db91b691e44",
              "IPY_MODEL_583a7d5a4d4d4fe4b400662c8f813fee",
              "IPY_MODEL_a0903b01bbf5428a8039eea2455ee177"
            ],
            "layout": "IPY_MODEL_5fd4fd8c02604edbace874eb5dddf74d"
          }
        },
        "8fc03579e6e44318a2d523468b9e2ba8": {
          "model_module": "@jupyter-widgets/controls",
          "model_module_version": "1.5.0",
          "model_name": "HTMLModel",
          "state": {
            "_dom_classes": [],
            "_model_module": "@jupyter-widgets/controls",
            "_model_module_version": "1.5.0",
            "_model_name": "HTMLModel",
            "_view_count": null,
            "_view_module": "@jupyter-widgets/controls",
            "_view_module_version": "1.5.0",
            "_view_name": "HTMLView",
            "description": "",
            "description_tooltip": null,
            "layout": "IPY_MODEL_5cc86221c0a7416e9462dfc78950558d",
            "placeholder": "​",
            "style": "IPY_MODEL_e7dddbb06ccf4134bce6e7085b5ff606",
            "value": "Downloading: 100%"
          }
        },
        "90481f19c5ee4481b88cf2047e7544d5": {
          "model_module": "@jupyter-widgets/controls",
          "model_module_version": "1.5.0",
          "model_name": "HBoxModel",
          "state": {
            "_dom_classes": [],
            "_model_module": "@jupyter-widgets/controls",
            "_model_module_version": "1.5.0",
            "_model_name": "HBoxModel",
            "_view_count": null,
            "_view_module": "@jupyter-widgets/controls",
            "_view_module_version": "1.5.0",
            "_view_name": "HBoxView",
            "box_style": "",
            "children": [
              "IPY_MODEL_60c6754c1a2147fb9fc31e53c16c0989",
              "IPY_MODEL_873d582b9c8142e4aef5f1b3d894a7c3",
              "IPY_MODEL_69fcf835db224fda8e54ec255637e88e"
            ],
            "layout": "IPY_MODEL_2d4a559c00ca4a258472d87b6c40e601"
          }
        },
        "91b2d4e0c8b44bd8acd7dc5b7c44c7f4": {
          "model_module": "@jupyter-widgets/base",
          "model_module_version": "1.2.0",
          "model_name": "LayoutModel",
          "state": {
            "_model_module": "@jupyter-widgets/base",
            "_model_module_version": "1.2.0",
            "_model_name": "LayoutModel",
            "_view_count": null,
            "_view_module": "@jupyter-widgets/base",
            "_view_module_version": "1.2.0",
            "_view_name": "LayoutView",
            "align_content": null,
            "align_items": null,
            "align_self": null,
            "border": null,
            "bottom": null,
            "display": null,
            "flex": null,
            "flex_flow": null,
            "grid_area": null,
            "grid_auto_columns": null,
            "grid_auto_flow": null,
            "grid_auto_rows": null,
            "grid_column": null,
            "grid_gap": null,
            "grid_row": null,
            "grid_template_areas": null,
            "grid_template_columns": null,
            "grid_template_rows": null,
            "height": null,
            "justify_content": null,
            "justify_items": null,
            "left": null,
            "margin": null,
            "max_height": null,
            "max_width": null,
            "min_height": null,
            "min_width": null,
            "object_fit": null,
            "object_position": null,
            "order": null,
            "overflow": null,
            "overflow_x": null,
            "overflow_y": null,
            "padding": null,
            "right": null,
            "top": null,
            "visibility": null,
            "width": null
          }
        },
        "954d6c91cd1e4a02a5349e5f175bfb61": {
          "model_module": "@jupyter-widgets/controls",
          "model_module_version": "1.5.0",
          "model_name": "ProgressStyleModel",
          "state": {
            "_model_module": "@jupyter-widgets/controls",
            "_model_module_version": "1.5.0",
            "_model_name": "ProgressStyleModel",
            "_view_count": null,
            "_view_module": "@jupyter-widgets/base",
            "_view_module_version": "1.2.0",
            "_view_name": "StyleView",
            "bar_color": null,
            "description_width": ""
          }
        },
        "96579446771c47ac8ec0486624f4339d": {
          "model_module": "@jupyter-widgets/controls",
          "model_module_version": "1.5.0",
          "model_name": "DescriptionStyleModel",
          "state": {
            "_model_module": "@jupyter-widgets/controls",
            "_model_module_version": "1.5.0",
            "_model_name": "DescriptionStyleModel",
            "_view_count": null,
            "_view_module": "@jupyter-widgets/base",
            "_view_module_version": "1.2.0",
            "_view_name": "StyleView",
            "description_width": ""
          }
        },
        "977e81bae66a4e57ae9dc6426a271645": {
          "model_module": "@jupyter-widgets/controls",
          "model_module_version": "1.5.0",
          "model_name": "ProgressStyleModel",
          "state": {
            "_model_module": "@jupyter-widgets/controls",
            "_model_module_version": "1.5.0",
            "_model_name": "ProgressStyleModel",
            "_view_count": null,
            "_view_module": "@jupyter-widgets/base",
            "_view_module_version": "1.2.0",
            "_view_name": "StyleView",
            "bar_color": null,
            "description_width": ""
          }
        },
        "97877bb036514455b151b1f2b9ee05b3": {
          "model_module": "@jupyter-widgets/controls",
          "model_module_version": "1.5.0",
          "model_name": "HTMLModel",
          "state": {
            "_dom_classes": [],
            "_model_module": "@jupyter-widgets/controls",
            "_model_module_version": "1.5.0",
            "_model_name": "HTMLModel",
            "_view_count": null,
            "_view_module": "@jupyter-widgets/controls",
            "_view_module_version": "1.5.0",
            "_view_name": "HTMLView",
            "description": "",
            "description_tooltip": null,
            "layout": "IPY_MODEL_5a5824f41552413482ff681877afbe8e",
            "placeholder": "​",
            "style": "IPY_MODEL_cc478aafc45e4ed4891e78cfaac88b1b",
            "value": "Downloading: 100%"
          }
        },
        "9ac544bd566e44b19c7f702f8587435e": {
          "model_module": "@jupyter-widgets/controls",
          "model_module_version": "1.5.0",
          "model_name": "DescriptionStyleModel",
          "state": {
            "_model_module": "@jupyter-widgets/controls",
            "_model_module_version": "1.5.0",
            "_model_name": "DescriptionStyleModel",
            "_view_count": null,
            "_view_module": "@jupyter-widgets/base",
            "_view_module_version": "1.2.0",
            "_view_name": "StyleView",
            "description_width": ""
          }
        },
        "9b73b29e7213499c89e80897d1048424": {
          "model_module": "@jupyter-widgets/controls",
          "model_module_version": "1.5.0",
          "model_name": "HTMLModel",
          "state": {
            "_dom_classes": [],
            "_model_module": "@jupyter-widgets/controls",
            "_model_module_version": "1.5.0",
            "_model_name": "HTMLModel",
            "_view_count": null,
            "_view_module": "@jupyter-widgets/controls",
            "_view_module_version": "1.5.0",
            "_view_name": "HTMLView",
            "description": "",
            "description_tooltip": null,
            "layout": "IPY_MODEL_9e7b4748d7dd49878ee032417fad5336",
            "placeholder": "​",
            "style": "IPY_MODEL_5b9fc6ac1af94fb69fd8342c90d86c09",
            "value": "Downloading: 100%"
          }
        },
        "9bc26e13053f467fa311a3a354ed86c1": {
          "model_module": "@jupyter-widgets/base",
          "model_module_version": "1.2.0",
          "model_name": "LayoutModel",
          "state": {
            "_model_module": "@jupyter-widgets/base",
            "_model_module_version": "1.2.0",
            "_model_name": "LayoutModel",
            "_view_count": null,
            "_view_module": "@jupyter-widgets/base",
            "_view_module_version": "1.2.0",
            "_view_name": "LayoutView",
            "align_content": null,
            "align_items": null,
            "align_self": null,
            "border": null,
            "bottom": null,
            "display": null,
            "flex": null,
            "flex_flow": null,
            "grid_area": null,
            "grid_auto_columns": null,
            "grid_auto_flow": null,
            "grid_auto_rows": null,
            "grid_column": null,
            "grid_gap": null,
            "grid_row": null,
            "grid_template_areas": null,
            "grid_template_columns": null,
            "grid_template_rows": null,
            "height": null,
            "justify_content": null,
            "justify_items": null,
            "left": null,
            "margin": null,
            "max_height": null,
            "max_width": null,
            "min_height": null,
            "min_width": null,
            "object_fit": null,
            "object_position": null,
            "order": null,
            "overflow": null,
            "overflow_x": null,
            "overflow_y": null,
            "padding": null,
            "right": null,
            "top": null,
            "visibility": null,
            "width": null
          }
        },
        "9c4b3d650307464ea99dc908a00ed9b6": {
          "model_module": "@jupyter-widgets/controls",
          "model_module_version": "1.5.0",
          "model_name": "DescriptionStyleModel",
          "state": {
            "_model_module": "@jupyter-widgets/controls",
            "_model_module_version": "1.5.0",
            "_model_name": "DescriptionStyleModel",
            "_view_count": null,
            "_view_module": "@jupyter-widgets/base",
            "_view_module_version": "1.2.0",
            "_view_name": "StyleView",
            "description_width": ""
          }
        },
        "9d3e51a9cf4746798bdbc8a402a134bd": {
          "model_module": "@jupyter-widgets/controls",
          "model_module_version": "1.5.0",
          "model_name": "DescriptionStyleModel",
          "state": {
            "_model_module": "@jupyter-widgets/controls",
            "_model_module_version": "1.5.0",
            "_model_name": "DescriptionStyleModel",
            "_view_count": null,
            "_view_module": "@jupyter-widgets/base",
            "_view_module_version": "1.2.0",
            "_view_name": "StyleView",
            "description_width": ""
          }
        },
        "9e7b4748d7dd49878ee032417fad5336": {
          "model_module": "@jupyter-widgets/base",
          "model_module_version": "1.2.0",
          "model_name": "LayoutModel",
          "state": {
            "_model_module": "@jupyter-widgets/base",
            "_model_module_version": "1.2.0",
            "_model_name": "LayoutModel",
            "_view_count": null,
            "_view_module": "@jupyter-widgets/base",
            "_view_module_version": "1.2.0",
            "_view_name": "LayoutView",
            "align_content": null,
            "align_items": null,
            "align_self": null,
            "border": null,
            "bottom": null,
            "display": null,
            "flex": null,
            "flex_flow": null,
            "grid_area": null,
            "grid_auto_columns": null,
            "grid_auto_flow": null,
            "grid_auto_rows": null,
            "grid_column": null,
            "grid_gap": null,
            "grid_row": null,
            "grid_template_areas": null,
            "grid_template_columns": null,
            "grid_template_rows": null,
            "height": null,
            "justify_content": null,
            "justify_items": null,
            "left": null,
            "margin": null,
            "max_height": null,
            "max_width": null,
            "min_height": null,
            "min_width": null,
            "object_fit": null,
            "object_position": null,
            "order": null,
            "overflow": null,
            "overflow_x": null,
            "overflow_y": null,
            "padding": null,
            "right": null,
            "top": null,
            "visibility": null,
            "width": null
          }
        },
        "a086f3466d364dd6b9c5f6a03e612a68": {
          "model_module": "@jupyter-widgets/controls",
          "model_module_version": "1.5.0",
          "model_name": "HTMLModel",
          "state": {
            "_dom_classes": [],
            "_model_module": "@jupyter-widgets/controls",
            "_model_module_version": "1.5.0",
            "_model_name": "HTMLModel",
            "_view_count": null,
            "_view_module": "@jupyter-widgets/controls",
            "_view_module_version": "1.5.0",
            "_view_name": "HTMLView",
            "description": "",
            "description_tooltip": null,
            "layout": "IPY_MODEL_14ab2b45a9cd4039856089a266a90333",
            "placeholder": "​",
            "style": "IPY_MODEL_fc5a58188cc64897b340085b2237fc57",
            "value": "100%"
          }
        },
        "a0903b01bbf5428a8039eea2455ee177": {
          "model_module": "@jupyter-widgets/controls",
          "model_module_version": "1.5.0",
          "model_name": "HTMLModel",
          "state": {
            "_dom_classes": [],
            "_model_module": "@jupyter-widgets/controls",
            "_model_module_version": "1.5.0",
            "_model_name": "HTMLModel",
            "_view_count": null,
            "_view_module": "@jupyter-widgets/controls",
            "_view_module_version": "1.5.0",
            "_view_name": "HTMLView",
            "description": "",
            "description_tooltip": null,
            "layout": "IPY_MODEL_d504229e5d344435b86dc0734e0f45bf",
            "placeholder": "​",
            "style": "IPY_MODEL_9d3e51a9cf4746798bdbc8a402a134bd",
            "value": " 383/383 [00:00&lt;00:00, 3.28kB/s]"
          }
        },
        "a0c566018e224678ac3b5164ef93bd49": {
          "model_module": "@jupyter-widgets/controls",
          "model_module_version": "1.5.0",
          "model_name": "DescriptionStyleModel",
          "state": {
            "_model_module": "@jupyter-widgets/controls",
            "_model_module_version": "1.5.0",
            "_model_name": "DescriptionStyleModel",
            "_view_count": null,
            "_view_module": "@jupyter-widgets/base",
            "_view_module_version": "1.2.0",
            "_view_name": "StyleView",
            "description_width": ""
          }
        },
        "a169f9be293847608d0fedd294b5ea81": {
          "model_module": "@jupyter-widgets/controls",
          "model_module_version": "1.5.0",
          "model_name": "FloatProgressModel",
          "state": {
            "_dom_classes": [],
            "_model_module": "@jupyter-widgets/controls",
            "_model_module_version": "1.5.0",
            "_model_name": "FloatProgressModel",
            "_view_count": null,
            "_view_module": "@jupyter-widgets/controls",
            "_view_module_version": "1.5.0",
            "_view_name": "ProgressView",
            "bar_style": "success",
            "description": "",
            "description_tooltip": null,
            "layout": "IPY_MODEL_2223cd4628ea49af899104800f3a5480",
            "max": 11268,
            "min": 0,
            "orientation": "horizontal",
            "style": "IPY_MODEL_f18a44929952446e8c15f6c9a1405127",
            "value": 11268
          }
        },
        "a1f81b1d2b83452fb83206ce5818fc22": {
          "model_module": "@jupyter-widgets/controls",
          "model_module_version": "1.5.0",
          "model_name": "HBoxModel",
          "state": {
            "_dom_classes": [],
            "_model_module": "@jupyter-widgets/controls",
            "_model_module_version": "1.5.0",
            "_model_name": "HBoxModel",
            "_view_count": null,
            "_view_module": "@jupyter-widgets/controls",
            "_view_module_version": "1.5.0",
            "_view_name": "HBoxView",
            "box_style": "",
            "children": [
              "IPY_MODEL_31047a917ca54207a4d37ff20db5eb2f",
              "IPY_MODEL_e1eee161c3c44c32a89411aa2d75e571",
              "IPY_MODEL_b3659f4035a2485f87c5dd2d58f07ae5"
            ],
            "layout": "IPY_MODEL_150798ee3746443da2dfdb6b4fa8b9b6"
          }
        },
        "a30db3cedb35443ead7198345906961c": {
          "model_module": "@jupyter-widgets/base",
          "model_module_version": "1.2.0",
          "model_name": "LayoutModel",
          "state": {
            "_model_module": "@jupyter-widgets/base",
            "_model_module_version": "1.2.0",
            "_model_name": "LayoutModel",
            "_view_count": null,
            "_view_module": "@jupyter-widgets/base",
            "_view_module_version": "1.2.0",
            "_view_name": "LayoutView",
            "align_content": null,
            "align_items": null,
            "align_self": null,
            "border": null,
            "bottom": null,
            "display": null,
            "flex": null,
            "flex_flow": null,
            "grid_area": null,
            "grid_auto_columns": null,
            "grid_auto_flow": null,
            "grid_auto_rows": null,
            "grid_column": null,
            "grid_gap": null,
            "grid_row": null,
            "grid_template_areas": null,
            "grid_template_columns": null,
            "grid_template_rows": null,
            "height": null,
            "justify_content": null,
            "justify_items": null,
            "left": null,
            "margin": null,
            "max_height": null,
            "max_width": null,
            "min_height": null,
            "min_width": null,
            "object_fit": null,
            "object_position": null,
            "order": null,
            "overflow": null,
            "overflow_x": null,
            "overflow_y": null,
            "padding": null,
            "right": null,
            "top": null,
            "visibility": null,
            "width": null
          }
        },
        "a4535eb9d069441a935275998f3b4b16": {
          "model_module": "@jupyter-widgets/base",
          "model_module_version": "1.2.0",
          "model_name": "LayoutModel",
          "state": {
            "_model_module": "@jupyter-widgets/base",
            "_model_module_version": "1.2.0",
            "_model_name": "LayoutModel",
            "_view_count": null,
            "_view_module": "@jupyter-widgets/base",
            "_view_module_version": "1.2.0",
            "_view_name": "LayoutView",
            "align_content": null,
            "align_items": null,
            "align_self": null,
            "border": null,
            "bottom": null,
            "display": null,
            "flex": null,
            "flex_flow": null,
            "grid_area": null,
            "grid_auto_columns": null,
            "grid_auto_flow": null,
            "grid_auto_rows": null,
            "grid_column": null,
            "grid_gap": null,
            "grid_row": null,
            "grid_template_areas": null,
            "grid_template_columns": null,
            "grid_template_rows": null,
            "height": null,
            "justify_content": null,
            "justify_items": null,
            "left": null,
            "margin": null,
            "max_height": null,
            "max_width": null,
            "min_height": null,
            "min_width": null,
            "object_fit": null,
            "object_position": null,
            "order": null,
            "overflow": null,
            "overflow_x": null,
            "overflow_y": null,
            "padding": null,
            "right": null,
            "top": null,
            "visibility": null,
            "width": null
          }
        },
        "a45efe73153c45c2a02bd6915846e6e7": {
          "model_module": "@jupyter-widgets/base",
          "model_module_version": "1.2.0",
          "model_name": "LayoutModel",
          "state": {
            "_model_module": "@jupyter-widgets/base",
            "_model_module_version": "1.2.0",
            "_model_name": "LayoutModel",
            "_view_count": null,
            "_view_module": "@jupyter-widgets/base",
            "_view_module_version": "1.2.0",
            "_view_name": "LayoutView",
            "align_content": null,
            "align_items": null,
            "align_self": null,
            "border": null,
            "bottom": null,
            "display": null,
            "flex": null,
            "flex_flow": null,
            "grid_area": null,
            "grid_auto_columns": null,
            "grid_auto_flow": null,
            "grid_auto_rows": null,
            "grid_column": null,
            "grid_gap": null,
            "grid_row": null,
            "grid_template_areas": null,
            "grid_template_columns": null,
            "grid_template_rows": null,
            "height": null,
            "justify_content": null,
            "justify_items": null,
            "left": null,
            "margin": null,
            "max_height": null,
            "max_width": null,
            "min_height": null,
            "min_width": null,
            "object_fit": null,
            "object_position": null,
            "order": null,
            "overflow": null,
            "overflow_x": null,
            "overflow_y": null,
            "padding": null,
            "right": null,
            "top": null,
            "visibility": null,
            "width": null
          }
        },
        "a4ae990bb1a94e5fbab44aae32e67c45": {
          "model_module": "@jupyter-widgets/controls",
          "model_module_version": "1.5.0",
          "model_name": "HTMLModel",
          "state": {
            "_dom_classes": [],
            "_model_module": "@jupyter-widgets/controls",
            "_model_module_version": "1.5.0",
            "_model_name": "HTMLModel",
            "_view_count": null,
            "_view_module": "@jupyter-widgets/controls",
            "_view_module_version": "1.5.0",
            "_view_name": "HTMLView",
            "description": "",
            "description_tooltip": null,
            "layout": "IPY_MODEL_d344203aa135485b880b3e3a169200a1",
            "placeholder": "​",
            "style": "IPY_MODEL_85419e353e6546b6b5e222b40f682a98",
            "value": "Downloading: 100%"
          }
        },
        "a5289e211b974803a165c19016ac7f75": {
          "model_module": "@jupyter-widgets/controls",
          "model_module_version": "1.5.0",
          "model_name": "FloatProgressModel",
          "state": {
            "_dom_classes": [],
            "_model_module": "@jupyter-widgets/controls",
            "_model_module_version": "1.5.0",
            "_model_name": "FloatProgressModel",
            "_view_count": null,
            "_view_module": "@jupyter-widgets/controls",
            "_view_module_version": "1.5.0",
            "_view_name": "ProgressView",
            "bar_style": "success",
            "description": "",
            "description_tooltip": null,
            "layout": "IPY_MODEL_76e0381f3485487a974db4ac0bc9f483",
            "max": 794,
            "min": 0,
            "orientation": "horizontal",
            "style": "IPY_MODEL_d1e35e71ac554274bb3a2b9c139580fb",
            "value": 794
          }
        },
        "a6d425d02239471782ffc123322bf968": {
          "model_module": "@jupyter-widgets/base",
          "model_module_version": "1.2.0",
          "model_name": "LayoutModel",
          "state": {
            "_model_module": "@jupyter-widgets/base",
            "_model_module_version": "1.2.0",
            "_model_name": "LayoutModel",
            "_view_count": null,
            "_view_module": "@jupyter-widgets/base",
            "_view_module_version": "1.2.0",
            "_view_name": "LayoutView",
            "align_content": null,
            "align_items": null,
            "align_self": null,
            "border": null,
            "bottom": null,
            "display": null,
            "flex": null,
            "flex_flow": null,
            "grid_area": null,
            "grid_auto_columns": null,
            "grid_auto_flow": null,
            "grid_auto_rows": null,
            "grid_column": null,
            "grid_gap": null,
            "grid_row": null,
            "grid_template_areas": null,
            "grid_template_columns": null,
            "grid_template_rows": null,
            "height": null,
            "justify_content": null,
            "justify_items": null,
            "left": null,
            "margin": null,
            "max_height": null,
            "max_width": null,
            "min_height": null,
            "min_width": null,
            "object_fit": null,
            "object_position": null,
            "order": null,
            "overflow": null,
            "overflow_x": null,
            "overflow_y": null,
            "padding": null,
            "right": null,
            "top": null,
            "visibility": null,
            "width": null
          }
        },
        "a7e6ff0d9f6e48f6a6193de801ce3478": {
          "model_module": "@jupyter-widgets/base",
          "model_module_version": "1.2.0",
          "model_name": "LayoutModel",
          "state": {
            "_model_module": "@jupyter-widgets/base",
            "_model_module_version": "1.2.0",
            "_model_name": "LayoutModel",
            "_view_count": null,
            "_view_module": "@jupyter-widgets/base",
            "_view_module_version": "1.2.0",
            "_view_name": "LayoutView",
            "align_content": null,
            "align_items": null,
            "align_self": null,
            "border": null,
            "bottom": null,
            "display": null,
            "flex": null,
            "flex_flow": null,
            "grid_area": null,
            "grid_auto_columns": null,
            "grid_auto_flow": null,
            "grid_auto_rows": null,
            "grid_column": null,
            "grid_gap": null,
            "grid_row": null,
            "grid_template_areas": null,
            "grid_template_columns": null,
            "grid_template_rows": null,
            "height": null,
            "justify_content": null,
            "justify_items": null,
            "left": null,
            "margin": null,
            "max_height": null,
            "max_width": null,
            "min_height": null,
            "min_width": null,
            "object_fit": null,
            "object_position": null,
            "order": null,
            "overflow": null,
            "overflow_x": null,
            "overflow_y": null,
            "padding": null,
            "right": null,
            "top": null,
            "visibility": null,
            "width": null
          }
        },
        "a89bf647928047149bde24a5216bf027": {
          "model_module": "@jupyter-widgets/controls",
          "model_module_version": "1.5.0",
          "model_name": "HTMLModel",
          "state": {
            "_dom_classes": [],
            "_model_module": "@jupyter-widgets/controls",
            "_model_module_version": "1.5.0",
            "_model_name": "HTMLModel",
            "_view_count": null,
            "_view_module": "@jupyter-widgets/controls",
            "_view_module_version": "1.5.0",
            "_view_name": "HTMLView",
            "description": "",
            "description_tooltip": null,
            "layout": "IPY_MODEL_e4d8efa9d4fc48ccb88d74d0f2940b1e",
            "placeholder": "​",
            "style": "IPY_MODEL_f6a674da43df49f78d7347d5fbd00b88",
            "value": " 11.3k/11.3k [00:00&lt;00:00, 236kB/s]"
          }
        },
        "a8a28ad124c64bf8a77be33a6531dd6e": {
          "model_module": "@jupyter-widgets/base",
          "model_module_version": "1.2.0",
          "model_name": "LayoutModel",
          "state": {
            "_model_module": "@jupyter-widgets/base",
            "_model_module_version": "1.2.0",
            "_model_name": "LayoutModel",
            "_view_count": null,
            "_view_module": "@jupyter-widgets/base",
            "_view_module_version": "1.2.0",
            "_view_name": "LayoutView",
            "align_content": null,
            "align_items": null,
            "align_self": null,
            "border": null,
            "bottom": null,
            "display": null,
            "flex": null,
            "flex_flow": null,
            "grid_area": null,
            "grid_auto_columns": null,
            "grid_auto_flow": null,
            "grid_auto_rows": null,
            "grid_column": null,
            "grid_gap": null,
            "grid_row": null,
            "grid_template_areas": null,
            "grid_template_columns": null,
            "grid_template_rows": null,
            "height": null,
            "justify_content": null,
            "justify_items": null,
            "left": null,
            "margin": null,
            "max_height": null,
            "max_width": null,
            "min_height": null,
            "min_width": null,
            "object_fit": null,
            "object_position": null,
            "order": null,
            "overflow": null,
            "overflow_x": null,
            "overflow_y": null,
            "padding": null,
            "right": null,
            "top": null,
            "visibility": null,
            "width": null
          }
        },
        "a8e5914b6b8540649285536a5d550f34": {
          "model_module": "@jupyter-widgets/controls",
          "model_module_version": "1.5.0",
          "model_name": "ProgressStyleModel",
          "state": {
            "_model_module": "@jupyter-widgets/controls",
            "_model_module_version": "1.5.0",
            "_model_name": "ProgressStyleModel",
            "_view_count": null,
            "_view_module": "@jupyter-widgets/base",
            "_view_module_version": "1.2.0",
            "_view_name": "StyleView",
            "bar_color": null,
            "description_width": ""
          }
        },
        "a96a29560b524087ad42bd6eca480423": {
          "model_module": "@jupyter-widgets/controls",
          "model_module_version": "1.5.0",
          "model_name": "HTMLModel",
          "state": {
            "_dom_classes": [],
            "_model_module": "@jupyter-widgets/controls",
            "_model_module_version": "1.5.0",
            "_model_name": "HTMLModel",
            "_view_count": null,
            "_view_module": "@jupyter-widgets/controls",
            "_view_module_version": "1.5.0",
            "_view_name": "HTMLView",
            "description": "",
            "description_tooltip": null,
            "layout": "IPY_MODEL_1104edfc25f74d408b3329f75e8cd912",
            "placeholder": "​",
            "style": "IPY_MODEL_e2eed718132b4da6ac3f733624edf3db",
            "value": " 53.0/53.0 [00:00&lt;00:00, 1.08kB/s]"
          }
        },
        "aa86d91b133f456babf93f104cbd7333": {
          "model_module": "@jupyter-widgets/base",
          "model_module_version": "1.2.0",
          "model_name": "LayoutModel",
          "state": {
            "_model_module": "@jupyter-widgets/base",
            "_model_module_version": "1.2.0",
            "_model_name": "LayoutModel",
            "_view_count": null,
            "_view_module": "@jupyter-widgets/base",
            "_view_module_version": "1.2.0",
            "_view_name": "LayoutView",
            "align_content": null,
            "align_items": null,
            "align_self": null,
            "border": null,
            "bottom": null,
            "display": null,
            "flex": null,
            "flex_flow": null,
            "grid_area": null,
            "grid_auto_columns": null,
            "grid_auto_flow": null,
            "grid_auto_rows": null,
            "grid_column": null,
            "grid_gap": null,
            "grid_row": null,
            "grid_template_areas": null,
            "grid_template_columns": null,
            "grid_template_rows": null,
            "height": null,
            "justify_content": null,
            "justify_items": null,
            "left": null,
            "margin": null,
            "max_height": null,
            "max_width": null,
            "min_height": null,
            "min_width": null,
            "object_fit": null,
            "object_position": null,
            "order": null,
            "overflow": null,
            "overflow_x": null,
            "overflow_y": null,
            "padding": null,
            "right": null,
            "top": null,
            "visibility": null,
            "width": null
          }
        },
        "ad332488dc7b48eb8954d3687d45d8ef": {
          "model_module": "@jupyter-widgets/base",
          "model_module_version": "1.2.0",
          "model_name": "LayoutModel",
          "state": {
            "_model_module": "@jupyter-widgets/base",
            "_model_module_version": "1.2.0",
            "_model_name": "LayoutModel",
            "_view_count": null,
            "_view_module": "@jupyter-widgets/base",
            "_view_module_version": "1.2.0",
            "_view_name": "LayoutView",
            "align_content": null,
            "align_items": null,
            "align_self": null,
            "border": null,
            "bottom": null,
            "display": null,
            "flex": null,
            "flex_flow": null,
            "grid_area": null,
            "grid_auto_columns": null,
            "grid_auto_flow": null,
            "grid_auto_rows": null,
            "grid_column": null,
            "grid_gap": null,
            "grid_row": null,
            "grid_template_areas": null,
            "grid_template_columns": null,
            "grid_template_rows": null,
            "height": null,
            "justify_content": null,
            "justify_items": null,
            "left": null,
            "margin": null,
            "max_height": null,
            "max_width": null,
            "min_height": null,
            "min_width": null,
            "object_fit": null,
            "object_position": null,
            "order": null,
            "overflow": null,
            "overflow_x": null,
            "overflow_y": null,
            "padding": null,
            "right": null,
            "top": null,
            "visibility": null,
            "width": null
          }
        },
        "ad434eaf1774411ca2cf96c6cb65ff14": {
          "model_module": "@jupyter-widgets/controls",
          "model_module_version": "1.5.0",
          "model_name": "DescriptionStyleModel",
          "state": {
            "_model_module": "@jupyter-widgets/controls",
            "_model_module_version": "1.5.0",
            "_model_name": "DescriptionStyleModel",
            "_view_count": null,
            "_view_module": "@jupyter-widgets/base",
            "_view_module_version": "1.2.0",
            "_view_name": "StyleView",
            "description_width": ""
          }
        },
        "ae092d38e44046a6801214dde930032f": {
          "model_module": "@jupyter-widgets/base",
          "model_module_version": "1.2.0",
          "model_name": "LayoutModel",
          "state": {
            "_model_module": "@jupyter-widgets/base",
            "_model_module_version": "1.2.0",
            "_model_name": "LayoutModel",
            "_view_count": null,
            "_view_module": "@jupyter-widgets/base",
            "_view_module_version": "1.2.0",
            "_view_name": "LayoutView",
            "align_content": null,
            "align_items": null,
            "align_self": null,
            "border": null,
            "bottom": null,
            "display": null,
            "flex": null,
            "flex_flow": null,
            "grid_area": null,
            "grid_auto_columns": null,
            "grid_auto_flow": null,
            "grid_auto_rows": null,
            "grid_column": null,
            "grid_gap": null,
            "grid_row": null,
            "grid_template_areas": null,
            "grid_template_columns": null,
            "grid_template_rows": null,
            "height": null,
            "justify_content": null,
            "justify_items": null,
            "left": null,
            "margin": null,
            "max_height": null,
            "max_width": null,
            "min_height": null,
            "min_width": null,
            "object_fit": null,
            "object_position": null,
            "order": null,
            "overflow": null,
            "overflow_x": null,
            "overflow_y": null,
            "padding": null,
            "right": null,
            "top": null,
            "visibility": null,
            "width": null
          }
        },
        "af863d1a0a9540fda81d05adcdf27dbc": {
          "model_module": "@jupyter-widgets/controls",
          "model_module_version": "1.5.0",
          "model_name": "DescriptionStyleModel",
          "state": {
            "_model_module": "@jupyter-widgets/controls",
            "_model_module_version": "1.5.0",
            "_model_name": "DescriptionStyleModel",
            "_view_count": null,
            "_view_module": "@jupyter-widgets/base",
            "_view_module_version": "1.2.0",
            "_view_name": "StyleView",
            "description_width": ""
          }
        },
        "b0bb92c680904d289049dc276d6d5805": {
          "model_module": "@jupyter-widgets/controls",
          "model_module_version": "1.5.0",
          "model_name": "HTMLModel",
          "state": {
            "_dom_classes": [],
            "_model_module": "@jupyter-widgets/controls",
            "_model_module_version": "1.5.0",
            "_model_name": "HTMLModel",
            "_view_count": null,
            "_view_module": "@jupyter-widgets/controls",
            "_view_module_version": "1.5.0",
            "_view_name": "HTMLView",
            "description": "",
            "description_tooltip": null,
            "layout": "IPY_MODEL_77ebac9695be42d6a98a2bb1022e652d",
            "placeholder": "​",
            "style": "IPY_MODEL_bc8dedcb13f748cf825d2326679da824",
            "value": "Downloading: 100%"
          }
        },
        "b122dc7205b6471f8ffa862840514566": {
          "model_module": "@jupyter-widgets/controls",
          "model_module_version": "1.5.0",
          "model_name": "HTMLModel",
          "state": {
            "_dom_classes": [],
            "_model_module": "@jupyter-widgets/controls",
            "_model_module_version": "1.5.0",
            "_model_name": "HTMLModel",
            "_view_count": null,
            "_view_module": "@jupyter-widgets/controls",
            "_view_module_version": "1.5.0",
            "_view_name": "HTMLView",
            "description": "",
            "description_tooltip": null,
            "layout": "IPY_MODEL_8215b8c468524daab3e5f776f12169f6",
            "placeholder": "​",
            "style": "IPY_MODEL_9ac544bd566e44b19c7f702f8587435e",
            "value": " 794/794 [00:00&lt;00:00, 4.23kB/s]"
          }
        },
        "b139001f4e874e67ac497d86959eeb04": {
          "model_module": "@jupyter-widgets/base",
          "model_module_version": "1.2.0",
          "model_name": "LayoutModel",
          "state": {
            "_model_module": "@jupyter-widgets/base",
            "_model_module_version": "1.2.0",
            "_model_name": "LayoutModel",
            "_view_count": null,
            "_view_module": "@jupyter-widgets/base",
            "_view_module_version": "1.2.0",
            "_view_name": "LayoutView",
            "align_content": null,
            "align_items": null,
            "align_self": null,
            "border": null,
            "bottom": null,
            "display": null,
            "flex": null,
            "flex_flow": null,
            "grid_area": null,
            "grid_auto_columns": null,
            "grid_auto_flow": null,
            "grid_auto_rows": null,
            "grid_column": null,
            "grid_gap": null,
            "grid_row": null,
            "grid_template_areas": null,
            "grid_template_columns": null,
            "grid_template_rows": null,
            "height": null,
            "justify_content": null,
            "justify_items": null,
            "left": null,
            "margin": null,
            "max_height": null,
            "max_width": null,
            "min_height": null,
            "min_width": null,
            "object_fit": null,
            "object_position": null,
            "order": null,
            "overflow": null,
            "overflow_x": null,
            "overflow_y": null,
            "padding": null,
            "right": null,
            "top": null,
            "visibility": null,
            "width": null
          }
        },
        "b3659f4035a2485f87c5dd2d58f07ae5": {
          "model_module": "@jupyter-widgets/controls",
          "model_module_version": "1.5.0",
          "model_name": "HTMLModel",
          "state": {
            "_dom_classes": [],
            "_model_module": "@jupyter-widgets/controls",
            "_model_module_version": "1.5.0",
            "_model_name": "HTMLModel",
            "_view_count": null,
            "_view_module": "@jupyter-widgets/controls",
            "_view_module_version": "1.5.0",
            "_view_name": "HTMLView",
            "description": "",
            "description_tooltip": null,
            "layout": "IPY_MODEL_e00f5aa4a7264d07a349f5513c70a0d3",
            "placeholder": "​",
            "style": "IPY_MODEL_49c8e7582e734c02abcb998a878c7208",
            "value": " 112/112 [00:00&lt;00:00, 761B/s]"
          }
        },
        "b3a13385447f49b2aa3e87cea86c8309": {
          "model_module": "@jupyter-widgets/base",
          "model_module_version": "1.2.0",
          "model_name": "LayoutModel",
          "state": {
            "_model_module": "@jupyter-widgets/base",
            "_model_module_version": "1.2.0",
            "_model_name": "LayoutModel",
            "_view_count": null,
            "_view_module": "@jupyter-widgets/base",
            "_view_module_version": "1.2.0",
            "_view_name": "LayoutView",
            "align_content": null,
            "align_items": null,
            "align_self": null,
            "border": null,
            "bottom": null,
            "display": null,
            "flex": null,
            "flex_flow": null,
            "grid_area": null,
            "grid_auto_columns": null,
            "grid_auto_flow": null,
            "grid_auto_rows": null,
            "grid_column": null,
            "grid_gap": null,
            "grid_row": null,
            "grid_template_areas": null,
            "grid_template_columns": null,
            "grid_template_rows": null,
            "height": null,
            "justify_content": null,
            "justify_items": null,
            "left": null,
            "margin": null,
            "max_height": null,
            "max_width": null,
            "min_height": null,
            "min_width": null,
            "object_fit": null,
            "object_position": null,
            "order": null,
            "overflow": null,
            "overflow_x": null,
            "overflow_y": null,
            "padding": null,
            "right": null,
            "top": null,
            "visibility": null,
            "width": null
          }
        },
        "b467c81a3bc24979b176d13a05cbf585": {
          "model_module": "@jupyter-widgets/controls",
          "model_module_version": "1.5.0",
          "model_name": "ProgressStyleModel",
          "state": {
            "_model_module": "@jupyter-widgets/controls",
            "_model_module_version": "1.5.0",
            "_model_name": "ProgressStyleModel",
            "_view_count": null,
            "_view_module": "@jupyter-widgets/base",
            "_view_module_version": "1.2.0",
            "_view_name": "StyleView",
            "bar_color": null,
            "description_width": ""
          }
        },
        "b4f1db72c5464d67a287414c91da786d": {
          "model_module": "@jupyter-widgets/controls",
          "model_module_version": "1.5.0",
          "model_name": "ProgressStyleModel",
          "state": {
            "_model_module": "@jupyter-widgets/controls",
            "_model_module_version": "1.5.0",
            "_model_name": "ProgressStyleModel",
            "_view_count": null,
            "_view_module": "@jupyter-widgets/base",
            "_view_module_version": "1.2.0",
            "_view_name": "StyleView",
            "bar_color": null,
            "description_width": ""
          }
        },
        "b6251a33b9ca43e38fe98eb4fa3e1f32": {
          "model_module": "@jupyter-widgets/controls",
          "model_module_version": "1.5.0",
          "model_name": "HBoxModel",
          "state": {
            "_dom_classes": [],
            "_model_module": "@jupyter-widgets/controls",
            "_model_module_version": "1.5.0",
            "_model_name": "HBoxModel",
            "_view_count": null,
            "_view_module": "@jupyter-widgets/controls",
            "_view_module_version": "1.5.0",
            "_view_name": "HBoxView",
            "box_style": "",
            "children": [
              "IPY_MODEL_97877bb036514455b151b1f2b9ee05b3",
              "IPY_MODEL_a5289e211b974803a165c19016ac7f75",
              "IPY_MODEL_b122dc7205b6471f8ffa862840514566"
            ],
            "layout": "IPY_MODEL_a6d425d02239471782ffc123322bf968"
          }
        },
        "b6e5b1ec3f944df5ae9ec1963480b36a": {
          "model_module": "@jupyter-widgets/controls",
          "model_module_version": "1.5.0",
          "model_name": "DescriptionStyleModel",
          "state": {
            "_model_module": "@jupyter-widgets/controls",
            "_model_module_version": "1.5.0",
            "_model_name": "DescriptionStyleModel",
            "_view_count": null,
            "_view_module": "@jupyter-widgets/base",
            "_view_module_version": "1.2.0",
            "_view_name": "StyleView",
            "description_width": ""
          }
        },
        "b86e478b704244e2a7e56ddbd7928ebc": {
          "model_module": "@jupyter-widgets/controls",
          "model_module_version": "1.5.0",
          "model_name": "ProgressStyleModel",
          "state": {
            "_model_module": "@jupyter-widgets/controls",
            "_model_module_version": "1.5.0",
            "_model_name": "ProgressStyleModel",
            "_view_count": null,
            "_view_module": "@jupyter-widgets/base",
            "_view_module_version": "1.2.0",
            "_view_name": "StyleView",
            "bar_color": null,
            "description_width": ""
          }
        },
        "ba0ba9c32ca04b1db1f5e52ce11675d6": {
          "model_module": "@jupyter-widgets/controls",
          "model_module_version": "1.5.0",
          "model_name": "DescriptionStyleModel",
          "state": {
            "_model_module": "@jupyter-widgets/controls",
            "_model_module_version": "1.5.0",
            "_model_name": "DescriptionStyleModel",
            "_view_count": null,
            "_view_module": "@jupyter-widgets/base",
            "_view_module_version": "1.2.0",
            "_view_name": "StyleView",
            "description_width": ""
          }
        },
        "bb562b96128d4b8fa41b1fd95d356f5b": {
          "model_module": "@jupyter-widgets/base",
          "model_module_version": "1.2.0",
          "model_name": "LayoutModel",
          "state": {
            "_model_module": "@jupyter-widgets/base",
            "_model_module_version": "1.2.0",
            "_model_name": "LayoutModel",
            "_view_count": null,
            "_view_module": "@jupyter-widgets/base",
            "_view_module_version": "1.2.0",
            "_view_name": "LayoutView",
            "align_content": null,
            "align_items": null,
            "align_self": null,
            "border": null,
            "bottom": null,
            "display": null,
            "flex": null,
            "flex_flow": null,
            "grid_area": null,
            "grid_auto_columns": null,
            "grid_auto_flow": null,
            "grid_auto_rows": null,
            "grid_column": null,
            "grid_gap": null,
            "grid_row": null,
            "grid_template_areas": null,
            "grid_template_columns": null,
            "grid_template_rows": null,
            "height": null,
            "justify_content": null,
            "justify_items": null,
            "left": null,
            "margin": null,
            "max_height": null,
            "max_width": null,
            "min_height": null,
            "min_width": null,
            "object_fit": null,
            "object_position": null,
            "order": null,
            "overflow": null,
            "overflow_x": null,
            "overflow_y": null,
            "padding": null,
            "right": null,
            "top": null,
            "visibility": null,
            "width": null
          }
        },
        "bc8dedcb13f748cf825d2326679da824": {
          "model_module": "@jupyter-widgets/controls",
          "model_module_version": "1.5.0",
          "model_name": "DescriptionStyleModel",
          "state": {
            "_model_module": "@jupyter-widgets/controls",
            "_model_module_version": "1.5.0",
            "_model_name": "DescriptionStyleModel",
            "_view_count": null,
            "_view_module": "@jupyter-widgets/base",
            "_view_module_version": "1.2.0",
            "_view_name": "StyleView",
            "description_width": ""
          }
        },
        "bce46d8a3b0e4a97a9d687b7fdb5a00e": {
          "model_module": "@jupyter-widgets/base",
          "model_module_version": "1.2.0",
          "model_name": "LayoutModel",
          "state": {
            "_model_module": "@jupyter-widgets/base",
            "_model_module_version": "1.2.0",
            "_model_name": "LayoutModel",
            "_view_count": null,
            "_view_module": "@jupyter-widgets/base",
            "_view_module_version": "1.2.0",
            "_view_name": "LayoutView",
            "align_content": null,
            "align_items": null,
            "align_self": null,
            "border": null,
            "bottom": null,
            "display": null,
            "flex": null,
            "flex_flow": null,
            "grid_area": null,
            "grid_auto_columns": null,
            "grid_auto_flow": null,
            "grid_auto_rows": null,
            "grid_column": null,
            "grid_gap": null,
            "grid_row": null,
            "grid_template_areas": null,
            "grid_template_columns": null,
            "grid_template_rows": null,
            "height": null,
            "justify_content": null,
            "justify_items": null,
            "left": null,
            "margin": null,
            "max_height": null,
            "max_width": null,
            "min_height": null,
            "min_width": null,
            "object_fit": null,
            "object_position": null,
            "order": null,
            "overflow": null,
            "overflow_x": null,
            "overflow_y": null,
            "padding": null,
            "right": null,
            "top": null,
            "visibility": null,
            "width": null
          }
        },
        "c004634d73eb4abf93350d765aab0143": {
          "model_module": "@jupyter-widgets/controls",
          "model_module_version": "1.5.0",
          "model_name": "HTMLModel",
          "state": {
            "_dom_classes": [],
            "_model_module": "@jupyter-widgets/controls",
            "_model_module_version": "1.5.0",
            "_model_name": "HTMLModel",
            "_view_count": null,
            "_view_module": "@jupyter-widgets/controls",
            "_view_module_version": "1.5.0",
            "_view_name": "HTMLView",
            "description": "",
            "description_tooltip": null,
            "layout": "IPY_MODEL_f15be36101b542f4969a1030870adbc6",
            "placeholder": "​",
            "style": "IPY_MODEL_fbcac693b27a478795bd53c5085fe4f8",
            "value": " 612/612 [00:00&lt;00:00, 10.8kB/s]"
          }
        },
        "c0ae9227c7b948fe91cf42de9c3cde8e": {
          "model_module": "@jupyter-widgets/base",
          "model_module_version": "1.2.0",
          "model_name": "LayoutModel",
          "state": {
            "_model_module": "@jupyter-widgets/base",
            "_model_module_version": "1.2.0",
            "_model_name": "LayoutModel",
            "_view_count": null,
            "_view_module": "@jupyter-widgets/base",
            "_view_module_version": "1.2.0",
            "_view_name": "LayoutView",
            "align_content": null,
            "align_items": null,
            "align_self": null,
            "border": null,
            "bottom": null,
            "display": null,
            "flex": null,
            "flex_flow": null,
            "grid_area": null,
            "grid_auto_columns": null,
            "grid_auto_flow": null,
            "grid_auto_rows": null,
            "grid_column": null,
            "grid_gap": null,
            "grid_row": null,
            "grid_template_areas": null,
            "grid_template_columns": null,
            "grid_template_rows": null,
            "height": null,
            "justify_content": null,
            "justify_items": null,
            "left": null,
            "margin": null,
            "max_height": null,
            "max_width": null,
            "min_height": null,
            "min_width": null,
            "object_fit": null,
            "object_position": null,
            "order": null,
            "overflow": null,
            "overflow_x": null,
            "overflow_y": null,
            "padding": null,
            "right": null,
            "top": null,
            "visibility": null,
            "width": null
          }
        },
        "c165fb32049c45a5b992971b79af36f5": {
          "model_module": "@jupyter-widgets/controls",
          "model_module_version": "1.5.0",
          "model_name": "ProgressStyleModel",
          "state": {
            "_model_module": "@jupyter-widgets/controls",
            "_model_module_version": "1.5.0",
            "_model_name": "ProgressStyleModel",
            "_view_count": null,
            "_view_module": "@jupyter-widgets/base",
            "_view_module_version": "1.2.0",
            "_view_name": "StyleView",
            "bar_color": null,
            "description_width": ""
          }
        },
        "c1a19971f2b447bf8952db59aed1eefe": {
          "model_module": "@jupyter-widgets/controls",
          "model_module_version": "1.5.0",
          "model_name": "DescriptionStyleModel",
          "state": {
            "_model_module": "@jupyter-widgets/controls",
            "_model_module_version": "1.5.0",
            "_model_name": "DescriptionStyleModel",
            "_view_count": null,
            "_view_module": "@jupyter-widgets/base",
            "_view_module_version": "1.2.0",
            "_view_name": "StyleView",
            "description_width": ""
          }
        },
        "c1f533e66ed94e989bf78137cd1f9429": {
          "model_module": "@jupyter-widgets/base",
          "model_module_version": "1.2.0",
          "model_name": "LayoutModel",
          "state": {
            "_model_module": "@jupyter-widgets/base",
            "_model_module_version": "1.2.0",
            "_model_name": "LayoutModel",
            "_view_count": null,
            "_view_module": "@jupyter-widgets/base",
            "_view_module_version": "1.2.0",
            "_view_name": "LayoutView",
            "align_content": null,
            "align_items": null,
            "align_self": null,
            "border": null,
            "bottom": null,
            "display": null,
            "flex": null,
            "flex_flow": null,
            "grid_area": null,
            "grid_auto_columns": null,
            "grid_auto_flow": null,
            "grid_auto_rows": null,
            "grid_column": null,
            "grid_gap": null,
            "grid_row": null,
            "grid_template_areas": null,
            "grid_template_columns": null,
            "grid_template_rows": null,
            "height": null,
            "justify_content": null,
            "justify_items": null,
            "left": null,
            "margin": null,
            "max_height": null,
            "max_width": null,
            "min_height": null,
            "min_width": null,
            "object_fit": null,
            "object_position": null,
            "order": null,
            "overflow": null,
            "overflow_x": null,
            "overflow_y": null,
            "padding": null,
            "right": null,
            "top": null,
            "visibility": null,
            "width": null
          }
        },
        "c209fbbc4b6f49dfafc8c3fee5e0cb4d": {
          "model_module": "@jupyter-widgets/controls",
          "model_module_version": "1.5.0",
          "model_name": "DescriptionStyleModel",
          "state": {
            "_model_module": "@jupyter-widgets/controls",
            "_model_module_version": "1.5.0",
            "_model_name": "DescriptionStyleModel",
            "_view_count": null,
            "_view_module": "@jupyter-widgets/base",
            "_view_module_version": "1.2.0",
            "_view_name": "StyleView",
            "description_width": ""
          }
        },
        "c36c7095e39e41da97f24c7290851be0": {
          "model_module": "@jupyter-widgets/controls",
          "model_module_version": "1.5.0",
          "model_name": "HTMLModel",
          "state": {
            "_dom_classes": [],
            "_model_module": "@jupyter-widgets/controls",
            "_model_module_version": "1.5.0",
            "_model_name": "HTMLModel",
            "_view_count": null,
            "_view_module": "@jupyter-widgets/controls",
            "_view_module_version": "1.5.0",
            "_view_name": "HTMLView",
            "description": "",
            "description_tooltip": null,
            "layout": "IPY_MODEL_a4535eb9d069441a935275998f3b4b16",
            "placeholder": "​",
            "style": "IPY_MODEL_ddaba011212e452092a3051ca71cf991",
            "value": "Downloading: 100%"
          }
        },
        "c6e60f37c4064e098d61f2e78223a54f": {
          "model_module": "@jupyter-widgets/base",
          "model_module_version": "1.2.0",
          "model_name": "LayoutModel",
          "state": {
            "_model_module": "@jupyter-widgets/base",
            "_model_module_version": "1.2.0",
            "_model_name": "LayoutModel",
            "_view_count": null,
            "_view_module": "@jupyter-widgets/base",
            "_view_module_version": "1.2.0",
            "_view_name": "LayoutView",
            "align_content": null,
            "align_items": null,
            "align_self": null,
            "border": null,
            "bottom": null,
            "display": null,
            "flex": null,
            "flex_flow": null,
            "grid_area": null,
            "grid_auto_columns": null,
            "grid_auto_flow": null,
            "grid_auto_rows": null,
            "grid_column": null,
            "grid_gap": null,
            "grid_row": null,
            "grid_template_areas": null,
            "grid_template_columns": null,
            "grid_template_rows": null,
            "height": null,
            "justify_content": null,
            "justify_items": null,
            "left": null,
            "margin": null,
            "max_height": null,
            "max_width": null,
            "min_height": null,
            "min_width": null,
            "object_fit": null,
            "object_position": null,
            "order": null,
            "overflow": null,
            "overflow_x": null,
            "overflow_y": null,
            "padding": null,
            "right": null,
            "top": null,
            "visibility": null,
            "width": null
          }
        },
        "ca463ea8a12a40d0a39ce2dba96299d0": {
          "model_module": "@jupyter-widgets/base",
          "model_module_version": "1.2.0",
          "model_name": "LayoutModel",
          "state": {
            "_model_module": "@jupyter-widgets/base",
            "_model_module_version": "1.2.0",
            "_model_name": "LayoutModel",
            "_view_count": null,
            "_view_module": "@jupyter-widgets/base",
            "_view_module_version": "1.2.0",
            "_view_name": "LayoutView",
            "align_content": null,
            "align_items": null,
            "align_self": null,
            "border": null,
            "bottom": null,
            "display": null,
            "flex": null,
            "flex_flow": null,
            "grid_area": null,
            "grid_auto_columns": null,
            "grid_auto_flow": null,
            "grid_auto_rows": null,
            "grid_column": null,
            "grid_gap": null,
            "grid_row": null,
            "grid_template_areas": null,
            "grid_template_columns": null,
            "grid_template_rows": null,
            "height": null,
            "justify_content": null,
            "justify_items": null,
            "left": null,
            "margin": null,
            "max_height": null,
            "max_width": null,
            "min_height": null,
            "min_width": null,
            "object_fit": null,
            "object_position": null,
            "order": null,
            "overflow": null,
            "overflow_x": null,
            "overflow_y": null,
            "padding": null,
            "right": null,
            "top": null,
            "visibility": null,
            "width": null
          }
        },
        "cad3db1f330944a4b7675cc9fdaeac5c": {
          "model_module": "@jupyter-widgets/base",
          "model_module_version": "1.2.0",
          "model_name": "LayoutModel",
          "state": {
            "_model_module": "@jupyter-widgets/base",
            "_model_module_version": "1.2.0",
            "_model_name": "LayoutModel",
            "_view_count": null,
            "_view_module": "@jupyter-widgets/base",
            "_view_module_version": "1.2.0",
            "_view_name": "LayoutView",
            "align_content": null,
            "align_items": null,
            "align_self": null,
            "border": null,
            "bottom": null,
            "display": null,
            "flex": null,
            "flex_flow": null,
            "grid_area": null,
            "grid_auto_columns": null,
            "grid_auto_flow": null,
            "grid_auto_rows": null,
            "grid_column": null,
            "grid_gap": null,
            "grid_row": null,
            "grid_template_areas": null,
            "grid_template_columns": null,
            "grid_template_rows": null,
            "height": null,
            "justify_content": null,
            "justify_items": null,
            "left": null,
            "margin": null,
            "max_height": null,
            "max_width": null,
            "min_height": null,
            "min_width": null,
            "object_fit": null,
            "object_position": null,
            "order": null,
            "overflow": null,
            "overflow_x": null,
            "overflow_y": null,
            "padding": null,
            "right": null,
            "top": null,
            "visibility": null,
            "width": null
          }
        },
        "cae9cc0e10614aae87a9816ce931d52f": {
          "model_module": "@jupyter-widgets/controls",
          "model_module_version": "1.5.0",
          "model_name": "FloatProgressModel",
          "state": {
            "_dom_classes": [],
            "_model_module": "@jupyter-widgets/controls",
            "_model_module_version": "1.5.0",
            "_model_name": "FloatProgressModel",
            "_view_count": null,
            "_view_module": "@jupyter-widgets/controls",
            "_view_module_version": "1.5.0",
            "_view_name": "ProgressView",
            "bar_style": "success",
            "description": "",
            "description_tooltip": null,
            "layout": "IPY_MODEL_76ca4e3dbfab440b9eaa193dced8a8bf",
            "max": 231508,
            "min": 0,
            "orientation": "horizontal",
            "style": "IPY_MODEL_12ad55a824894c39b524d07c2551b3fc",
            "value": 231508
          }
        },
        "cb35332400bf4265956e2cd3995c447c": {
          "model_module": "@jupyter-widgets/controls",
          "model_module_version": "1.5.0",
          "model_name": "ProgressStyleModel",
          "state": {
            "_model_module": "@jupyter-widgets/controls",
            "_model_module_version": "1.5.0",
            "_model_name": "ProgressStyleModel",
            "_view_count": null,
            "_view_module": "@jupyter-widgets/base",
            "_view_module_version": "1.2.0",
            "_view_name": "StyleView",
            "bar_color": null,
            "description_width": ""
          }
        },
        "cc402fd7981946b5a0ff39f9f3b53337": {
          "model_module": "@jupyter-widgets/controls",
          "model_module_version": "1.5.0",
          "model_name": "HTMLModel",
          "state": {
            "_dom_classes": [],
            "_model_module": "@jupyter-widgets/controls",
            "_model_module_version": "1.5.0",
            "_model_name": "HTMLModel",
            "_view_count": null,
            "_view_module": "@jupyter-widgets/controls",
            "_view_module_version": "1.5.0",
            "_view_name": "HTMLView",
            "description": "",
            "description_tooltip": null,
            "layout": "IPY_MODEL_347cad114f8144aca3129706a0cdf38d",
            "placeholder": "​",
            "style": "IPY_MODEL_05c8ed1f78bc45c3b0ea7d70f3211433",
            "value": "Downloading: 100%"
          }
        },
        "cc478aafc45e4ed4891e78cfaac88b1b": {
          "model_module": "@jupyter-widgets/controls",
          "model_module_version": "1.5.0",
          "model_name": "DescriptionStyleModel",
          "state": {
            "_model_module": "@jupyter-widgets/controls",
            "_model_module_version": "1.5.0",
            "_model_name": "DescriptionStyleModel",
            "_view_count": null,
            "_view_module": "@jupyter-widgets/base",
            "_view_module_version": "1.2.0",
            "_view_name": "StyleView",
            "description_width": ""
          }
        },
        "cd42ab7cb7cc4fdb9652c6bff0f30165": {
          "model_module": "@jupyter-widgets/controls",
          "model_module_version": "1.5.0",
          "model_name": "DescriptionStyleModel",
          "state": {
            "_model_module": "@jupyter-widgets/controls",
            "_model_module_version": "1.5.0",
            "_model_name": "DescriptionStyleModel",
            "_view_count": null,
            "_view_module": "@jupyter-widgets/base",
            "_view_module_version": "1.2.0",
            "_view_name": "StyleView",
            "description_width": ""
          }
        },
        "ce680b523edd4fc5b605d4d4074ef953": {
          "model_module": "@jupyter-widgets/controls",
          "model_module_version": "1.5.0",
          "model_name": "DescriptionStyleModel",
          "state": {
            "_model_module": "@jupyter-widgets/controls",
            "_model_module_version": "1.5.0",
            "_model_name": "DescriptionStyleModel",
            "_view_count": null,
            "_view_module": "@jupyter-widgets/base",
            "_view_module_version": "1.2.0",
            "_view_name": "StyleView",
            "description_width": ""
          }
        },
        "ce75ba2155634efcb3993a9800feefc2": {
          "model_module": "@jupyter-widgets/base",
          "model_module_version": "1.2.0",
          "model_name": "LayoutModel",
          "state": {
            "_model_module": "@jupyter-widgets/base",
            "_model_module_version": "1.2.0",
            "_model_name": "LayoutModel",
            "_view_count": null,
            "_view_module": "@jupyter-widgets/base",
            "_view_module_version": "1.2.0",
            "_view_name": "LayoutView",
            "align_content": null,
            "align_items": null,
            "align_self": null,
            "border": null,
            "bottom": null,
            "display": null,
            "flex": null,
            "flex_flow": null,
            "grid_area": null,
            "grid_auto_columns": null,
            "grid_auto_flow": null,
            "grid_auto_rows": null,
            "grid_column": null,
            "grid_gap": null,
            "grid_row": null,
            "grid_template_areas": null,
            "grid_template_columns": null,
            "grid_template_rows": null,
            "height": null,
            "justify_content": null,
            "justify_items": null,
            "left": null,
            "margin": null,
            "max_height": null,
            "max_width": null,
            "min_height": null,
            "min_width": null,
            "object_fit": null,
            "object_position": null,
            "order": null,
            "overflow": null,
            "overflow_x": null,
            "overflow_y": null,
            "padding": null,
            "right": null,
            "top": null,
            "visibility": null,
            "width": null
          }
        },
        "cfd31a964caf4304bfbd4ec58c6c66eb": {
          "model_module": "@jupyter-widgets/controls",
          "model_module_version": "1.5.0",
          "model_name": "FloatProgressModel",
          "state": {
            "_dom_classes": [],
            "_model_module": "@jupyter-widgets/controls",
            "_model_module_version": "1.5.0",
            "_model_name": "FloatProgressModel",
            "_view_count": null,
            "_view_module": "@jupyter-widgets/controls",
            "_view_module_version": "1.5.0",
            "_view_name": "ProgressView",
            "bar_style": "success",
            "description": "",
            "description_tooltip": null,
            "layout": "IPY_MODEL_213038fd62bb4ac99cb85fb53e1037ae",
            "max": 34,
            "min": 0,
            "orientation": "horizontal",
            "style": "IPY_MODEL_a8e5914b6b8540649285536a5d550f34",
            "value": 34
          }
        },
        "d1e35e71ac554274bb3a2b9c139580fb": {
          "model_module": "@jupyter-widgets/controls",
          "model_module_version": "1.5.0",
          "model_name": "ProgressStyleModel",
          "state": {
            "_model_module": "@jupyter-widgets/controls",
            "_model_module_version": "1.5.0",
            "_model_name": "ProgressStyleModel",
            "_view_count": null,
            "_view_module": "@jupyter-widgets/base",
            "_view_module_version": "1.2.0",
            "_view_name": "StyleView",
            "bar_color": null,
            "description_width": ""
          }
        },
        "d344203aa135485b880b3e3a169200a1": {
          "model_module": "@jupyter-widgets/base",
          "model_module_version": "1.2.0",
          "model_name": "LayoutModel",
          "state": {
            "_model_module": "@jupyter-widgets/base",
            "_model_module_version": "1.2.0",
            "_model_name": "LayoutModel",
            "_view_count": null,
            "_view_module": "@jupyter-widgets/base",
            "_view_module_version": "1.2.0",
            "_view_name": "LayoutView",
            "align_content": null,
            "align_items": null,
            "align_self": null,
            "border": null,
            "bottom": null,
            "display": null,
            "flex": null,
            "flex_flow": null,
            "grid_area": null,
            "grid_auto_columns": null,
            "grid_auto_flow": null,
            "grid_auto_rows": null,
            "grid_column": null,
            "grid_gap": null,
            "grid_row": null,
            "grid_template_areas": null,
            "grid_template_columns": null,
            "grid_template_rows": null,
            "height": null,
            "justify_content": null,
            "justify_items": null,
            "left": null,
            "margin": null,
            "max_height": null,
            "max_width": null,
            "min_height": null,
            "min_width": null,
            "object_fit": null,
            "object_position": null,
            "order": null,
            "overflow": null,
            "overflow_x": null,
            "overflow_y": null,
            "padding": null,
            "right": null,
            "top": null,
            "visibility": null,
            "width": null
          }
        },
        "d36d4aceefb24c9fa9aaba6db85fc490": {
          "model_module": "@jupyter-widgets/controls",
          "model_module_version": "1.5.0",
          "model_name": "HTMLModel",
          "state": {
            "_dom_classes": [],
            "_model_module": "@jupyter-widgets/controls",
            "_model_module_version": "1.5.0",
            "_model_name": "HTMLModel",
            "_view_count": null,
            "_view_module": "@jupyter-widgets/controls",
            "_view_module_version": "1.5.0",
            "_view_name": "HTMLView",
            "description": "",
            "description_tooltip": null,
            "layout": "IPY_MODEL_477a98681e5b43448dd1a215e6a7515b",
            "placeholder": "​",
            "style": "IPY_MODEL_567075d301fb4626aca5ff50de5549d2",
            "value": " 86.7M/86.7M [00:04&lt;00:00, 17.9MB/s]"
          }
        },
        "d504229e5d344435b86dc0734e0f45bf": {
          "model_module": "@jupyter-widgets/base",
          "model_module_version": "1.2.0",
          "model_name": "LayoutModel",
          "state": {
            "_model_module": "@jupyter-widgets/base",
            "_model_module_version": "1.2.0",
            "_model_name": "LayoutModel",
            "_view_count": null,
            "_view_module": "@jupyter-widgets/base",
            "_view_module_version": "1.2.0",
            "_view_name": "LayoutView",
            "align_content": null,
            "align_items": null,
            "align_self": null,
            "border": null,
            "bottom": null,
            "display": null,
            "flex": null,
            "flex_flow": null,
            "grid_area": null,
            "grid_auto_columns": null,
            "grid_auto_flow": null,
            "grid_auto_rows": null,
            "grid_column": null,
            "grid_gap": null,
            "grid_row": null,
            "grid_template_areas": null,
            "grid_template_columns": null,
            "grid_template_rows": null,
            "height": null,
            "justify_content": null,
            "justify_items": null,
            "left": null,
            "margin": null,
            "max_height": null,
            "max_width": null,
            "min_height": null,
            "min_width": null,
            "object_fit": null,
            "object_position": null,
            "order": null,
            "overflow": null,
            "overflow_x": null,
            "overflow_y": null,
            "padding": null,
            "right": null,
            "top": null,
            "visibility": null,
            "width": null
          }
        },
        "d676fcfe4be54c14b4130430a758e944": {
          "model_module": "@jupyter-widgets/base",
          "model_module_version": "1.2.0",
          "model_name": "LayoutModel",
          "state": {
            "_model_module": "@jupyter-widgets/base",
            "_model_module_version": "1.2.0",
            "_model_name": "LayoutModel",
            "_view_count": null,
            "_view_module": "@jupyter-widgets/base",
            "_view_module_version": "1.2.0",
            "_view_name": "LayoutView",
            "align_content": null,
            "align_items": null,
            "align_self": null,
            "border": null,
            "bottom": null,
            "display": null,
            "flex": null,
            "flex_flow": null,
            "grid_area": null,
            "grid_auto_columns": null,
            "grid_auto_flow": null,
            "grid_auto_rows": null,
            "grid_column": null,
            "grid_gap": null,
            "grid_row": null,
            "grid_template_areas": null,
            "grid_template_columns": null,
            "grid_template_rows": null,
            "height": null,
            "justify_content": null,
            "justify_items": null,
            "left": null,
            "margin": null,
            "max_height": null,
            "max_width": null,
            "min_height": null,
            "min_width": null,
            "object_fit": null,
            "object_position": null,
            "order": null,
            "overflow": null,
            "overflow_x": null,
            "overflow_y": null,
            "padding": null,
            "right": null,
            "top": null,
            "visibility": null,
            "width": null
          }
        },
        "d6b2602b276647d09b3dd8842ff27951": {
          "model_module": "@jupyter-widgets/base",
          "model_module_version": "1.2.0",
          "model_name": "LayoutModel",
          "state": {
            "_model_module": "@jupyter-widgets/base",
            "_model_module_version": "1.2.0",
            "_model_name": "LayoutModel",
            "_view_count": null,
            "_view_module": "@jupyter-widgets/base",
            "_view_module_version": "1.2.0",
            "_view_name": "LayoutView",
            "align_content": null,
            "align_items": null,
            "align_self": null,
            "border": null,
            "bottom": null,
            "display": null,
            "flex": null,
            "flex_flow": null,
            "grid_area": null,
            "grid_auto_columns": null,
            "grid_auto_flow": null,
            "grid_auto_rows": null,
            "grid_column": null,
            "grid_gap": null,
            "grid_row": null,
            "grid_template_areas": null,
            "grid_template_columns": null,
            "grid_template_rows": null,
            "height": null,
            "justify_content": null,
            "justify_items": null,
            "left": null,
            "margin": null,
            "max_height": null,
            "max_width": null,
            "min_height": null,
            "min_width": null,
            "object_fit": null,
            "object_position": null,
            "order": null,
            "overflow": null,
            "overflow_x": null,
            "overflow_y": null,
            "padding": null,
            "right": null,
            "top": null,
            "visibility": null,
            "width": null
          }
        },
        "d8822ca6b7ec430ba49454e5817cecbd": {
          "model_module": "@jupyter-widgets/controls",
          "model_module_version": "1.5.0",
          "model_name": "HTMLModel",
          "state": {
            "_dom_classes": [],
            "_model_module": "@jupyter-widgets/controls",
            "_model_module_version": "1.5.0",
            "_model_name": "HTMLModel",
            "_view_count": null,
            "_view_module": "@jupyter-widgets/controls",
            "_view_module_version": "1.5.0",
            "_view_name": "HTMLView",
            "description": "",
            "description_tooltip": null,
            "layout": "IPY_MODEL_b3a13385447f49b2aa3e87cea86c8309",
            "placeholder": "​",
            "style": "IPY_MODEL_537c20cb19894a9c8711d93d0d7540a7",
            "value": " 349/349 [00:00&lt;00:00, 8.80kB/s]"
          }
        },
        "da309d1d89434e418e7ee4e29ddb7dc7": {
          "model_module": "@jupyter-widgets/controls",
          "model_module_version": "1.5.0",
          "model_name": "HTMLModel",
          "state": {
            "_dom_classes": [],
            "_model_module": "@jupyter-widgets/controls",
            "_model_module_version": "1.5.0",
            "_model_name": "HTMLModel",
            "_view_count": null,
            "_view_module": "@jupyter-widgets/controls",
            "_view_module_version": "1.5.0",
            "_view_name": "HTMLView",
            "description": "",
            "description_tooltip": null,
            "layout": "IPY_MODEL_ad332488dc7b48eb8954d3687d45d8ef",
            "placeholder": "​",
            "style": "IPY_MODEL_fe72412aa1644a7b92d50aecf4cd1e64",
            "value": "Downloading: 100%"
          }
        },
        "dc7a802d59d74961bcb7056e9ee1b8c6": {
          "model_module": "@jupyter-widgets/controls",
          "model_module_version": "1.5.0",
          "model_name": "FloatProgressModel",
          "state": {
            "_dom_classes": [],
            "_model_module": "@jupyter-widgets/controls",
            "_model_module_version": "1.5.0",
            "_model_name": "FloatProgressModel",
            "_view_count": null,
            "_view_module": "@jupyter-widgets/controls",
            "_view_module_version": "1.5.0",
            "_view_name": "ProgressView",
            "bar_style": "success",
            "description": "",
            "description_tooltip": null,
            "layout": "IPY_MODEL_aa86d91b133f456babf93f104cbd7333",
            "max": 190,
            "min": 0,
            "orientation": "horizontal",
            "style": "IPY_MODEL_4b4e8dfcbf254f40923403f792402c86",
            "value": 190
          }
        },
        "dd12ba93b7064c258c377304dfffe3c6": {
          "model_module": "@jupyter-widgets/controls",
          "model_module_version": "1.5.0",
          "model_name": "HTMLModel",
          "state": {
            "_dom_classes": [],
            "_model_module": "@jupyter-widgets/controls",
            "_model_module_version": "1.5.0",
            "_model_name": "HTMLModel",
            "_view_count": null,
            "_view_module": "@jupyter-widgets/controls",
            "_view_module_version": "1.5.0",
            "_view_name": "HTMLView",
            "description": "",
            "description_tooltip": null,
            "layout": "IPY_MODEL_ce75ba2155634efcb3993a9800feefc2",
            "placeholder": "​",
            "style": "IPY_MODEL_3ff09881c163480c9cb954211add0eb3",
            "value": " 466k/466k [00:00&lt;00:00, 970kB/s]"
          }
        },
        "dd8d44c8b22d480b8cea2e410020e824": {
          "model_module": "@jupyter-widgets/controls",
          "model_module_version": "1.5.0",
          "model_name": "DescriptionStyleModel",
          "state": {
            "_model_module": "@jupyter-widgets/controls",
            "_model_module_version": "1.5.0",
            "_model_name": "DescriptionStyleModel",
            "_view_count": null,
            "_view_module": "@jupyter-widgets/base",
            "_view_module_version": "1.2.0",
            "_view_name": "StyleView",
            "description_width": ""
          }
        },
        "ddaba011212e452092a3051ca71cf991": {
          "model_module": "@jupyter-widgets/controls",
          "model_module_version": "1.5.0",
          "model_name": "DescriptionStyleModel",
          "state": {
            "_model_module": "@jupyter-widgets/controls",
            "_model_module_version": "1.5.0",
            "_model_name": "DescriptionStyleModel",
            "_view_count": null,
            "_view_module": "@jupyter-widgets/base",
            "_view_module_version": "1.2.0",
            "_view_name": "StyleView",
            "description_width": ""
          }
        },
        "ddcbb07891584ea196145609fc18723f": {
          "model_module": "@jupyter-widgets/controls",
          "model_module_version": "1.5.0",
          "model_name": "HTMLModel",
          "state": {
            "_dom_classes": [],
            "_model_module": "@jupyter-widgets/controls",
            "_model_module_version": "1.5.0",
            "_model_name": "HTMLModel",
            "_view_count": null,
            "_view_module": "@jupyter-widgets/controls",
            "_view_module_version": "1.5.0",
            "_view_name": "HTMLView",
            "description": "",
            "description_tooltip": null,
            "layout": "IPY_MODEL_7c5040b84b1a4e1b9becf95b4413ff97",
            "placeholder": "​",
            "style": "IPY_MODEL_4978f57b156d4607834f5744d3977c0d",
            "value": " 25.5k/25.5k [00:00&lt;00:00, 406kB/s]"
          }
        },
        "dece3698eb02459082c9bb468d8f3306": {
          "model_module": "@jupyter-widgets/base",
          "model_module_version": "1.2.0",
          "model_name": "LayoutModel",
          "state": {
            "_model_module": "@jupyter-widgets/base",
            "_model_module_version": "1.2.0",
            "_model_name": "LayoutModel",
            "_view_count": null,
            "_view_module": "@jupyter-widgets/base",
            "_view_module_version": "1.2.0",
            "_view_name": "LayoutView",
            "align_content": null,
            "align_items": null,
            "align_self": null,
            "border": null,
            "bottom": null,
            "display": null,
            "flex": null,
            "flex_flow": null,
            "grid_area": null,
            "grid_auto_columns": null,
            "grid_auto_flow": null,
            "grid_auto_rows": null,
            "grid_column": null,
            "grid_gap": null,
            "grid_row": null,
            "grid_template_areas": null,
            "grid_template_columns": null,
            "grid_template_rows": null,
            "height": null,
            "justify_content": null,
            "justify_items": null,
            "left": null,
            "margin": null,
            "max_height": null,
            "max_width": null,
            "min_height": null,
            "min_width": null,
            "object_fit": null,
            "object_position": null,
            "order": null,
            "overflow": null,
            "overflow_x": null,
            "overflow_y": null,
            "padding": null,
            "right": null,
            "top": null,
            "visibility": null,
            "width": null
          }
        },
        "dee2f2e646fb4c65bca454d6bce80942": {
          "model_module": "@jupyter-widgets/base",
          "model_module_version": "1.2.0",
          "model_name": "LayoutModel",
          "state": {
            "_model_module": "@jupyter-widgets/base",
            "_model_module_version": "1.2.0",
            "_model_name": "LayoutModel",
            "_view_count": null,
            "_view_module": "@jupyter-widgets/base",
            "_view_module_version": "1.2.0",
            "_view_name": "LayoutView",
            "align_content": null,
            "align_items": null,
            "align_self": null,
            "border": null,
            "bottom": null,
            "display": null,
            "flex": null,
            "flex_flow": null,
            "grid_area": null,
            "grid_auto_columns": null,
            "grid_auto_flow": null,
            "grid_auto_rows": null,
            "grid_column": null,
            "grid_gap": null,
            "grid_row": null,
            "grid_template_areas": null,
            "grid_template_columns": null,
            "grid_template_rows": null,
            "height": null,
            "justify_content": null,
            "justify_items": null,
            "left": null,
            "margin": null,
            "max_height": null,
            "max_width": null,
            "min_height": null,
            "min_width": null,
            "object_fit": null,
            "object_position": null,
            "order": null,
            "overflow": null,
            "overflow_x": null,
            "overflow_y": null,
            "padding": null,
            "right": null,
            "top": null,
            "visibility": null,
            "width": null
          }
        },
        "df75b6048bd94bbaa39dae10ebce1d1f": {
          "model_module": "@jupyter-widgets/controls",
          "model_module_version": "1.5.0",
          "model_name": "HTMLModel",
          "state": {
            "_dom_classes": [],
            "_model_module": "@jupyter-widgets/controls",
            "_model_module_version": "1.5.0",
            "_model_name": "HTMLModel",
            "_view_count": null,
            "_view_module": "@jupyter-widgets/controls",
            "_view_module_version": "1.5.0",
            "_view_name": "HTMLView",
            "description": "",
            "description_tooltip": null,
            "layout": "IPY_MODEL_34579b2fd6574236aa62ea80143452e8",
            "placeholder": "​",
            "style": "IPY_MODEL_08cfb162fde04b8088e9919870020b87",
            "value": "Downloading: 100%"
          }
        },
        "e00f5aa4a7264d07a349f5513c70a0d3": {
          "model_module": "@jupyter-widgets/base",
          "model_module_version": "1.2.0",
          "model_name": "LayoutModel",
          "state": {
            "_model_module": "@jupyter-widgets/base",
            "_model_module_version": "1.2.0",
            "_model_name": "LayoutModel",
            "_view_count": null,
            "_view_module": "@jupyter-widgets/base",
            "_view_module_version": "1.2.0",
            "_view_name": "LayoutView",
            "align_content": null,
            "align_items": null,
            "align_self": null,
            "border": null,
            "bottom": null,
            "display": null,
            "flex": null,
            "flex_flow": null,
            "grid_area": null,
            "grid_auto_columns": null,
            "grid_auto_flow": null,
            "grid_auto_rows": null,
            "grid_column": null,
            "grid_gap": null,
            "grid_row": null,
            "grid_template_areas": null,
            "grid_template_columns": null,
            "grid_template_rows": null,
            "height": null,
            "justify_content": null,
            "justify_items": null,
            "left": null,
            "margin": null,
            "max_height": null,
            "max_width": null,
            "min_height": null,
            "min_width": null,
            "object_fit": null,
            "object_position": null,
            "order": null,
            "overflow": null,
            "overflow_x": null,
            "overflow_y": null,
            "padding": null,
            "right": null,
            "top": null,
            "visibility": null,
            "width": null
          }
        },
        "e1eee161c3c44c32a89411aa2d75e571": {
          "model_module": "@jupyter-widgets/controls",
          "model_module_version": "1.5.0",
          "model_name": "FloatProgressModel",
          "state": {
            "_dom_classes": [],
            "_model_module": "@jupyter-widgets/controls",
            "_model_module_version": "1.5.0",
            "_model_name": "FloatProgressModel",
            "_view_count": null,
            "_view_module": "@jupyter-widgets/controls",
            "_view_module_version": "1.5.0",
            "_view_name": "ProgressView",
            "bar_style": "success",
            "description": "",
            "description_tooltip": null,
            "layout": "IPY_MODEL_f1c5b13b14e54cfca38973d4c863ef74",
            "max": 112,
            "min": 0,
            "orientation": "horizontal",
            "style": "IPY_MODEL_01a11cfef5404d3a82c63fbd6e1933c5",
            "value": 112
          }
        },
        "e2eed718132b4da6ac3f733624edf3db": {
          "model_module": "@jupyter-widgets/controls",
          "model_module_version": "1.5.0",
          "model_name": "DescriptionStyleModel",
          "state": {
            "_model_module": "@jupyter-widgets/controls",
            "_model_module_version": "1.5.0",
            "_model_name": "DescriptionStyleModel",
            "_view_count": null,
            "_view_module": "@jupyter-widgets/base",
            "_view_module_version": "1.2.0",
            "_view_name": "StyleView",
            "description_width": ""
          }
        },
        "e43f9b182dc240e8a3be527bacfd9612": {
          "model_module": "@jupyter-widgets/controls",
          "model_module_version": "1.5.0",
          "model_name": "FloatProgressModel",
          "state": {
            "_dom_classes": [],
            "_model_module": "@jupyter-widgets/controls",
            "_model_module_version": "1.5.0",
            "_model_name": "FloatProgressModel",
            "_view_count": null,
            "_view_module": "@jupyter-widgets/controls",
            "_view_module_version": "1.5.0",
            "_view_name": "ProgressView",
            "bar_style": "success",
            "description": "",
            "description_tooltip": null,
            "layout": "IPY_MODEL_bb562b96128d4b8fa41b1fd95d356f5b",
            "max": 737,
            "min": 0,
            "orientation": "horizontal",
            "style": "IPY_MODEL_b467c81a3bc24979b176d13a05cbf585",
            "value": 737
          }
        },
        "e4d8efa9d4fc48ccb88d74d0f2940b1e": {
          "model_module": "@jupyter-widgets/base",
          "model_module_version": "1.2.0",
          "model_name": "LayoutModel",
          "state": {
            "_model_module": "@jupyter-widgets/base",
            "_model_module_version": "1.2.0",
            "_model_name": "LayoutModel",
            "_view_count": null,
            "_view_module": "@jupyter-widgets/base",
            "_view_module_version": "1.2.0",
            "_view_name": "LayoutView",
            "align_content": null,
            "align_items": null,
            "align_self": null,
            "border": null,
            "bottom": null,
            "display": null,
            "flex": null,
            "flex_flow": null,
            "grid_area": null,
            "grid_auto_columns": null,
            "grid_auto_flow": null,
            "grid_auto_rows": null,
            "grid_column": null,
            "grid_gap": null,
            "grid_row": null,
            "grid_template_areas": null,
            "grid_template_columns": null,
            "grid_template_rows": null,
            "height": null,
            "justify_content": null,
            "justify_items": null,
            "left": null,
            "margin": null,
            "max_height": null,
            "max_width": null,
            "min_height": null,
            "min_width": null,
            "object_fit": null,
            "object_position": null,
            "order": null,
            "overflow": null,
            "overflow_x": null,
            "overflow_y": null,
            "padding": null,
            "right": null,
            "top": null,
            "visibility": null,
            "width": null
          }
        },
        "e5b97a21aeb24e5baa10f4a90fb969a3": {
          "model_module": "@jupyter-widgets/controls",
          "model_module_version": "1.5.0",
          "model_name": "ProgressStyleModel",
          "state": {
            "_model_module": "@jupyter-widgets/controls",
            "_model_module_version": "1.5.0",
            "_model_name": "ProgressStyleModel",
            "_view_count": null,
            "_view_module": "@jupyter-widgets/base",
            "_view_module_version": "1.2.0",
            "_view_name": "StyleView",
            "bar_color": null,
            "description_width": ""
          }
        },
        "e704589eabb34ff9ad8e72f8cba7a7d1": {
          "model_module": "@jupyter-widgets/controls",
          "model_module_version": "1.5.0",
          "model_name": "HBoxModel",
          "state": {
            "_dom_classes": [],
            "_model_module": "@jupyter-widgets/controls",
            "_model_module_version": "1.5.0",
            "_model_name": "HBoxModel",
            "_view_count": null,
            "_view_module": "@jupyter-widgets/controls",
            "_view_module_version": "1.5.0",
            "_view_name": "HBoxView",
            "box_style": "",
            "children": [
              "IPY_MODEL_da309d1d89434e418e7ee4e29ddb7dc7",
              "IPY_MODEL_e43f9b182dc240e8a3be527bacfd9612",
              "IPY_MODEL_6db85b8bbed644ddaac21e21f60faca8"
            ],
            "layout": "IPY_MODEL_f9d6dbb98f984c5cb361f304e0932759"
          }
        },
        "e7ce21281e96444b862b4eff4e8eb4ad": {
          "model_module": "@jupyter-widgets/controls",
          "model_module_version": "1.5.0",
          "model_name": "HBoxModel",
          "state": {
            "_dom_classes": [],
            "_model_module": "@jupyter-widgets/controls",
            "_model_module_version": "1.5.0",
            "_model_name": "HBoxModel",
            "_view_count": null,
            "_view_module": "@jupyter-widgets/controls",
            "_view_module_version": "1.5.0",
            "_view_name": "HBoxView",
            "box_style": "",
            "children": [
              "IPY_MODEL_32208b6bef34462cba04b82d192e20ac",
              "IPY_MODEL_830ad618657e4284a4d599f8c50b38e6",
              "IPY_MODEL_d36d4aceefb24c9fa9aaba6db85fc490"
            ],
            "layout": "IPY_MODEL_34e980219ba541d7a9dda6cb9720341d"
          }
        },
        "e7dddbb06ccf4134bce6e7085b5ff606": {
          "model_module": "@jupyter-widgets/controls",
          "model_module_version": "1.5.0",
          "model_name": "DescriptionStyleModel",
          "state": {
            "_model_module": "@jupyter-widgets/controls",
            "_model_module_version": "1.5.0",
            "_model_name": "DescriptionStyleModel",
            "_view_count": null,
            "_view_module": "@jupyter-widgets/base",
            "_view_module_version": "1.2.0",
            "_view_name": "StyleView",
            "description_width": ""
          }
        },
        "e8335a5527044272be3660856343f9fb": {
          "model_module": "@jupyter-widgets/controls",
          "model_module_version": "1.5.0",
          "model_name": "HBoxModel",
          "state": {
            "_dom_classes": [],
            "_model_module": "@jupyter-widgets/controls",
            "_model_module_version": "1.5.0",
            "_model_name": "HBoxModel",
            "_view_count": null,
            "_view_module": "@jupyter-widgets/controls",
            "_view_module_version": "1.5.0",
            "_view_name": "HBoxView",
            "box_style": "",
            "children": [
              "IPY_MODEL_df75b6048bd94bbaa39dae10ebce1d1f",
              "IPY_MODEL_dc7a802d59d74961bcb7056e9ee1b8c6",
              "IPY_MODEL_441cfcee2bb745af9f9dea6ae8669718"
            ],
            "layout": "IPY_MODEL_c1f533e66ed94e989bf78137cd1f9429"
          }
        },
        "eba36cb6db09401f81ffa21e0734980c": {
          "model_module": "@jupyter-widgets/base",
          "model_module_version": "1.2.0",
          "model_name": "LayoutModel",
          "state": {
            "_model_module": "@jupyter-widgets/base",
            "_model_module_version": "1.2.0",
            "_model_name": "LayoutModel",
            "_view_count": null,
            "_view_module": "@jupyter-widgets/base",
            "_view_module_version": "1.2.0",
            "_view_name": "LayoutView",
            "align_content": null,
            "align_items": null,
            "align_self": null,
            "border": null,
            "bottom": null,
            "display": null,
            "flex": null,
            "flex_flow": null,
            "grid_area": null,
            "grid_auto_columns": null,
            "grid_auto_flow": null,
            "grid_auto_rows": null,
            "grid_column": null,
            "grid_gap": null,
            "grid_row": null,
            "grid_template_areas": null,
            "grid_template_columns": null,
            "grid_template_rows": null,
            "height": null,
            "justify_content": null,
            "justify_items": null,
            "left": null,
            "margin": null,
            "max_height": null,
            "max_width": null,
            "min_height": null,
            "min_width": null,
            "object_fit": null,
            "object_position": null,
            "order": null,
            "overflow": null,
            "overflow_x": null,
            "overflow_y": null,
            "padding": null,
            "right": null,
            "top": null,
            "visibility": null,
            "width": null
          }
        },
        "ec7d27c1d78c4292886b5f47e34b10e4": {
          "model_module": "@jupyter-widgets/controls",
          "model_module_version": "1.5.0",
          "model_name": "HTMLModel",
          "state": {
            "_dom_classes": [],
            "_model_module": "@jupyter-widgets/controls",
            "_model_module_version": "1.5.0",
            "_model_name": "HTMLModel",
            "_view_count": null,
            "_view_module": "@jupyter-widgets/controls",
            "_view_module_version": "1.5.0",
            "_view_name": "HTMLView",
            "description": "",
            "description_tooltip": null,
            "layout": "IPY_MODEL_bce46d8a3b0e4a97a9d687b7fdb5a00e",
            "placeholder": "​",
            "style": "IPY_MODEL_06cd83c3a6cf443a805fb6c8f395d2f4",
            "value": " 34/34 [00:00&lt;00:00, 587.08it/s]"
          }
        },
        "f15be36101b542f4969a1030870adbc6": {
          "model_module": "@jupyter-widgets/base",
          "model_module_version": "1.2.0",
          "model_name": "LayoutModel",
          "state": {
            "_model_module": "@jupyter-widgets/base",
            "_model_module_version": "1.2.0",
            "_model_name": "LayoutModel",
            "_view_count": null,
            "_view_module": "@jupyter-widgets/base",
            "_view_module_version": "1.2.0",
            "_view_name": "LayoutView",
            "align_content": null,
            "align_items": null,
            "align_self": null,
            "border": null,
            "bottom": null,
            "display": null,
            "flex": null,
            "flex_flow": null,
            "grid_area": null,
            "grid_auto_columns": null,
            "grid_auto_flow": null,
            "grid_auto_rows": null,
            "grid_column": null,
            "grid_gap": null,
            "grid_row": null,
            "grid_template_areas": null,
            "grid_template_columns": null,
            "grid_template_rows": null,
            "height": null,
            "justify_content": null,
            "justify_items": null,
            "left": null,
            "margin": null,
            "max_height": null,
            "max_width": null,
            "min_height": null,
            "min_width": null,
            "object_fit": null,
            "object_position": null,
            "order": null,
            "overflow": null,
            "overflow_x": null,
            "overflow_y": null,
            "padding": null,
            "right": null,
            "top": null,
            "visibility": null,
            "width": null
          }
        },
        "f18a44929952446e8c15f6c9a1405127": {
          "model_module": "@jupyter-widgets/controls",
          "model_module_version": "1.5.0",
          "model_name": "ProgressStyleModel",
          "state": {
            "_model_module": "@jupyter-widgets/controls",
            "_model_module_version": "1.5.0",
            "_model_name": "ProgressStyleModel",
            "_view_count": null,
            "_view_module": "@jupyter-widgets/base",
            "_view_module_version": "1.2.0",
            "_view_name": "StyleView",
            "bar_color": null,
            "description_width": ""
          }
        },
        "f1c5b13b14e54cfca38973d4c863ef74": {
          "model_module": "@jupyter-widgets/base",
          "model_module_version": "1.2.0",
          "model_name": "LayoutModel",
          "state": {
            "_model_module": "@jupyter-widgets/base",
            "_model_module_version": "1.2.0",
            "_model_name": "LayoutModel",
            "_view_count": null,
            "_view_module": "@jupyter-widgets/base",
            "_view_module_version": "1.2.0",
            "_view_name": "LayoutView",
            "align_content": null,
            "align_items": null,
            "align_self": null,
            "border": null,
            "bottom": null,
            "display": null,
            "flex": null,
            "flex_flow": null,
            "grid_area": null,
            "grid_auto_columns": null,
            "grid_auto_flow": null,
            "grid_auto_rows": null,
            "grid_column": null,
            "grid_gap": null,
            "grid_row": null,
            "grid_template_areas": null,
            "grid_template_columns": null,
            "grid_template_rows": null,
            "height": null,
            "justify_content": null,
            "justify_items": null,
            "left": null,
            "margin": null,
            "max_height": null,
            "max_width": null,
            "min_height": null,
            "min_width": null,
            "object_fit": null,
            "object_position": null,
            "order": null,
            "overflow": null,
            "overflow_x": null,
            "overflow_y": null,
            "padding": null,
            "right": null,
            "top": null,
            "visibility": null,
            "width": null
          }
        },
        "f1c5c523d4de463a9e8d408860cf3eb8": {
          "model_module": "@jupyter-widgets/base",
          "model_module_version": "1.2.0",
          "model_name": "LayoutModel",
          "state": {
            "_model_module": "@jupyter-widgets/base",
            "_model_module_version": "1.2.0",
            "_model_name": "LayoutModel",
            "_view_count": null,
            "_view_module": "@jupyter-widgets/base",
            "_view_module_version": "1.2.0",
            "_view_name": "LayoutView",
            "align_content": null,
            "align_items": null,
            "align_self": null,
            "border": null,
            "bottom": null,
            "display": null,
            "flex": null,
            "flex_flow": null,
            "grid_area": null,
            "grid_auto_columns": null,
            "grid_auto_flow": null,
            "grid_auto_rows": null,
            "grid_column": null,
            "grid_gap": null,
            "grid_row": null,
            "grid_template_areas": null,
            "grid_template_columns": null,
            "grid_template_rows": null,
            "height": null,
            "justify_content": null,
            "justify_items": null,
            "left": null,
            "margin": null,
            "max_height": null,
            "max_width": null,
            "min_height": null,
            "min_width": null,
            "object_fit": null,
            "object_position": null,
            "order": null,
            "overflow": null,
            "overflow_x": null,
            "overflow_y": null,
            "padding": null,
            "right": null,
            "top": null,
            "visibility": null,
            "width": null
          }
        },
        "f1ce6a8e70af4398b21c2c8b8a92f253": {
          "model_module": "@jupyter-widgets/controls",
          "model_module_version": "1.5.0",
          "model_name": "FloatProgressModel",
          "state": {
            "_dom_classes": [],
            "_model_module": "@jupyter-widgets/controls",
            "_model_module_version": "1.5.0",
            "_model_name": "FloatProgressModel",
            "_view_count": null,
            "_view_module": "@jupyter-widgets/controls",
            "_view_module_version": "1.5.0",
            "_view_name": "ProgressView",
            "bar_style": "success",
            "description": "",
            "description_tooltip": null,
            "layout": "IPY_MODEL_c6e60f37c4064e098d61f2e78223a54f",
            "max": 231508,
            "min": 0,
            "orientation": "horizontal",
            "style": "IPY_MODEL_18b70a83906a41fa83e2a3a46461bc37",
            "value": 231508
          }
        },
        "f3f0c0909b0b402d89af3518f8321e4c": {
          "model_module": "@jupyter-widgets/controls",
          "model_module_version": "1.5.0",
          "model_name": "HTMLModel",
          "state": {
            "_dom_classes": [],
            "_model_module": "@jupyter-widgets/controls",
            "_model_module_version": "1.5.0",
            "_model_name": "HTMLModel",
            "_view_count": null,
            "_view_module": "@jupyter-widgets/controls",
            "_view_module_version": "1.5.0",
            "_view_name": "HTMLView",
            "description": "",
            "description_tooltip": null,
            "layout": "IPY_MODEL_5d8aec028cb2408ba0e9c83e8cae3f1e",
            "placeholder": "​",
            "style": "IPY_MODEL_b6e5b1ec3f944df5ae9ec1963480b36a",
            "value": "Downloading: 100%"
          }
        },
        "f54ac6a2997d49699080099b4b45329b": {
          "model_module": "@jupyter-widgets/controls",
          "model_module_version": "1.5.0",
          "model_name": "HTMLModel",
          "state": {
            "_dom_classes": [],
            "_model_module": "@jupyter-widgets/controls",
            "_model_module_version": "1.5.0",
            "_model_name": "HTMLModel",
            "_view_count": null,
            "_view_module": "@jupyter-widgets/controls",
            "_view_module_version": "1.5.0",
            "_view_name": "HTMLView",
            "description": "",
            "description_tooltip": null,
            "layout": "IPY_MODEL_dee2f2e646fb4c65bca454d6bce80942",
            "placeholder": "​",
            "style": "IPY_MODEL_6e064d57e50e450ab72a91ad94842aec",
            "value": "Downloading: 100%"
          }
        },
        "f6484468897c452a8c6431b93dd331aa": {
          "model_module": "@jupyter-widgets/controls",
          "model_module_version": "1.5.0",
          "model_name": "HBoxModel",
          "state": {
            "_dom_classes": [],
            "_model_module": "@jupyter-widgets/controls",
            "_model_module_version": "1.5.0",
            "_model_name": "HBoxModel",
            "_view_count": null,
            "_view_module": "@jupyter-widgets/controls",
            "_view_module_version": "1.5.0",
            "_view_name": "HBoxView",
            "box_style": "",
            "children": [
              "IPY_MODEL_51ef8e25a4454522a9389102814ef4dd",
              "IPY_MODEL_606898dd625140d9bffb28bec22ae7d8",
              "IPY_MODEL_ddcbb07891584ea196145609fc18723f"
            ],
            "layout": "IPY_MODEL_71a8f89c6b564e58b2419a66807f78ac"
          }
        },
        "f6a674da43df49f78d7347d5fbd00b88": {
          "model_module": "@jupyter-widgets/controls",
          "model_module_version": "1.5.0",
          "model_name": "DescriptionStyleModel",
          "state": {
            "_model_module": "@jupyter-widgets/controls",
            "_model_module_version": "1.5.0",
            "_model_name": "DescriptionStyleModel",
            "_view_count": null,
            "_view_module": "@jupyter-widgets/base",
            "_view_module_version": "1.2.0",
            "_view_name": "StyleView",
            "description_width": ""
          }
        },
        "f6de9fa1c61345db81a27b359f17e84c": {
          "model_module": "@jupyter-widgets/base",
          "model_module_version": "1.2.0",
          "model_name": "LayoutModel",
          "state": {
            "_model_module": "@jupyter-widgets/base",
            "_model_module_version": "1.2.0",
            "_model_name": "LayoutModel",
            "_view_count": null,
            "_view_module": "@jupyter-widgets/base",
            "_view_module_version": "1.2.0",
            "_view_name": "LayoutView",
            "align_content": null,
            "align_items": null,
            "align_self": null,
            "border": null,
            "bottom": null,
            "display": null,
            "flex": null,
            "flex_flow": null,
            "grid_area": null,
            "grid_auto_columns": null,
            "grid_auto_flow": null,
            "grid_auto_rows": null,
            "grid_column": null,
            "grid_gap": null,
            "grid_row": null,
            "grid_template_areas": null,
            "grid_template_columns": null,
            "grid_template_rows": null,
            "height": null,
            "justify_content": null,
            "justify_items": null,
            "left": null,
            "margin": null,
            "max_height": null,
            "max_width": null,
            "min_height": null,
            "min_width": null,
            "object_fit": null,
            "object_position": null,
            "order": null,
            "overflow": null,
            "overflow_x": null,
            "overflow_y": null,
            "padding": null,
            "right": null,
            "top": null,
            "visibility": null,
            "width": null
          }
        },
        "f7823dc27b444bc1bff5622d3bed311d": {
          "model_module": "@jupyter-widgets/controls",
          "model_module_version": "1.5.0",
          "model_name": "HBoxModel",
          "state": {
            "_dom_classes": [],
            "_model_module": "@jupyter-widgets/controls",
            "_model_module_version": "1.5.0",
            "_model_name": "HBoxModel",
            "_view_count": null,
            "_view_module": "@jupyter-widgets/controls",
            "_view_module_version": "1.5.0",
            "_view_name": "HBoxView",
            "box_style": "",
            "children": [
              "IPY_MODEL_f54ac6a2997d49699080099b4b45329b",
              "IPY_MODEL_759b530fb68941ba83f758582a2973c1",
              "IPY_MODEL_c004634d73eb4abf93350d765aab0143"
            ],
            "layout": "IPY_MODEL_5fe57550de374bce948f21f0585a45d0"
          }
        },
        "f9d6dbb98f984c5cb361f304e0932759": {
          "model_module": "@jupyter-widgets/base",
          "model_module_version": "1.2.0",
          "model_name": "LayoutModel",
          "state": {
            "_model_module": "@jupyter-widgets/base",
            "_model_module_version": "1.2.0",
            "_model_name": "LayoutModel",
            "_view_count": null,
            "_view_module": "@jupyter-widgets/base",
            "_view_module_version": "1.2.0",
            "_view_name": "LayoutView",
            "align_content": null,
            "align_items": null,
            "align_self": null,
            "border": null,
            "bottom": null,
            "display": null,
            "flex": null,
            "flex_flow": null,
            "grid_area": null,
            "grid_auto_columns": null,
            "grid_auto_flow": null,
            "grid_auto_rows": null,
            "grid_column": null,
            "grid_gap": null,
            "grid_row": null,
            "grid_template_areas": null,
            "grid_template_columns": null,
            "grid_template_rows": null,
            "height": null,
            "justify_content": null,
            "justify_items": null,
            "left": null,
            "margin": null,
            "max_height": null,
            "max_width": null,
            "min_height": null,
            "min_width": null,
            "object_fit": null,
            "object_position": null,
            "order": null,
            "overflow": null,
            "overflow_x": null,
            "overflow_y": null,
            "padding": null,
            "right": null,
            "top": null,
            "visibility": null,
            "width": null
          }
        },
        "fab59497d77d430ebf9b9e9ab8e5343d": {
          "model_module": "@jupyter-widgets/controls",
          "model_module_version": "1.5.0",
          "model_name": "FloatProgressModel",
          "state": {
            "_dom_classes": [],
            "_model_module": "@jupyter-widgets/controls",
            "_model_module_version": "1.5.0",
            "_model_name": "FloatProgressModel",
            "_view_count": null,
            "_view_module": "@jupyter-widgets/controls",
            "_view_module_version": "1.5.0",
            "_view_name": "ProgressView",
            "bar_style": "success",
            "description": "",
            "description_tooltip": null,
            "layout": "IPY_MODEL_4d7d20e77601432ea8325e7f252801e9",
            "max": 316,
            "min": 0,
            "orientation": "horizontal",
            "style": "IPY_MODEL_402bf1b2efed4fb1aa75c325a22d6b31",
            "value": 316
          }
        },
        "fb389557f783462a9dedaafac7d0100a": {
          "model_module": "@jupyter-widgets/controls",
          "model_module_version": "1.5.0",
          "model_name": "HTMLModel",
          "state": {
            "_dom_classes": [],
            "_model_module": "@jupyter-widgets/controls",
            "_model_module_version": "1.5.0",
            "_model_name": "HTMLModel",
            "_view_count": null,
            "_view_module": "@jupyter-widgets/controls",
            "_view_module_version": "1.5.0",
            "_view_name": "HTMLView",
            "description": "",
            "description_tooltip": null,
            "layout": "IPY_MODEL_b139001f4e874e67ac497d86959eeb04",
            "placeholder": "​",
            "style": "IPY_MODEL_6de859c0196445009f159df87a72a848",
            "value": "Downloading: 100%"
          }
        },
        "fb82c802cfb844e48da27db91b691e44": {
          "model_module": "@jupyter-widgets/controls",
          "model_module_version": "1.5.0",
          "model_name": "HTMLModel",
          "state": {
            "_dom_classes": [],
            "_model_module": "@jupyter-widgets/controls",
            "_model_module_version": "1.5.0",
            "_model_name": "HTMLModel",
            "_view_count": null,
            "_view_module": "@jupyter-widgets/controls",
            "_view_module_version": "1.5.0",
            "_view_name": "HTMLView",
            "description": "",
            "description_tooltip": null,
            "layout": "IPY_MODEL_6a7944ae628642198cfd7a3dc5257315",
            "placeholder": "​",
            "style": "IPY_MODEL_ba0ba9c32ca04b1db1f5e52ce11675d6",
            "value": "Downloading: 100%"
          }
        },
        "fbcac693b27a478795bd53c5085fe4f8": {
          "model_module": "@jupyter-widgets/controls",
          "model_module_version": "1.5.0",
          "model_name": "DescriptionStyleModel",
          "state": {
            "_model_module": "@jupyter-widgets/controls",
            "_model_module_version": "1.5.0",
            "_model_name": "DescriptionStyleModel",
            "_view_count": null,
            "_view_module": "@jupyter-widgets/base",
            "_view_module_version": "1.2.0",
            "_view_name": "StyleView",
            "description_width": ""
          }
        },
        "fc5a58188cc64897b340085b2237fc57": {
          "model_module": "@jupyter-widgets/controls",
          "model_module_version": "1.5.0",
          "model_name": "DescriptionStyleModel",
          "state": {
            "_model_module": "@jupyter-widgets/controls",
            "_model_module_version": "1.5.0",
            "_model_name": "DescriptionStyleModel",
            "_view_count": null,
            "_view_module": "@jupyter-widgets/base",
            "_view_module_version": "1.2.0",
            "_view_name": "StyleView",
            "description_width": ""
          }
        },
        "fd07096caa074b499f9b9f7c46a68691": {
          "model_module": "@jupyter-widgets/controls",
          "model_module_version": "1.5.0",
          "model_name": "HTMLModel",
          "state": {
            "_dom_classes": [],
            "_model_module": "@jupyter-widgets/controls",
            "_model_module_version": "1.5.0",
            "_model_name": "HTMLModel",
            "_view_count": null,
            "_view_module": "@jupyter-widgets/controls",
            "_view_module_version": "1.5.0",
            "_view_name": "HTMLView",
            "description": "",
            "description_tooltip": null,
            "layout": "IPY_MODEL_c0ae9227c7b948fe91cf42de9c3cde8e",
            "placeholder": "​",
            "style": "IPY_MODEL_39049d1a2a604b21ba299fd258f1fbfb",
            "value": " 226k/226k [00:00&lt;00:00, 803kB/s]"
          }
        },
        "fe72412aa1644a7b92d50aecf4cd1e64": {
          "model_module": "@jupyter-widgets/controls",
          "model_module_version": "1.5.0",
          "model_name": "DescriptionStyleModel",
          "state": {
            "_model_module": "@jupyter-widgets/controls",
            "_model_module_version": "1.5.0",
            "_model_name": "DescriptionStyleModel",
            "_view_count": null,
            "_view_module": "@jupyter-widgets/base",
            "_view_module_version": "1.2.0",
            "_view_name": "StyleView",
            "description_width": ""
          }
        }
      }
    }
  },
  "nbformat": 4,
  "nbformat_minor": 0
}